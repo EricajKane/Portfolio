{
 "cells": [
  {
   "cell_type": "markdown",
   "id": "73bc9548",
   "metadata": {},
   "source": [
    "# Analysis of IMDB Data"
   ]
  },
  {
   "cell_type": "markdown",
   "id": "7679c0c0",
   "metadata": {},
   "source": [
    "We will analyze a subset of IMDB's actors, genres, movie actors, and movie ratings data. This dataset comes to us from Kaggle (https://www.kaggle.com/datasets/ashirwadsangwan/imdb-dataset) although we have taken steps to pull this data into a publis s3 bucket: \n",
    "\n",
    "* s3://cis9760-lecture9-movieanalysis/name.basics.tsv ---> Name Basics\n",
    "* s3://cis9760-lecture9-movieanalysis/title.basics.tsv ---> Title Basics\n",
    "* s3://cis9760-lecture9-movieanalysis/title.principals.tsv ---> Title Principles\n",
    "* s3://cis9760-lecture9-movieanalysis/title.ratings.tsv ---> Title Ratings"
   ]
  },
  {
   "cell_type": "markdown",
   "id": "c1dde3fb",
   "metadata": {},
   "source": [
    "# Content\n",
    "\n",
    "**<br />name.basics.tsv.gz – Contains the following information for names:**\n",
    "<br />nconst (string) - alphanumeric unique identifier of the name/person.\n",
    "<br />primaryName (string)– name by which the person is most often credited.\n",
    "<br />birthYear – in YYYY format.\n",
    "<br />deathYear – in YYYY format if applicable, else .\n",
    "<br />primaryProfession (array of strings)– the top-3 professions of the person.\n",
    "<br />knownForTitles (array of tconsts) – titles the person is known for.\n",
    "<br/><br/>\n",
    "**<br />title.basics.tsv.gz - Contains the following information for titles:**\n",
    "<br />tconst (string) - alphanumeric unique identifier of the title.\n",
    "<br />titleType (string) – the type/format of the title (e.g. movie, short, tvseries, tvepisode, video, etc).\n",
    "<br />primaryTitle (string) – the more popular title / the title used by the filmmakers on promotional materials at the point of release.\n",
    "<br />originalTitle (string) - original title, in the original language.\n",
    "<br />isAdult (boolean) - 0: non-adult title; 1: adult title.\n",
    "<br />startYear (YYYY) – represents the release year of a title. In the case of TV Series, it is the series start year.\n",
    "<br />endYear (YYYY) – TV Series end year. for all other title types.\n",
    "<br />runtimeMinutes – primary runtime of the title, in minutes.\n",
    "<br />genres (string array) – includes up to three genres associated with the title.\n",
    "<br/><br/>\n",
    "**<br />title.principals.tsv – Contains the principal cast/crew for titles:**\n",
    "<br />tconst (string) - alphanumeric unique identifier of the title.\n",
    "<br />ordering (integer) – a number to uniquely identify rows for a given titleId.\n",
    "<br />nconst (string) - alphanumeric unique identifier of the name/person.\n",
    "<br />category (string) - the category of job that person was in.\n",
    "<br />job (string) - the specific job title if applicable, else.\n",
    "<br />characters (string) - the name of the character played if applicable, else.\n",
    "<br/><br/>\n",
    "**<br />title.ratings.tsv.gz – Contains the IMDb rating and votes information for titles:**\n",
    "<br />tconst (string) - alphanumeric unique identifier of the title.\n",
    "<br />averageRating – weighted average of all the individual user ratings.\n",
    "<br />numVotes - number of votes the title has received."
   ]
  },
  {
   "cell_type": "markdown",
   "id": "08416e6e",
   "metadata": {},
   "source": [
    "# PART 1 - Installation and Initial Setup"
   ]
  },
  {
   "cell_type": "markdown",
   "id": "04b07b9f",
   "metadata": {},
   "source": [
    "Begin by installing the necessary libraries that you may need to conduct your analysis. At the very least, you must install pandas and matplotlib"
   ]
  },
  {
   "cell_type": "code",
   "execution_count": 1,
   "id": "0c8b0667",
   "metadata": {
    "execution": {
     "iopub.execute_input": "2023-11-02T20:47:33.509510Z",
     "iopub.status.busy": "2023-11-02T20:47:33.509137Z",
     "iopub.status.idle": "2023-11-02T20:47:33.522713Z",
     "shell.execute_reply": "2023-11-02T20:47:33.522031Z",
     "shell.execute_reply.started": "2023-11-02T20:47:33.509475Z"
    },
    "tags": []
   },
   "outputs": [
    {
     "data": {
      "text/html": [
       "Current session configs: <tt>{'proxyUser': 'user_EMR-User', 'conf': {'spark.pyspark.python': 'python3', 'spark.pyspark.virtualenv.enabled': 'true', 'spark.pyspark.virtualenv.type': 'native', 'spark.pyspark.virtualenv.bin.path': '/usr/bin/virtualenv'}, 'kind': 'pyspark'}</tt><br>"
      ],
      "text/plain": [
       "<IPython.core.display.HTML object>"
      ]
     },
     "metadata": {},
     "output_type": "display_data"
    },
    {
     "data": {
      "text/html": [
       "No active sessions."
      ],
      "text/plain": [
       "<IPython.core.display.HTML object>"
      ]
     },
     "metadata": {},
     "output_type": "display_data"
    }
   ],
   "source": []
  },
  {
   "cell_type": "code",
   "execution_count": 1,
   "id": "bdc3a5d2-c0e5-4eb0-a901-f9c10f4fe71c",
   "metadata": {
    "execution": {
     "iopub.execute_input": "2023-12-13T20:06:54.727165Z",
     "iopub.status.busy": "2023-12-13T20:06:54.726863Z",
     "iopub.status.idle": "2023-12-13T20:06:54.756450Z",
     "shell.execute_reply": "2023-12-13T20:06:54.755665Z",
     "shell.execute_reply.started": "2023-12-13T20:06:54.727137Z"
    },
    "tags": []
   },
   "outputs": [
    {
     "data": {
      "text/html": [
       "Current session configs: <tt>{'proxyUser': 'user_EMR-User', 'conf': {'spark.pyspark.python': 'python3', 'spark.pyspark.virtualenv.enabled': 'true', 'spark.pyspark.virtualenv.type': 'native', 'spark.pyspark.virtualenv.bin.path': '/usr/bin/virtualenv'}, 'kind': 'pyspark'}</tt><br>"
      ],
      "text/plain": [
       "<IPython.core.display.HTML object>"
      ]
     },
     "metadata": {},
     "output_type": "display_data"
    },
    {
     "data": {
      "text/html": [
       "<table>\n<tbody><tr><th>ID</th><th>YARN Application ID</th><th>Kind</th><th>State</th><th>Spark UI</th><th>Driver log</th><th>User</th><th>Current session?</th></tr><tr><td>2</td><td>application_1702489817810_0003</td><td>pyspark</td><td>idle</td><td><a target=\"_blank\" href=\"http://ip-172-31-26-55.us-east-2.compute.internal:20888/proxy/application_1702489817810_0003/\" class=\"emr-proxy-link j-3FUMOIASX0ZYU application_1702489817810_0003\" emr-resource=\"j-3FUMOIASX0ZYU\n\" application-id=\"application_1702489817810_0003\">Link</a></td><td><a target=\"_blank\" href=\"http://ip-172-31-22-171.us-east-2.compute.internal:8042/node/containerlogs/container_1702489817810_0003_01_000001/livy\">Link</a></td><td>None</td><td></td></tr></tbody></table>"
      ],
      "text/plain": [
       "<IPython.core.display.HTML object>"
      ]
     },
     "metadata": {},
     "output_type": "display_data"
    }
   ],
   "source": [
    "%%info\n",
    "\n"
   ]
  },
  {
   "cell_type": "code",
   "execution_count": 2,
   "id": "f946eb8b-3868-4aa0-8539-d87cda15f72f",
   "metadata": {
    "execution": {
     "iopub.execute_input": "2023-12-13T20:06:58.063342Z",
     "iopub.status.busy": "2023-12-13T20:06:58.063106Z",
     "iopub.status.idle": "2023-12-13T20:07:35.909016Z",
     "shell.execute_reply": "2023-12-13T20:07:35.908249Z",
     "shell.execute_reply.started": "2023-12-13T20:06:58.063318Z"
    },
    "tags": []
   },
   "outputs": [
    {
     "data": {
      "application/vnd.jupyter.widget-view+json": {
       "model_id": "025b060ab6cd46bcbb25d08f288b3530",
       "version_major": 2,
       "version_minor": 0
      },
      "text/plain": [
       "VBox()"
      ]
     },
     "metadata": {},
     "output_type": "display_data"
    },
    {
     "name": "stdout",
     "output_type": "stream",
     "text": [
      "Starting Spark application\n"
     ]
    },
    {
     "data": {
      "text/html": [
       "<table>\n<tbody><tr><th>ID</th><th>YARN Application ID</th><th>Kind</th><th>State</th><th>Spark UI</th><th>Driver log</th><th>User</th><th>Current session?</th></tr><tr><td>3</td><td>application_1702489817810_0004</td><td>pyspark</td><td>idle</td><td><a target=\"_blank\" href=\"http://ip-172-31-26-55.us-east-2.compute.internal:20888/proxy/application_1702489817810_0004/\" class=\"emr-proxy-link j-3FUMOIASX0ZYU application_1702489817810_0004\" emr-resource=\"j-3FUMOIASX0ZYU\n\" application-id=\"application_1702489817810_0004\">Link</a></td><td><a target=\"_blank\" href=\"http://ip-172-31-24-178.us-east-2.compute.internal:8042/node/containerlogs/container_1702489817810_0004_01_000001/livy\">Link</a></td><td>None</td><td>✔</td></tr></tbody></table>"
      ],
      "text/plain": [
       "<IPython.core.display.HTML object>"
      ]
     },
     "metadata": {},
     "output_type": "display_data"
    },
    {
     "data": {
      "application/vnd.jupyter.widget-view+json": {
       "model_id": "",
       "version_major": 2,
       "version_minor": 0
      },
      "text/plain": [
       "FloatProgress(value=0.0, bar_style='info', description='Progress:', layout=Layout(height='25px', width='50%'),…"
      ]
     },
     "metadata": {},
     "output_type": "display_data"
    },
    {
     "name": "stdout",
     "output_type": "stream",
     "text": [
      "SparkSession available as 'spark'.\n"
     ]
    },
    {
     "data": {
      "application/vnd.jupyter.widget-view+json": {
       "model_id": "",
       "version_major": 2,
       "version_minor": 0
      },
      "text/plain": [
       "FloatProgress(value=0.0, bar_style='info', description='Progress:', layout=Layout(height='25px', width='50%'),…"
      ]
     },
     "metadata": {},
     "output_type": "display_data"
    },
    {
     "name": "stdout",
     "output_type": "stream",
     "text": [
      "Collecting pandas==1.0.5\n",
      "  Downloading pandas-1.0.5-cp37-cp37m-manylinux1_x86_64.whl (10.1 MB)\n",
      "Collecting python-dateutil>=2.6.1\n",
      "  Downloading python_dateutil-2.8.2-py2.py3-none-any.whl (247 kB)\n",
      "Requirement already satisfied: pytz>=2017.2 in /usr/local/lib/python3.7/site-packages (from pandas==1.0.5) (2023.3.post1)\n",
      "Requirement already satisfied: numpy>=1.13.3 in /usr/local/lib64/python3.7/site-packages (from pandas==1.0.5) (1.20.0)\n",
      "Requirement already satisfied: six>=1.5 in /usr/local/lib/python3.7/site-packages (from python-dateutil>=2.6.1->pandas==1.0.5) (1.13.0)\n",
      "Installing collected packages: python-dateutil, pandas\n",
      "Successfully installed pandas-1.0.5 python-dateutil-2.8.2\n",
      "\n",
      "Collecting matplotlib==3.2.1\n",
      "  Downloading matplotlib-3.2.1-cp37-cp37m-manylinux1_x86_64.whl (12.4 MB)\n",
      "Collecting cycler>=0.10\n",
      "  Downloading cycler-0.11.0-py3-none-any.whl (6.4 kB)\n",
      "Collecting pyparsing!=2.0.4,!=2.1.2,!=2.1.6,>=2.0.1\n",
      "  Downloading pyparsing-3.1.1-py3-none-any.whl (103 kB)\n",
      "Requirement already satisfied: numpy>=1.11 in /usr/local/lib64/python3.7/site-packages (from matplotlib==3.2.1) (1.20.0)\n",
      "Requirement already satisfied: python-dateutil>=2.1 in ./tmp/spark-04aaf220-7e28-435f-9a25-81fe29ff5426/lib/python3.7/site-packages (from matplotlib==3.2.1) (2.8.2)\n",
      "Collecting kiwisolver>=1.0.1\n",
      "  Downloading kiwisolver-1.4.5-cp37-cp37m-manylinux_2_5_x86_64.manylinux1_x86_64.whl (1.1 MB)\n",
      "Requirement already satisfied: six>=1.5 in /usr/local/lib/python3.7/site-packages (from python-dateutil>=2.1->matplotlib==3.2.1) (1.13.0)\n",
      "Collecting typing-extensions; python_version < \"3.8\"\n",
      "  Downloading typing_extensions-4.7.1-py3-none-any.whl (33 kB)\n",
      "Installing collected packages: cycler, pyparsing, typing-extensions, kiwisolver, matplotlib\n",
      "Successfully installed cycler-0.11.0 kiwisolver-1.4.5 matplotlib-3.2.1 pyparsing-3.1.1 typing-extensions-4.7.1\n",
      "\n",
      "WARNING: The directory '/home/.cache/pip' or its parent directory is not owned or is not writable by the current user. The cache has been disabled. Check the permissions and owner of that directory. If executing pip with sudo, you may want sudo's -H flag.\n",
      "\n",
      "WARNING: The directory '/home/.cache/pip' or its parent directory is not owned or is not writable by the current user. The cache has been disabled. Check the permissions and owner of that directory. If executing pip with sudo, you may want sudo's -H flag."
     ]
    }
   ],
   "source": [
    "sc.install_pypi_package(\"pandas==1.0.5\")\n",
    "sc.install_pypi_package(\"matplotlib==3.2.1\")"
   ]
  },
  {
   "cell_type": "markdown",
   "id": "1fc39c6b",
   "metadata": {},
   "source": [
    "Let's install the necessary packages here"
   ]
  },
  {
   "cell_type": "code",
   "execution_count": 2,
   "id": "e0a576cf",
   "metadata": {
    "execution": {
     "iopub.execute_input": "2023-11-02T20:47:35.765920Z",
     "iopub.status.busy": "2023-11-02T20:47:35.765692Z",
     "iopub.status.idle": "2023-11-02T20:48:23.646415Z",
     "shell.execute_reply": "2023-11-02T20:48:23.645682Z",
     "shell.execute_reply.started": "2023-11-02T20:47:35.765895Z"
    },
    "tags": []
   },
   "outputs": [
    {
     "data": {
      "application/vnd.jupyter.widget-view+json": {
       "model_id": "2e589a8d461e43bfba4e5b339e422f69",
       "version_major": 2,
       "version_minor": 0
      },
      "text/plain": [
       "VBox()"
      ]
     },
     "metadata": {},
     "output_type": "display_data"
    },
    {
     "name": "stdout",
     "output_type": "stream",
     "text": [
      "Starting Spark application\n"
     ]
    },
    {
     "data": {
      "text/html": [
       "<table>\n",
       "<tbody><tr><th>ID</th><th>YARN Application ID</th><th>Kind</th><th>State</th><th>Spark UI</th><th>Driver log</th><th>User</th><th>Current session?</th></tr><tr><td>4</td><td>application_1698945703872_0005</td><td>pyspark</td><td>idle</td><td><a target=\"_blank\" href=\"http://ip-172-31-34-126.us-east-2.compute.internal:20888/proxy/application_1698945703872_0005/\" class=\"emr-proxy-link j-BQL82J75LHNK application_1698945703872_0005\" emr-resource=\"j-BQL82J75LHNK\n",
       "\" application-id=\"application_1698945703872_0005\">Link</a></td><td><a target=\"_blank\" href=\"http://ip-172-31-33-175.us-east-2.compute.internal:8042/node/containerlogs/container_1698945703872_0005_01_000001/livy\">Link</a></td><td>None</td><td>✔</td></tr></tbody></table>"
      ],
      "text/plain": [
       "<IPython.core.display.HTML object>"
      ]
     },
     "metadata": {},
     "output_type": "display_data"
    },
    {
     "data": {
      "application/vnd.jupyter.widget-view+json": {
       "model_id": "",
       "version_major": 2,
       "version_minor": 0
      },
      "text/plain": [
       "FloatProgress(value=0.0, bar_style='info', description='Progress:', layout=Layout(height='25px', width='50%'),…"
      ]
     },
     "metadata": {},
     "output_type": "display_data"
    },
    {
     "name": "stdout",
     "output_type": "stream",
     "text": [
      "SparkSession available as 'spark'.\n"
     ]
    },
    {
     "data": {
      "application/vnd.jupyter.widget-view+json": {
       "model_id": "",
       "version_major": 2,
       "version_minor": 0
      },
      "text/plain": [
       "FloatProgress(value=0.0, bar_style='info', description='Progress:', layout=Layout(height='25px', width='50%'),…"
      ]
     },
     "metadata": {},
     "output_type": "display_data"
    },
    {
     "name": "stdout",
     "output_type": "stream",
     "text": [
      "Collecting pandas==1.0.5\n",
      "  Downloading pandas-1.0.5-cp37-cp37m-manylinux1_x86_64.whl (10.1 MB)\n",
      "Collecting python-dateutil>=2.6.1\n",
      "  Downloading python_dateutil-2.8.2-py2.py3-none-any.whl (247 kB)\n",
      "Requirement already satisfied: pytz>=2017.2 in /usr/local/lib/python3.7/site-packages (from pandas==1.0.5) (2023.3.post1)\n",
      "Requirement already satisfied: numpy>=1.13.3 in /usr/local/lib64/python3.7/site-packages (from pandas==1.0.5) (1.20.0)\n",
      "Requirement already satisfied: six>=1.5 in /usr/local/lib/python3.7/site-packages (from python-dateutil>=2.6.1->pandas==1.0.5) (1.13.0)\n",
      "Installing collected packages: python-dateutil, pandas\n",
      "Successfully installed pandas-1.0.5 python-dateutil-2.8.2\n",
      "\n",
      "Collecting matplotlib==3.2.1\n",
      "  Downloading matplotlib-3.2.1-cp37-cp37m-manylinux1_x86_64.whl (12.4 MB)\n",
      "Collecting cycler>=0.10\n",
      "  Downloading cycler-0.11.0-py3-none-any.whl (6.4 kB)\n",
      "Collecting pyparsing!=2.0.4,!=2.1.2,!=2.1.6,>=2.0.1\n",
      "  Downloading pyparsing-3.1.1-py3-none-any.whl (103 kB)\n",
      "Requirement already satisfied: numpy>=1.11 in /usr/local/lib64/python3.7/site-packages (from matplotlib==3.2.1) (1.20.0)\n",
      "Requirement already satisfied: python-dateutil>=2.1 in ./tmp/spark-29f5af80-7504-4a54-81fa-e5b663c6f2c3/lib/python3.7/site-packages (from matplotlib==3.2.1) (2.8.2)\n",
      "Collecting kiwisolver>=1.0.1\n",
      "  Downloading kiwisolver-1.4.5-cp37-cp37m-manylinux_2_5_x86_64.manylinux1_x86_64.whl (1.1 MB)\n",
      "Requirement already satisfied: six>=1.5 in /usr/local/lib/python3.7/site-packages (from python-dateutil>=2.1->matplotlib==3.2.1) (1.13.0)\n",
      "Collecting typing-extensions; python_version < \"3.8\"\n",
      "  Downloading typing_extensions-4.7.1-py3-none-any.whl (33 kB)\n",
      "Installing collected packages: cycler, pyparsing, typing-extensions, kiwisolver, matplotlib\n",
      "Successfully installed cycler-0.11.0 kiwisolver-1.4.5 matplotlib-3.2.1 pyparsing-3.1.1 typing-extensions-4.7.1\n",
      "\n",
      "WARNING: The directory '/home/.cache/pip' or its parent directory is not owned or is not writable by the current user. The cache has been disabled. Check the permissions and owner of that directory. If executing pip with sudo, you may want sudo's -H flag.\n",
      "\n",
      "WARNING: The directory '/home/.cache/pip' or its parent directory is not owned or is not writable by the current user. The cache has been disabled. Check the permissions and owner of that directory. If executing pip with sudo, you may want sudo's -H flag."
     ]
    }
   ],
   "source": []
  },
  {
   "cell_type": "code",
   "execution_count": 3,
   "id": "0ea694a3-79d1-4792-9b90-0fbff07f3d73",
   "metadata": {
    "execution": {
     "iopub.execute_input": "2023-12-13T20:07:35.910222Z",
     "iopub.status.busy": "2023-12-13T20:07:35.910062Z",
     "iopub.status.idle": "2023-12-13T20:07:38.179527Z",
     "shell.execute_reply": "2023-12-13T20:07:38.178739Z",
     "shell.execute_reply.started": "2023-12-13T20:07:35.910202Z"
    },
    "tags": []
   },
   "outputs": [
    {
     "data": {
      "application/vnd.jupyter.widget-view+json": {
       "model_id": "74e80d26169a43d68c07cfd3d3bf0e6a",
       "version_major": 2,
       "version_minor": 0
      },
      "text/plain": [
       "VBox()"
      ]
     },
     "metadata": {},
     "output_type": "display_data"
    },
    {
     "data": {
      "application/vnd.jupyter.widget-view+json": {
       "model_id": "",
       "version_major": 2,
       "version_minor": 0
      },
      "text/plain": [
       "FloatProgress(value=0.0, bar_style='info', description='Progress:', layout=Layout(height='25px', width='50%'),…"
      ]
     },
     "metadata": {},
     "output_type": "display_data"
    }
   ],
   "source": [
    "import pandas as pd\n",
    "import matplotlib.pyplot as plt\n",
    "import numpy as np\n",
    "from pyspark.sql.functions import *\n"
   ]
  },
  {
   "cell_type": "markdown",
   "id": "5ab05754",
   "metadata": {},
   "source": [
    "Now, import the installed packages from the previous block below."
   ]
  },
  {
   "cell_type": "code",
   "execution_count": 3,
   "id": "6d0a7012",
   "metadata": {
    "execution": {
     "iopub.execute_input": "2023-11-02T20:48:31.450598Z",
     "iopub.status.busy": "2023-11-02T20:48:31.450360Z",
     "iopub.status.idle": "2023-11-02T20:48:33.719335Z",
     "shell.execute_reply": "2023-11-02T20:48:33.718713Z",
     "shell.execute_reply.started": "2023-11-02T20:48:31.450573Z"
    },
    "tags": []
   },
   "outputs": [
    {
     "data": {
      "application/vnd.jupyter.widget-view+json": {
       "model_id": "6d847141134e465db24a3bc938da6ca5",
       "version_major": 2,
       "version_minor": 0
      },
      "text/plain": [
       "VBox()"
      ]
     },
     "metadata": {},
     "output_type": "display_data"
    },
    {
     "data": {
      "application/vnd.jupyter.widget-view+json": {
       "model_id": "",
       "version_major": 2,
       "version_minor": 0
      },
      "text/plain": [
       "FloatProgress(value=0.0, bar_style='info', description='Progress:', layout=Layout(height='25px', width='50%'),…"
      ]
     },
     "metadata": {},
     "output_type": "display_data"
    }
   ],
   "source": []
  },
  {
   "cell_type": "markdown",
   "id": "e963f4ba",
   "metadata": {},
   "source": [
    "# Loading Data"
   ]
  },
  {
   "cell_type": "markdown",
   "id": "b4356189",
   "metadata": {},
   "source": [
    "Load all data from S3 into a Spark dataframe object "
   ]
  },
  {
   "cell_type": "code",
   "execution_count": 5,
   "id": "3326e989-ef36-47e5-9784-e95c60f2368b",
   "metadata": {
    "execution": {
     "iopub.execute_input": "2023-12-13T20:09:41.379783Z",
     "iopub.status.busy": "2023-12-13T20:09:41.379541Z",
     "iopub.status.idle": "2023-12-13T20:12:17.067162Z",
     "shell.execute_reply": "2023-12-13T20:12:17.066495Z",
     "shell.execute_reply.started": "2023-12-13T20:09:41.379757Z"
    },
    "tags": []
   },
   "outputs": [
    {
     "data": {
      "application/vnd.jupyter.widget-view+json": {
       "model_id": "bde25633c5644d3282ce35ba41b3de14",
       "version_major": 2,
       "version_minor": 0
      },
      "text/plain": [
       "VBox()"
      ]
     },
     "metadata": {},
     "output_type": "display_data"
    },
    {
     "data": {
      "application/vnd.jupyter.widget-view+json": {
       "model_id": "",
       "version_major": 2,
       "version_minor": 0
      },
      "text/plain": [
       "FloatProgress(value=0.0, bar_style='info', description='Progress:', layout=Layout(height='25px', width='50%'),…"
      ]
     },
     "metadata": {},
     "output_type": "display_data"
    }
   ],
   "source": [
    "name = spark.read.csv('s3://cis9760-lecture9-movieanalysis/name.basics.tsv', sep=r'\\t', header=True)\n",
    "title = spark.read.csv('s3://cis9760-lecture9-movieanalysis/title.basics.tsv', sep=r'\\t', header=True)\n",
    "principals = spark.read.csv('s3://cis9760-lecture9-movieanalysis/title.principals.tsv', sep=r'\\t', header=True)\n",
    "ratings = spark.read.csv('s3://cis9760-lecture9-movieanalysis/title.ratings.tsv', sep=r'\\t', header=True)\n"
   ]
  },
  {
   "cell_type": "code",
   "execution_count": 6,
   "id": "465c45d2-8533-44e1-a1f5-7ade673c6e9a",
   "metadata": {
    "execution": {
     "iopub.execute_input": "2023-12-13T20:12:26.122041Z",
     "iopub.status.busy": "2023-12-13T20:12:26.121808Z",
     "iopub.status.idle": "2023-12-13T20:12:26.373550Z",
     "shell.execute_reply": "2023-12-13T20:12:26.372897Z",
     "shell.execute_reply.started": "2023-12-13T20:12:26.122005Z"
    },
    "tags": []
   },
   "outputs": [
    {
     "data": {
      "application/vnd.jupyter.widget-view+json": {
       "model_id": "6244331071c84437a734f01c05285749",
       "version_major": 2,
       "version_minor": 0
      },
      "text/plain": [
       "VBox()"
      ]
     },
     "metadata": {},
     "output_type": "display_data"
    },
    {
     "data": {
      "application/vnd.jupyter.widget-view+json": {
       "model_id": "",
       "version_major": 2,
       "version_minor": 0
      },
      "text/plain": [
       "FloatProgress(value=0.0, bar_style='info', description='Progress:', layout=Layout(height='25px', width='50%'),…"
      ]
     },
     "metadata": {},
     "output_type": "display_data"
    }
   ],
   "source": [
    "name.createOrReplaceTempView('Name')\n",
    "title.createOrReplaceTempView('Title')\n",
    "principals.createOrReplaceTempView('Principals')\n",
    "ratings.createOrReplaceTempView('Ratings')\n"
   ]
  },
  {
   "cell_type": "code",
   "execution_count": 4,
   "id": "24beddd1",
   "metadata": {
    "execution": {
     "iopub.execute_input": "2023-11-02T20:48:33.720553Z",
     "iopub.status.busy": "2023-11-02T20:48:33.720379Z",
     "iopub.status.idle": "2023-11-02T20:48:43.012062Z",
     "shell.execute_reply": "2023-11-02T20:48:43.011439Z",
     "shell.execute_reply.started": "2023-11-02T20:48:33.720533Z"
    },
    "tags": []
   },
   "outputs": [
    {
     "data": {
      "application/vnd.jupyter.widget-view+json": {
       "model_id": "fb8f978197254b778641371bb4a917d9",
       "version_major": 2,
       "version_minor": 0
      },
      "text/plain": [
       "VBox()"
      ]
     },
     "metadata": {},
     "output_type": "display_data"
    },
    {
     "data": {
      "application/vnd.jupyter.widget-view+json": {
       "model_id": "",
       "version_major": 2,
       "version_minor": 0
      },
      "text/plain": [
       "FloatProgress(value=0.0, bar_style='info', description='Progress:', layout=Layout(height='25px', width='50%'),…"
      ]
     },
     "metadata": {},
     "output_type": "display_data"
    }
   ],
   "source": []
  },
  {
   "cell_type": "markdown",
   "id": "c65401c7",
   "metadata": {},
   "source": [
    "## Name Basics"
   ]
  },
  {
   "cell_type": "code",
   "execution_count": 7,
   "id": "d38eb693-c7ea-49b6-bb57-837c3ac580b2",
   "metadata": {
    "execution": {
     "iopub.execute_input": "2023-12-13T20:12:31.116368Z",
     "iopub.status.busy": "2023-12-13T20:12:31.116153Z",
     "iopub.status.idle": "2023-12-13T20:12:31.162092Z",
     "shell.execute_reply": "2023-12-13T20:12:31.161550Z",
     "shell.execute_reply.started": "2023-12-13T20:12:31.116344Z"
    },
    "tags": []
   },
   "outputs": [
    {
     "data": {
      "application/vnd.jupyter.widget-view+json": {
       "model_id": "60e90e9db1eb41f9b900a8b0b9048419",
       "version_major": 2,
       "version_minor": 0
      },
      "text/plain": [
       "VBox()"
      ]
     },
     "metadata": {},
     "output_type": "display_data"
    },
    {
     "data": {
      "application/vnd.jupyter.widget-view+json": {
       "model_id": "",
       "version_major": 2,
       "version_minor": 0
      },
      "text/plain": [
       "FloatProgress(value=0.0, bar_style='info', description='Progress:', layout=Layout(height='25px', width='50%'),…"
      ]
     },
     "metadata": {},
     "output_type": "display_data"
    },
    {
     "name": "stdout",
     "output_type": "stream",
     "text": [
      "root\n",
      " |-- nconst: string (nullable = true)\n",
      " |-- primaryName: string (nullable = true)\n",
      " |-- birthYear: string (nullable = true)\n",
      " |-- deathYear: string (nullable = true)\n",
      " |-- primaryProfession: string (nullable = true)\n",
      " |-- knownForTitles: string (nullable = true)"
     ]
    }
   ],
   "source": [
    "name.printSchema()"
   ]
  },
  {
   "cell_type": "markdown",
   "id": "03981851",
   "metadata": {},
   "source": [
    "Display the schema below:"
   ]
  },
  {
   "cell_type": "code",
   "execution_count": 5,
   "id": "98b95e51",
   "metadata": {
    "execution": {
     "iopub.execute_input": "2023-11-02T20:48:43.013522Z",
     "iopub.status.busy": "2023-11-02T20:48:43.013343Z",
     "iopub.status.idle": "2023-11-02T20:48:43.263539Z",
     "shell.execute_reply": "2023-11-02T20:48:43.262802Z",
     "shell.execute_reply.started": "2023-11-02T20:48:43.013502Z"
    },
    "tags": []
   },
   "outputs": [
    {
     "data": {
      "application/vnd.jupyter.widget-view+json": {
       "model_id": "c57233f9f26e402a8273983c2cde356d",
       "version_major": 2,
       "version_minor": 0
      },
      "text/plain": [
       "VBox()"
      ]
     },
     "metadata": {},
     "output_type": "display_data"
    },
    {
     "data": {
      "application/vnd.jupyter.widget-view+json": {
       "model_id": "",
       "version_major": 2,
       "version_minor": 0
      },
      "text/plain": [
       "FloatProgress(value=0.0, bar_style='info', description='Progress:', layout=Layout(height='25px', width='50%'),…"
      ]
     },
     "metadata": {},
     "output_type": "display_data"
    },
    {
     "name": "stdout",
     "output_type": "stream",
     "text": [
      "root\n",
      " |-- nconst: string (nullable = true)\n",
      " |-- primaryName: string (nullable = true)\n",
      " |-- birthYear: string (nullable = true)\n",
      " |-- deathYear: string (nullable = true)\n",
      " |-- primaryProfession: string (nullable = true)\n",
      " |-- knownForTitles: string (nullable = true)"
     ]
    }
   ],
   "source": []
  },
  {
   "cell_type": "markdown",
   "id": "dfd8a219",
   "metadata": {},
   "source": [
    "Display the first 5 rows with the following columns:\n",
    "\n",
    "* `primaryName`\n",
    "* `birthYear`\n",
    "* `deathYear`\n",
    "* `knownForTitles`"
   ]
  },
  {
   "cell_type": "code",
   "execution_count": 8,
   "id": "4db32f61-f7ca-4dea-8083-c972f48106ef",
   "metadata": {
    "execution": {
     "iopub.execute_input": "2023-12-13T20:12:35.481995Z",
     "iopub.status.busy": "2023-12-13T20:12:35.481762Z",
     "iopub.status.idle": "2023-12-13T20:12:36.244970Z",
     "shell.execute_reply": "2023-12-13T20:12:36.244212Z",
     "shell.execute_reply.started": "2023-12-13T20:12:35.481968Z"
    },
    "tags": []
   },
   "outputs": [
    {
     "data": {
      "application/vnd.jupyter.widget-view+json": {
       "model_id": "4a11203b701b4af3a3e96726fedd1fa1",
       "version_major": 2,
       "version_minor": 0
      },
      "text/plain": [
       "VBox()"
      ]
     },
     "metadata": {},
     "output_type": "display_data"
    },
    {
     "data": {
      "application/vnd.jupyter.widget-view+json": {
       "model_id": "",
       "version_major": 2,
       "version_minor": 0
      },
      "text/plain": [
       "FloatProgress(value=0.0, bar_style='info', description='Progress:', layout=Layout(height='25px', width='50%'),…"
      ]
     },
     "metadata": {},
     "output_type": "display_data"
    },
    {
     "name": "stdout",
     "output_type": "stream",
     "text": [
      "+---------------+---------+---------+--------------------+\n",
      "|    primaryName|birthYear|deathYear|      knownForTitles|\n",
      "+---------------+---------+---------+--------------------+\n",
      "|   Fred Astaire|     1899|     1987|tt0050419,tt00531...|\n",
      "|  Lauren Bacall|     1924|     2014|tt0071877,tt01170...|\n",
      "|Brigitte Bardot|     1934|       \\N|tt0054452,tt00491...|\n",
      "|   John Belushi|     1949|     1982|tt0077975,tt00725...|\n",
      "| Ingmar Bergman|     1918|     2007|tt0069467,tt00509...|\n",
      "+---------------+---------+---------+--------------------+"
     ]
    }
   ],
   "source": [
    "name5 = spark.sql(\n",
    "'''\n",
    "SELECT primaryName, birthYear, deathYear, knownForTitles\n",
    "FROM Name\n",
    "LIMIT 5\n",
    "''')\n",
    "name5.show()\n"
   ]
  },
  {
   "cell_type": "code",
   "execution_count": 6,
   "id": "29db2340",
   "metadata": {
    "execution": {
     "iopub.execute_input": "2023-11-02T20:48:43.264920Z",
     "iopub.status.busy": "2023-11-02T20:48:43.264753Z",
     "iopub.status.idle": "2023-11-02T20:48:44.029171Z",
     "shell.execute_reply": "2023-11-02T20:48:44.028461Z",
     "shell.execute_reply.started": "2023-11-02T20:48:43.264899Z"
    },
    "tags": []
   },
   "outputs": [
    {
     "data": {
      "application/vnd.jupyter.widget-view+json": {
       "model_id": "4ef1ad8836f2460597b2f68a74f8c074",
       "version_major": 2,
       "version_minor": 0
      },
      "text/plain": [
       "VBox()"
      ]
     },
     "metadata": {},
     "output_type": "display_data"
    },
    {
     "data": {
      "application/vnd.jupyter.widget-view+json": {
       "model_id": "",
       "version_major": 2,
       "version_minor": 0
      },
      "text/plain": [
       "FloatProgress(value=0.0, bar_style='info', description='Progress:', layout=Layout(height='25px', width='50%'),…"
      ]
     },
     "metadata": {},
     "output_type": "display_data"
    },
    {
     "name": "stdout",
     "output_type": "stream",
     "text": [
      "+---------------+---------+---------+--------------------+\n",
      "|    primaryName|birthYear|deathYear|      knownForTitles|\n",
      "+---------------+---------+---------+--------------------+\n",
      "|   Fred Astaire|     1899|     1987|tt0050419,tt00531...|\n",
      "|  Lauren Bacall|     1924|     2014|tt0071877,tt01170...|\n",
      "|Brigitte Bardot|     1934|       \\N|tt0054452,tt00491...|\n",
      "|   John Belushi|     1949|     1982|tt0077975,tt00725...|\n",
      "| Ingmar Bergman|     1918|     2007|tt0069467,tt00509...|\n",
      "+---------------+---------+---------+--------------------+\n",
      "only showing top 5 rows"
     ]
    }
   ],
   "source": []
  },
  {
   "cell_type": "markdown",
   "id": "65371453",
   "metadata": {},
   "source": [
    "## Title Basics"
   ]
  },
  {
   "cell_type": "markdown",
   "id": "b95d8c5a",
   "metadata": {},
   "source": [
    "Display the first 15 rows with the following columns:\n",
    "    \n",
    "* `titleType`\n",
    "* `primaryTitle`\n",
    "* `genres`"
   ]
  },
  {
   "cell_type": "code",
   "execution_count": 7,
   "id": "74c95177",
   "metadata": {
    "execution": {
     "iopub.execute_input": "2023-11-02T20:48:44.030636Z",
     "iopub.status.busy": "2023-11-02T20:48:44.030374Z",
     "iopub.status.idle": "2023-11-02T20:48:44.789382Z",
     "shell.execute_reply": "2023-11-02T20:48:44.788579Z",
     "shell.execute_reply.started": "2023-11-02T20:48:44.030583Z"
    },
    "tags": []
   },
   "outputs": [
    {
     "data": {
      "application/vnd.jupyter.widget-view+json": {
       "model_id": "27243f02190443e685736c09edbb3eca",
       "version_major": 2,
       "version_minor": 0
      },
      "text/plain": [
       "VBox()"
      ]
     },
     "metadata": {},
     "output_type": "display_data"
    },
    {
     "data": {
      "application/vnd.jupyter.widget-view+json": {
       "model_id": "",
       "version_major": 2,
       "version_minor": 0
      },
      "text/plain": [
       "FloatProgress(value=0.0, bar_style='info', description='Progress:', layout=Layout(height='25px', width='50%'),…"
      ]
     },
     "metadata": {},
     "output_type": "display_data"
    },
    {
     "name": "stdout",
     "output_type": "stream",
     "text": [
      "+---------+--------------------+--------------------+\n",
      "|titleType|        primaryTitle|              genres|\n",
      "+---------+--------------------+--------------------+\n",
      "|    short|          Carmencita|   Documentary,Short|\n",
      "|    short|Le clown et ses c...|     Animation,Short|\n",
      "|    short|      Pauvre Pierrot|Animation,Comedy,...|\n",
      "|    short|         Un bon bock|     Animation,Short|\n",
      "|    short|    Blacksmith Scene|        Comedy,Short|\n",
      "|    short|   Chinese Opium Den|               Short|\n",
      "|    short|Corbett and Court...|         Short,Sport|\n",
      "|    short|Edison Kinetoscop...|   Documentary,Short|\n",
      "|    movie|          Miss Jerry|             Romance|\n",
      "|    short| Exiting the Factory|   Documentary,Short|\n",
      "|    short|Akrobatisches Pot...|   Documentary,Short|\n",
      "|    short|The Arrival of a ...|Action,Documentar...|\n",
      "|    short|The Photographica...|   Documentary,Short|\n",
      "|    short|The Sprinkler Spr...|        Comedy,Short|\n",
      "|    short| Autour d'une cabine|     Animation,Short|\n",
      "+---------+--------------------+--------------------+\n",
      "only showing top 15 rows"
     ]
    }
   ],
   "source": []
  },
  {
   "cell_type": "code",
   "execution_count": 9,
   "id": "6d18cea9-5fbe-4501-bba0-280b4abf7b44",
   "metadata": {
    "execution": {
     "iopub.execute_input": "2023-12-13T20:12:44.996770Z",
     "iopub.status.busy": "2023-12-13T20:12:44.996516Z",
     "iopub.status.idle": "2023-12-13T20:12:45.757153Z",
     "shell.execute_reply": "2023-12-13T20:12:45.756390Z",
     "shell.execute_reply.started": "2023-12-13T20:12:44.996747Z"
    },
    "tags": []
   },
   "outputs": [
    {
     "data": {
      "application/vnd.jupyter.widget-view+json": {
       "model_id": "84d08deb4a9041599dc3cf43ef908c34",
       "version_major": 2,
       "version_minor": 0
      },
      "text/plain": [
       "VBox()"
      ]
     },
     "metadata": {},
     "output_type": "display_data"
    },
    {
     "data": {
      "application/vnd.jupyter.widget-view+json": {
       "model_id": "",
       "version_major": 2,
       "version_minor": 0
      },
      "text/plain": [
       "FloatProgress(value=0.0, bar_style='info', description='Progress:', layout=Layout(height='25px', width='50%'),…"
      ]
     },
     "metadata": {},
     "output_type": "display_data"
    },
    {
     "name": "stdout",
     "output_type": "stream",
     "text": [
      "+---------+--------------------+--------------------+\n",
      "|titleType|        primaryTitle|              genres|\n",
      "+---------+--------------------+--------------------+\n",
      "|    short|          Carmencita|   Documentary,Short|\n",
      "|    short|Le clown et ses c...|     Animation,Short|\n",
      "|    short|      Pauvre Pierrot|Animation,Comedy,...|\n",
      "|    short|         Un bon bock|     Animation,Short|\n",
      "|    short|    Blacksmith Scene|        Comedy,Short|\n",
      "|    short|   Chinese Opium Den|               Short|\n",
      "|    short|Corbett and Court...|         Short,Sport|\n",
      "|    short|Edison Kinetoscop...|   Documentary,Short|\n",
      "|    movie|          Miss Jerry|             Romance|\n",
      "|    short| Exiting the Factory|   Documentary,Short|\n",
      "|    short|Akrobatisches Pot...|   Documentary,Short|\n",
      "|    short|The Arrival of a ...|Action,Documentar...|\n",
      "|    short|The Photographica...|   Documentary,Short|\n",
      "|    short|The Sprinkler Spr...|        Comedy,Short|\n",
      "|    short| Autour d'une cabine|     Animation,Short|\n",
      "+---------+--------------------+--------------------+"
     ]
    }
   ],
   "source": [
    "title15 = spark.sql(\n",
    "'''\n",
    "SELECT titleType, primaryTitle, genres\n",
    "FROM Title\n",
    "LIMIT 15\n",
    "''')\n",
    "title15.show()\n"
   ]
  },
  {
   "cell_type": "markdown",
   "id": "f3852bb4",
   "metadata": {},
   "source": [
    "Display the unique titles below:"
   ]
  },
  {
   "cell_type": "code",
   "execution_count": 8,
   "id": "2a28caff",
   "metadata": {
    "execution": {
     "iopub.execute_input": "2023-11-02T20:48:44.790518Z",
     "iopub.status.busy": "2023-11-02T20:48:44.790338Z",
     "iopub.status.idle": "2023-11-02T20:48:54.118054Z",
     "shell.execute_reply": "2023-11-02T20:48:54.117423Z",
     "shell.execute_reply.started": "2023-11-02T20:48:44.790496Z"
    },
    "tags": []
   },
   "outputs": [
    {
     "data": {
      "application/vnd.jupyter.widget-view+json": {
       "model_id": "a736f71ab868470b8b0d642eadc4cd2c",
       "version_major": 2,
       "version_minor": 0
      },
      "text/plain": [
       "VBox()"
      ]
     },
     "metadata": {},
     "output_type": "display_data"
    },
    {
     "data": {
      "application/vnd.jupyter.widget-view+json": {
       "model_id": "",
       "version_major": 2,
       "version_minor": 0
      },
      "text/plain": [
       "FloatProgress(value=0.0, bar_style='info', description='Progress:', layout=Layout(height='25px', width='50%'),…"
      ]
     },
     "metadata": {},
     "output_type": "display_data"
    },
    {
     "name": "stdout",
     "output_type": "stream",
     "text": [
      "+------------+\n",
      "|   titleType|\n",
      "+------------+\n",
      "|    tvSeries|\n",
      "|tvMiniSeries|\n",
      "|       movie|\n",
      "|   videoGame|\n",
      "|   tvSpecial|\n",
      "|       video|\n",
      "|     tvMovie|\n",
      "|   tvEpisode|\n",
      "|     tvShort|\n",
      "|       short|\n",
      "+------------+"
     ]
    }
   ],
   "source": []
  },
  {
   "cell_type": "code",
   "execution_count": 10,
   "id": "12f0c226-0716-42c5-8e6b-23631a3badc2",
   "metadata": {
    "execution": {
     "iopub.execute_input": "2023-12-13T20:12:52.789430Z",
     "iopub.status.busy": "2023-12-13T20:12:52.789123Z",
     "iopub.status.idle": "2023-12-13T20:13:02.096457Z",
     "shell.execute_reply": "2023-12-13T20:13:02.095749Z",
     "shell.execute_reply.started": "2023-12-13T20:12:52.789395Z"
    },
    "tags": []
   },
   "outputs": [
    {
     "data": {
      "application/vnd.jupyter.widget-view+json": {
       "model_id": "695d8bf77e454047ac3c81bd48d47199",
       "version_major": 2,
       "version_minor": 0
      },
      "text/plain": [
       "VBox()"
      ]
     },
     "metadata": {},
     "output_type": "display_data"
    },
    {
     "data": {
      "application/vnd.jupyter.widget-view+json": {
       "model_id": "",
       "version_major": 2,
       "version_minor": 0
      },
      "text/plain": [
       "FloatProgress(value=0.0, bar_style='info', description='Progress:', layout=Layout(height='25px', width='50%'),…"
      ]
     },
     "metadata": {},
     "output_type": "display_data"
    },
    {
     "name": "stdout",
     "output_type": "stream",
     "text": [
      "+------------+\n",
      "|   titleType|\n",
      "+------------+\n",
      "|    tvSeries|\n",
      "|tvMiniSeries|\n",
      "|       movie|\n",
      "|   videoGame|\n",
      "|   tvSpecial|\n",
      "|       video|\n",
      "|     tvMovie|\n",
      "|   tvEpisode|\n",
      "|     tvShort|\n",
      "|       short|\n",
      "+------------+"
     ]
    }
   ],
   "source": [
    "utitle = spark.sql(\n",
    "'''\n",
    "SELECT DISTINCT titleType\n",
    "FROM Title\n",
    "''')\n",
    "utitle.show()\n"
   ]
  },
  {
   "cell_type": "markdown",
   "id": "d8f3c92f",
   "metadata": {},
   "source": [
    "Display the schema below:"
   ]
  },
  {
   "cell_type": "code",
   "execution_count": 9,
   "id": "8334d2fe",
   "metadata": {
    "execution": {
     "iopub.execute_input": "2023-11-02T20:48:54.121567Z",
     "iopub.status.busy": "2023-11-02T20:48:54.121166Z",
     "iopub.status.idle": "2023-11-02T20:48:54.169889Z",
     "shell.execute_reply": "2023-11-02T20:48:54.169100Z",
     "shell.execute_reply.started": "2023-11-02T20:48:54.121535Z"
    },
    "tags": []
   },
   "outputs": [
    {
     "data": {
      "application/vnd.jupyter.widget-view+json": {
       "model_id": "394687a5357544079c260a5f6383494e",
       "version_major": 2,
       "version_minor": 0
      },
      "text/plain": [
       "VBox()"
      ]
     },
     "metadata": {},
     "output_type": "display_data"
    },
    {
     "data": {
      "application/vnd.jupyter.widget-view+json": {
       "model_id": "",
       "version_major": 2,
       "version_minor": 0
      },
      "text/plain": [
       "FloatProgress(value=0.0, bar_style='info', description='Progress:', layout=Layout(height='25px', width='50%'),…"
      ]
     },
     "metadata": {},
     "output_type": "display_data"
    },
    {
     "name": "stdout",
     "output_type": "stream",
     "text": [
      "root\n",
      " |-- tconst: string (nullable = true)\n",
      " |-- titleType: string (nullable = true)\n",
      " |-- primaryTitle: string (nullable = true)\n",
      " |-- originalTitle: string (nullable = true)\n",
      " |-- isAdult: string (nullable = true)\n",
      " |-- startYear: string (nullable = true)\n",
      " |-- endYear: string (nullable = true)\n",
      " |-- runtimeMinutes: string (nullable = true)\n",
      " |-- genres: string (nullable = true)"
     ]
    }
   ],
   "source": []
  },
  {
   "cell_type": "code",
   "execution_count": 11,
   "id": "9a41838c-5c56-46ca-b121-0c87e54c5d9d",
   "metadata": {
    "execution": {
     "iopub.execute_input": "2023-12-13T20:13:07.903924Z",
     "iopub.status.busy": "2023-12-13T20:13:07.903649Z",
     "iopub.status.idle": "2023-12-13T20:13:07.965363Z",
     "shell.execute_reply": "2023-12-13T20:13:07.964602Z",
     "shell.execute_reply.started": "2023-12-13T20:13:07.903897Z"
    },
    "tags": []
   },
   "outputs": [
    {
     "data": {
      "application/vnd.jupyter.widget-view+json": {
       "model_id": "c870bf353da447058d9b55911d7427dc",
       "version_major": 2,
       "version_minor": 0
      },
      "text/plain": [
       "VBox()"
      ]
     },
     "metadata": {},
     "output_type": "display_data"
    },
    {
     "data": {
      "application/vnd.jupyter.widget-view+json": {
       "model_id": "",
       "version_major": 2,
       "version_minor": 0
      },
      "text/plain": [
       "FloatProgress(value=0.0, bar_style='info', description='Progress:', layout=Layout(height='25px', width='50%'),…"
      ]
     },
     "metadata": {},
     "output_type": "display_data"
    },
    {
     "name": "stdout",
     "output_type": "stream",
     "text": [
      "root\n",
      " |-- tconst: string (nullable = true)\n",
      " |-- titleType: string (nullable = true)\n",
      " |-- primaryTitle: string (nullable = true)\n",
      " |-- originalTitle: string (nullable = true)\n",
      " |-- isAdult: string (nullable = true)\n",
      " |-- startYear: string (nullable = true)\n",
      " |-- endYear: string (nullable = true)\n",
      " |-- runtimeMinutes: string (nullable = true)\n",
      " |-- genres: string (nullable = true)"
     ]
    }
   ],
   "source": [
    "title.printSchema()"
   ]
  },
  {
   "cell_type": "markdown",
   "id": "bf21e1b7",
   "metadata": {},
   "source": [
    "## Title Principles"
   ]
  },
  {
   "cell_type": "markdown",
   "id": "442830b8",
   "metadata": {},
   "source": [
    "Display the schema below:"
   ]
  },
  {
   "cell_type": "code",
   "execution_count": 10,
   "id": "b7241872",
   "metadata": {
    "execution": {
     "iopub.execute_input": "2023-11-02T20:48:54.171895Z",
     "iopub.status.busy": "2023-11-02T20:48:54.171648Z",
     "iopub.status.idle": "2023-11-02T20:48:54.221234Z",
     "shell.execute_reply": "2023-11-02T20:48:54.218700Z",
     "shell.execute_reply.started": "2023-11-02T20:48:54.171861Z"
    },
    "tags": []
   },
   "outputs": [
    {
     "data": {
      "application/vnd.jupyter.widget-view+json": {
       "model_id": "f5e7ba32d20147b98d0526a876964bbb",
       "version_major": 2,
       "version_minor": 0
      },
      "text/plain": [
       "VBox()"
      ]
     },
     "metadata": {},
     "output_type": "display_data"
    },
    {
     "data": {
      "application/vnd.jupyter.widget-view+json": {
       "model_id": "",
       "version_major": 2,
       "version_minor": 0
      },
      "text/plain": [
       "FloatProgress(value=0.0, bar_style='info', description='Progress:', layout=Layout(height='25px', width='50%'),…"
      ]
     },
     "metadata": {},
     "output_type": "display_data"
    },
    {
     "name": "stdout",
     "output_type": "stream",
     "text": [
      "root\n",
      " |-- tconst: string (nullable = true)\n",
      " |-- ordering: string (nullable = true)\n",
      " |-- nconst: string (nullable = true)\n",
      " |-- category: string (nullable = true)\n",
      " |-- job: string (nullable = true)\n",
      " |-- characters: string (nullable = true)"
     ]
    }
   ],
   "source": []
  },
  {
   "cell_type": "code",
   "execution_count": 12,
   "id": "97cd54f3-0fcb-4fb6-bfff-d130401f8e50",
   "metadata": {
    "execution": {
     "iopub.execute_input": "2023-12-13T20:13:14.465980Z",
     "iopub.status.busy": "2023-12-13T20:13:14.465761Z",
     "iopub.status.idle": "2023-12-13T20:13:14.515371Z",
     "shell.execute_reply": "2023-12-13T20:13:14.514774Z",
     "shell.execute_reply.started": "2023-12-13T20:13:14.465956Z"
    },
    "tags": []
   },
   "outputs": [
    {
     "data": {
      "application/vnd.jupyter.widget-view+json": {
       "model_id": "a88e86f4e1f943068192100debb8a209",
       "version_major": 2,
       "version_minor": 0
      },
      "text/plain": [
       "VBox()"
      ]
     },
     "metadata": {},
     "output_type": "display_data"
    },
    {
     "data": {
      "application/vnd.jupyter.widget-view+json": {
       "model_id": "",
       "version_major": 2,
       "version_minor": 0
      },
      "text/plain": [
       "FloatProgress(value=0.0, bar_style='info', description='Progress:', layout=Layout(height='25px', width='50%'),…"
      ]
     },
     "metadata": {},
     "output_type": "display_data"
    },
    {
     "name": "stdout",
     "output_type": "stream",
     "text": [
      "root\n",
      " |-- tconst: string (nullable = true)\n",
      " |-- ordering: string (nullable = true)\n",
      " |-- nconst: string (nullable = true)\n",
      " |-- category: string (nullable = true)\n",
      " |-- job: string (nullable = true)\n",
      " |-- characters: string (nullable = true)"
     ]
    }
   ],
   "source": [
    "principals.printSchema()"
   ]
  },
  {
   "cell_type": "markdown",
   "id": "e24870d3",
   "metadata": {},
   "source": [
    "Display the first 15 rows where the \"category\" column is \"self\""
   ]
  },
  {
   "cell_type": "code",
   "execution_count": 11,
   "id": "3f6dbef1",
   "metadata": {
    "execution": {
     "iopub.execute_input": "2023-11-02T20:48:54.222797Z",
     "iopub.status.busy": "2023-11-02T20:48:54.222524Z",
     "iopub.status.idle": "2023-11-02T20:48:54.991266Z",
     "shell.execute_reply": "2023-11-02T20:48:54.990469Z",
     "shell.execute_reply.started": "2023-11-02T20:48:54.222764Z"
    },
    "tags": []
   },
   "outputs": [
    {
     "data": {
      "application/vnd.jupyter.widget-view+json": {
       "model_id": "42991e363c9e452e9f230a535544eb31",
       "version_major": 2,
       "version_minor": 0
      },
      "text/plain": [
       "VBox()"
      ]
     },
     "metadata": {},
     "output_type": "display_data"
    },
    {
     "data": {
      "application/vnd.jupyter.widget-view+json": {
       "model_id": "",
       "version_major": 2,
       "version_minor": 0
      },
      "text/plain": [
       "FloatProgress(value=0.0, bar_style='info', description='Progress:', layout=Layout(height='25px', width='50%'),…"
      ]
     },
     "metadata": {},
     "output_type": "display_data"
    },
    {
     "name": "stdout",
     "output_type": "stream",
     "text": [
      "+---------+--------+---------+--------+---+--------------------+\n",
      "|   tconst|ordering|   nconst|category|job|          characters|\n",
      "+---------+--------+---------+--------+---+--------------------+\n",
      "|tt0000001|       1|nm1588970|    self| \\N|         [\"Herself\"]|\n",
      "|tt0000012|       1|nm2880396|    self| \\N|         [\"Herself\"]|\n",
      "|tt0000012|       2|nm9735580|    self| \\N|         [\"Himself\"]|\n",
      "|tt0000012|       3|nm0525900|    self| \\N|         [\"Herself\"]|\n",
      "|tt0000012|       4|nm9735581|    self| \\N|         [\"Herself\"]|\n",
      "|tt0000012|       7|nm9735579|    self| \\N|         [\"Herself\"]|\n",
      "|tt0000012|       8|nm9653419|    self| \\N|         [\"Herself\"]|\n",
      "|tt0000013|       1|nm0525908|    self| \\N|         [\"Himself\"]|\n",
      "|tt0000013|       2|nm1715062|    self| \\N|         [\"Himself\"]|\n",
      "|tt0000016|       1|nm0525900|    self| \\N|[\"Herself (on the...|\n",
      "|tt0000016|       2|nm9735581|    self| \\N|[\"Herself (on the...|\n",
      "|tt0000024|       1|nm0256651|    self| \\N|[\"Herself - Empre...|\n",
      "|tt0000024|       2|nm0435118|    self| \\N|[\"Himself - Emper...|\n",
      "|tt0000028|       1|nm2350838|    self| \\N|         [\"Himself\"]|\n",
      "|tt0000028|       2|nm0525908|    self| \\N|         [\"Himself\"]|\n",
      "+---------+--------+---------+--------+---+--------------------+\n",
      "only showing top 15 rows"
     ]
    }
   ],
   "source": []
  },
  {
   "cell_type": "code",
   "execution_count": 15,
   "id": "58c1ff7a-7a54-4423-b694-b8f57f6b6116",
   "metadata": {
    "execution": {
     "iopub.execute_input": "2023-12-13T20:13:46.938282Z",
     "iopub.status.busy": "2023-12-13T20:13:46.938056Z",
     "iopub.status.idle": "2023-12-13T20:13:47.696619Z",
     "shell.execute_reply": "2023-12-13T20:13:47.695972Z",
     "shell.execute_reply.started": "2023-12-13T20:13:46.938258Z"
    },
    "tags": []
   },
   "outputs": [
    {
     "data": {
      "application/vnd.jupyter.widget-view+json": {
       "model_id": "7711de35650e473f9bf92dc252455ae5",
       "version_major": 2,
       "version_minor": 0
      },
      "text/plain": [
       "VBox()"
      ]
     },
     "metadata": {},
     "output_type": "display_data"
    },
    {
     "data": {
      "application/vnd.jupyter.widget-view+json": {
       "model_id": "",
       "version_major": 2,
       "version_minor": 0
      },
      "text/plain": [
       "FloatProgress(value=0.0, bar_style='info', description='Progress:', layout=Layout(height='25px', width='50%'),…"
      ]
     },
     "metadata": {},
     "output_type": "display_data"
    },
    {
     "name": "stdout",
     "output_type": "stream",
     "text": [
      "+---------+--------+---------+--------+---+--------------------+\n",
      "|   tconst|ordering|   nconst|category|job|          characters|\n",
      "+---------+--------+---------+--------+---+--------------------+\n",
      "|tt0000001|       1|nm1588970|    self| \\N|         [\"Herself\"]|\n",
      "|tt0000012|       1|nm2880396|    self| \\N|         [\"Herself\"]|\n",
      "|tt0000012|       2|nm9735580|    self| \\N|         [\"Himself\"]|\n",
      "|tt0000012|       3|nm0525900|    self| \\N|         [\"Herself\"]|\n",
      "|tt0000012|       4|nm9735581|    self| \\N|         [\"Herself\"]|\n",
      "|tt0000012|       7|nm9735579|    self| \\N|         [\"Herself\"]|\n",
      "|tt0000012|       8|nm9653419|    self| \\N|         [\"Herself\"]|\n",
      "|tt0000013|       1|nm0525908|    self| \\N|         [\"Himself\"]|\n",
      "|tt0000013|       2|nm1715062|    self| \\N|         [\"Himself\"]|\n",
      "|tt0000016|       1|nm0525900|    self| \\N|[\"Herself (on the...|\n",
      "|tt0000016|       2|nm9735581|    self| \\N|[\"Herself (on the...|\n",
      "|tt0000024|       1|nm0256651|    self| \\N|[\"Herself - Empre...|\n",
      "|tt0000024|       2|nm0435118|    self| \\N|[\"Himself - Emper...|\n",
      "|tt0000028|       1|nm2350838|    self| \\N|         [\"Himself\"]|\n",
      "|tt0000028|       2|nm0525908|    self| \\N|         [\"Himself\"]|\n",
      "+---------+--------+---------+--------+---+--------------------+"
     ]
    }
   ],
   "source": [
    "self15=spark.sql('''\n",
    "SELECT *\n",
    "FROM Principals\n",
    "WHERE category = 'self'\n",
    "LIMIT 15\n",
    "''')\n",
    "self15.show()\n"
   ]
  },
  {
   "cell_type": "code",
   "execution_count": null,
   "id": "6063f697-9392-431c-a0f3-0aeb5b52be0a",
   "metadata": {},
   "outputs": [],
   "source": []
  },
  {
   "cell_type": "markdown",
   "id": "d8e128fc",
   "metadata": {},
   "source": [
    "## Title Ratings"
   ]
  },
  {
   "cell_type": "markdown",
   "id": "c40d60cd",
   "metadata": {},
   "source": [
    "Display the schema below:"
   ]
  },
  {
   "cell_type": "code",
   "execution_count": 12,
   "id": "1ed78395",
   "metadata": {
    "execution": {
     "iopub.execute_input": "2023-11-02T20:48:54.992355Z",
     "iopub.status.busy": "2023-11-02T20:48:54.992190Z",
     "iopub.status.idle": "2023-11-02T20:48:55.040798Z",
     "shell.execute_reply": "2023-11-02T20:48:55.040170Z",
     "shell.execute_reply.started": "2023-11-02T20:48:54.992335Z"
    },
    "tags": []
   },
   "outputs": [
    {
     "data": {
      "application/vnd.jupyter.widget-view+json": {
       "model_id": "2ba377209de844a1acbfe293b813a758",
       "version_major": 2,
       "version_minor": 0
      },
      "text/plain": [
       "VBox()"
      ]
     },
     "metadata": {},
     "output_type": "display_data"
    },
    {
     "data": {
      "application/vnd.jupyter.widget-view+json": {
       "model_id": "",
       "version_major": 2,
       "version_minor": 0
      },
      "text/plain": [
       "FloatProgress(value=0.0, bar_style='info', description='Progress:', layout=Layout(height='25px', width='50%'),…"
      ]
     },
     "metadata": {},
     "output_type": "display_data"
    },
    {
     "name": "stdout",
     "output_type": "stream",
     "text": [
      "root\n",
      " |-- tconst: string (nullable = true)\n",
      " |-- averageRating: string (nullable = true)\n",
      " |-- numVotes: string (nullable = true)"
     ]
    }
   ],
   "source": []
  },
  {
   "cell_type": "code",
   "execution_count": 16,
   "id": "8bba1671-24f4-4d22-9c81-8db1f0ee2326",
   "metadata": {
    "execution": {
     "iopub.execute_input": "2023-12-13T20:13:54.538538Z",
     "iopub.status.busy": "2023-12-13T20:13:54.538310Z",
     "iopub.status.idle": "2023-12-13T20:13:54.585082Z",
     "shell.execute_reply": "2023-12-13T20:13:54.584476Z",
     "shell.execute_reply.started": "2023-12-13T20:13:54.538513Z"
    }
   },
   "outputs": [
    {
     "data": {
      "application/vnd.jupyter.widget-view+json": {
       "model_id": "c3657acc937e45b4b4c2da2822840fc1",
       "version_major": 2,
       "version_minor": 0
      },
      "text/plain": [
       "VBox()"
      ]
     },
     "metadata": {},
     "output_type": "display_data"
    },
    {
     "data": {
      "application/vnd.jupyter.widget-view+json": {
       "model_id": "",
       "version_major": 2,
       "version_minor": 0
      },
      "text/plain": [
       "FloatProgress(value=0.0, bar_style='info', description='Progress:', layout=Layout(height='25px', width='50%'),…"
      ]
     },
     "metadata": {},
     "output_type": "display_data"
    },
    {
     "name": "stdout",
     "output_type": "stream",
     "text": [
      "root\n",
      " |-- tconst: string (nullable = true)\n",
      " |-- averageRating: string (nullable = true)\n",
      " |-- numVotes: string (nullable = true)"
     ]
    }
   ],
   "source": [
    "ratings.printSchema()"
   ]
  },
  {
   "cell_type": "markdown",
   "id": "76ac1ac7",
   "metadata": {},
   "source": [
    "Display the first 10 rows in a descending order by the number of votes"
   ]
  },
  {
   "cell_type": "code",
   "execution_count": 13,
   "id": "9f663e07",
   "metadata": {
    "execution": {
     "iopub.execute_input": "2023-11-02T20:48:55.042069Z",
     "iopub.status.busy": "2023-11-02T20:48:55.041833Z",
     "iopub.status.idle": "2023-11-02T20:48:57.309828Z",
     "shell.execute_reply": "2023-11-02T20:48:57.308946Z",
     "shell.execute_reply.started": "2023-11-02T20:48:55.042036Z"
    },
    "tags": []
   },
   "outputs": [
    {
     "data": {
      "application/vnd.jupyter.widget-view+json": {
       "model_id": "54d644bdec3343de9f161476c029f9c8",
       "version_major": 2,
       "version_minor": 0
      },
      "text/plain": [
       "VBox()"
      ]
     },
     "metadata": {},
     "output_type": "display_data"
    },
    {
     "data": {
      "application/vnd.jupyter.widget-view+json": {
       "model_id": "",
       "version_major": 2,
       "version_minor": 0
      },
      "text/plain": [
       "FloatProgress(value=0.0, bar_style='info', description='Progress:', layout=Layout(height='25px', width='50%'),…"
      ]
     },
     "metadata": {},
     "output_type": "display_data"
    },
    {
     "name": "stdout",
     "output_type": "stream",
     "text": [
      "+---------+-------------+---------+\n",
      "|   tconst|averageRating| numVotes|\n",
      "+---------+-------------+---------+\n",
      "|tt0111161|          9.3|2159745.0|\n",
      "|tt0468569|          9.0|2134602.0|\n",
      "|tt1375666|          8.8|1892958.0|\n",
      "|tt0137523|          8.8|1725444.0|\n",
      "|tt0110912|          8.9|1695159.0|\n",
      "|tt0109830|          8.8|1662609.0|\n",
      "|tt0944947|          9.4|1606096.0|\n",
      "|tt0133093|          8.7|1554345.0|\n",
      "|tt0120737|          8.8|1548920.0|\n",
      "|tt0167260|          8.9|1533632.0|\n",
      "|tt0068646|          9.2|1482225.0|\n",
      "|tt1345836|          8.4|1421506.0|\n",
      "|tt0167261|          8.7|1387208.0|\n",
      "|tt0816692|          8.6|1348184.0|\n",
      "|tt0114369|          8.6|1327441.0|\n",
      "+---------+-------------+---------+\n",
      "only showing top 15 rows"
     ]
    }
   ],
   "source": []
  },
  {
   "cell_type": "code",
   "execution_count": 17,
   "id": "e5083ff3-594a-4d47-a3bf-f3ecc31cf28b",
   "metadata": {
    "execution": {
     "iopub.execute_input": "2023-12-13T20:14:01.423473Z",
     "iopub.status.busy": "2023-12-13T20:14:01.423233Z",
     "iopub.status.idle": "2023-12-13T20:14:03.700426Z",
     "shell.execute_reply": "2023-12-13T20:14:03.699755Z",
     "shell.execute_reply.started": "2023-12-13T20:14:01.423449Z"
    }
   },
   "outputs": [
    {
     "data": {
      "application/vnd.jupyter.widget-view+json": {
       "model_id": "8d315d35ca824797bd115f3f361a6012",
       "version_major": 2,
       "version_minor": 0
      },
      "text/plain": [
       "VBox()"
      ]
     },
     "metadata": {},
     "output_type": "display_data"
    },
    {
     "data": {
      "application/vnd.jupyter.widget-view+json": {
       "model_id": "",
       "version_major": 2,
       "version_minor": 0
      },
      "text/plain": [
       "FloatProgress(value=0.0, bar_style='info', description='Progress:', layout=Layout(height='25px', width='50%'),…"
      ]
     },
     "metadata": {},
     "output_type": "display_data"
    },
    {
     "name": "stdout",
     "output_type": "stream",
     "text": [
      "+---------+-------------+--------+\n",
      "|   tconst|averageRating|numVotes|\n",
      "+---------+-------------+--------+\n",
      "|tt0111161|          9.3| 2159745|\n",
      "|tt0468569|          9.0| 2134602|\n",
      "|tt1375666|          8.8| 1892958|\n",
      "|tt0137523|          8.8| 1725444|\n",
      "|tt0110912|          8.9| 1695159|\n",
      "|tt0109830|          8.8| 1662609|\n",
      "|tt0944947|          9.4| 1606096|\n",
      "|tt0133093|          8.7| 1554345|\n",
      "|tt0120737|          8.8| 1548920|\n",
      "|tt0167260|          8.9| 1533632|\n",
      "+---------+-------------+--------+"
     ]
    }
   ],
   "source": [
    "numvotes=spark.sql(\n",
    "'''\n",
    "SELECT *\n",
    "FROM Ratings\n",
    "ORDER BY CAST(numVotes AS int) DESC\n",
    "LIMIT 10\n",
    "''')\n",
    "numvotes.show()\n"
   ]
  },
  {
   "cell_type": "markdown",
   "id": "e77cf460",
   "metadata": {},
   "source": [
    "# Overview of Data"
   ]
  },
  {
   "cell_type": "markdown",
   "id": "2bc943bf",
   "metadata": {},
   "source": [
    "Display the number of rows and columns in each dataFrame object."
   ]
  },
  {
   "cell_type": "code",
   "execution_count": 14,
   "id": "15b35f7a",
   "metadata": {
    "execution": {
     "iopub.execute_input": "2023-11-02T20:48:57.311304Z",
     "iopub.status.busy": "2023-11-02T20:48:57.311044Z",
     "iopub.status.idle": "2023-11-02T20:49:14.662624Z",
     "shell.execute_reply": "2023-11-02T20:49:14.661857Z",
     "shell.execute_reply.started": "2023-11-02T20:48:57.311272Z"
    },
    "tags": []
   },
   "outputs": [
    {
     "data": {
      "application/vnd.jupyter.widget-view+json": {
       "model_id": "86a10a0cb5134ca19af76de1cd902b9e",
       "version_major": 2,
       "version_minor": 0
      },
      "text/plain": [
       "VBox()"
      ]
     },
     "metadata": {},
     "output_type": "display_data"
    },
    {
     "data": {
      "application/vnd.jupyter.widget-view+json": {
       "model_id": "",
       "version_major": 2,
       "version_minor": 0
      },
      "text/plain": [
       "FloatProgress(value=0.0, bar_style='info', description='Progress:', layout=Layout(height='25px', width='50%'),…"
      ]
     },
     "metadata": {},
     "output_type": "display_data"
    },
    {
     "name": "stdout",
     "output_type": "stream",
     "text": [
      "Number of columns in Name Basics table: 6\n",
      "Number of rows in Name Basics table: 9706922\n",
      "\n",
      "Number of columns in Title Basics table: 9\n",
      "Number of rows in Title Basics table: 6321302\n",
      "\n",
      "Number of columns in Title Principles table: 6\n",
      "Number of rows in Title Principles table: 36468817\n",
      "\n",
      "Number of columns in Title Ratings table: 3\n",
      "Number of rows in Title Ratings table: 993153"
     ]
    }
   ],
   "source": []
  },
  {
   "cell_type": "code",
   "execution_count": 18,
   "id": "43c63adb-a5ef-470e-a82d-9e05332e3bc4",
   "metadata": {
    "execution": {
     "iopub.execute_input": "2023-12-13T20:16:08.245559Z",
     "iopub.status.busy": "2023-12-13T20:16:08.245335Z",
     "iopub.status.idle": "2023-12-13T20:16:35.587449Z",
     "shell.execute_reply": "2023-12-13T20:16:35.586781Z",
     "shell.execute_reply.started": "2023-12-13T20:16:08.245534Z"
    }
   },
   "outputs": [
    {
     "data": {
      "application/vnd.jupyter.widget-view+json": {
       "model_id": "0ac4cfa0e2d849a589bdff8f12137da8",
       "version_major": 2,
       "version_minor": 0
      },
      "text/plain": [
       "VBox()"
      ]
     },
     "metadata": {},
     "output_type": "display_data"
    },
    {
     "data": {
      "application/vnd.jupyter.widget-view+json": {
       "model_id": "",
       "version_major": 2,
       "version_minor": 0
      },
      "text/plain": [
       "FloatProgress(value=0.0, bar_style='info', description='Progress:', layout=Layout(height='25px', width='50%'),…"
      ]
     },
     "metadata": {},
     "output_type": "display_data"
    },
    {
     "name": "stdout",
     "output_type": "stream",
     "text": [
      "Total Columns in Name Basics: 6\n",
      "Total Rows in Name: 9,706,922\n",
      "Total Columns in Title Basics: 9\n",
      "Total Rows in Title Basics: 6,321,302\n",
      "Total Columns in Title Principals: 6\n",
      "Total Rows in Title Principals: 36,468,817\n",
      "Total Columns in Title Ratings: 3\n",
      "Total Rows in Title Ratings: 993,153"
     ]
    }
   ],
   "source": [
    "\n",
    "\n",
    "print(f'Total Columns in Name Basics: {len(name.dtypes)}')\n",
    "print(f'Total Rows in Name: {name.count():,}')\n",
    "\n",
    "print(f'Total Columns in Title Basics: {len(title.dtypes)}')\n",
    "print(f'Total Rows in Title Basics: {title.count():,}')\n",
    "\n",
    "print(f'Total Columns in Title Principals: {len(principals.dtypes)}')\n",
    "print(f'Total Rows in Title Principals: {principals.count():,}')\n",
    "\n",
    "print(f'Total Columns in Title Ratings: {len(ratings.dtypes)}')\n",
    "print(f'Total Rows in Title Ratings: {ratings.count():,}')\n"
   ]
  },
  {
   "cell_type": "markdown",
   "id": "b45c87a7",
   "metadata": {},
   "source": [
    "# PART 2 - Analyzing Genres"
   ]
  },
  {
   "cell_type": "markdown",
   "id": "37c839bd",
   "metadata": {},
   "source": [
    "Let's now answer this question: how many unique genres are represented in this dataset?\n",
    "\n",
    "Essentially, we have the genres per movie as a list - this is useful to quickly see what each movie might be represented as but it is difficult to easily answer questions such as:\n",
    "\n",
    "* How many movies are categorized as Comedy, for instance?\n",
    "* What are the top 20 most popular genres available?"
   ]
  },
  {
   "cell_type": "markdown",
   "id": "509eb185",
   "metadata": {},
   "source": [
    "## Association Table\n",
    "\n",
    "We need to \"break out\" these genres from the tconst? One common approach to take is to build an association table mapping a single tconst multiple times to each distinct genre.\n",
    "\n",
    "For instance, given the following:\n",
    "\n",
    "\n",
    "| tconst   | titleType  |genres |\n",
    "|----------|------------|-------|\n",
    "| abcd123  | XXX        |a,b,c  |\n",
    "\n",
    "We would like to derive something like:\n",
    "\n",
    "| tconst   |  titleType |genre |\n",
    "|----------|------------|------|\n",
    "| abcd123  | XXX        |a     |\n",
    "| abcd123  | XXX        |b     |\n",
    "| abcd123  | XXX        |c     |\n",
    "\n",
    "\n",
    "What this does is allow us to then perform a myriad of rollups and other analysis on this association table which can aid us in answering the questions asked above.\n",
    "\n",
    "Implement the code necessary to derive the table described from the data set"
   ]
  },
  {
   "cell_type": "code",
   "execution_count": 15,
   "id": "6da24c15",
   "metadata": {
    "execution": {
     "iopub.execute_input": "2023-11-02T20:49:14.664152Z",
     "iopub.status.busy": "2023-11-02T20:49:14.663918Z",
     "iopub.status.idle": "2023-11-02T20:49:14.925894Z",
     "shell.execute_reply": "2023-11-02T20:49:14.925026Z",
     "shell.execute_reply.started": "2023-11-02T20:49:14.664120Z"
    },
    "tags": []
   },
   "outputs": [
    {
     "data": {
      "application/vnd.jupyter.widget-view+json": {
       "model_id": "e8ba849c56e64bfda20c40fc42870258",
       "version_major": 2,
       "version_minor": 0
      },
      "text/plain": [
       "VBox()"
      ]
     },
     "metadata": {},
     "output_type": "display_data"
    },
    {
     "data": {
      "application/vnd.jupyter.widget-view+json": {
       "model_id": "",
       "version_major": 2,
       "version_minor": 0
      },
      "text/plain": [
       "FloatProgress(value=0.0, bar_style='info', description='Progress:', layout=Layout(height='25px', width='50%'),…"
      ]
     },
     "metadata": {},
     "output_type": "display_data"
    },
    {
     "name": "stdout",
     "output_type": "stream",
     "text": [
      "+---------+---------+--------------------+\n",
      "|   tconst|titleType|              genres|\n",
      "+---------+---------+--------------------+\n",
      "|tt0000001|    short|   Documentary,Short|\n",
      "|tt0000002|    short|     Animation,Short|\n",
      "|tt0000003|    short|Animation,Comedy,...|\n",
      "|tt0000004|    short|     Animation,Short|\n",
      "|tt0000005|    short|        Comedy,Short|\n",
      "+---------+---------+--------------------+\n",
      "only showing top 5 rows"
     ]
    }
   ],
   "source": []
  },
  {
   "cell_type": "markdown",
   "id": "7e215c7e",
   "metadata": {},
   "source": [
    "Display the first 10 rows of your association table below"
   ]
  },
  {
   "cell_type": "code",
   "execution_count": 19,
   "id": "c3fc0ed7-3cfd-4a52-87a4-226ae4a8f5f2",
   "metadata": {
    "execution": {
     "iopub.execute_input": "2023-12-13T20:21:56.504169Z",
     "iopub.status.busy": "2023-12-13T20:21:56.503943Z",
     "iopub.status.idle": "2023-12-13T20:21:56.752715Z",
     "shell.execute_reply": "2023-12-13T20:21:56.752028Z",
     "shell.execute_reply.started": "2023-12-13T20:21:56.504146Z"
    }
   },
   "outputs": [
    {
     "data": {
      "application/vnd.jupyter.widget-view+json": {
       "model_id": "695bd1e134844a2b886d33e2e35c76ef",
       "version_major": 2,
       "version_minor": 0
      },
      "text/plain": [
       "VBox()"
      ]
     },
     "metadata": {},
     "output_type": "display_data"
    },
    {
     "data": {
      "application/vnd.jupyter.widget-view+json": {
       "model_id": "",
       "version_major": 2,
       "version_minor": 0
      },
      "text/plain": [
       "FloatProgress(value=0.0, bar_style='info', description='Progress:', layout=Layout(height='25px', width='50%'),…"
      ]
     },
     "metadata": {},
     "output_type": "display_data"
    }
   ],
   "source": [
    "splitgenre=title.select(title.tconst,title.titleType,title.genres)\n",
    "splitgenre=splitgenre.withColumn('genre',explode(split('genres',\",\"))).drop('genres')\n"
   ]
  },
  {
   "cell_type": "code",
   "execution_count": 20,
   "id": "2c446ae5-6b03-4bd1-9790-1c200c24f393",
   "metadata": {
    "execution": {
     "iopub.execute_input": "2023-12-13T20:21:59.608439Z",
     "iopub.status.busy": "2023-12-13T20:21:59.608204Z",
     "iopub.status.idle": "2023-12-13T20:22:08.891259Z",
     "shell.execute_reply": "2023-12-13T20:22:08.890664Z",
     "shell.execute_reply.started": "2023-12-13T20:21:59.608413Z"
    }
   },
   "outputs": [
    {
     "data": {
      "application/vnd.jupyter.widget-view+json": {
       "model_id": "4005162a8057477599184b940efa632b",
       "version_major": 2,
       "version_minor": 0
      },
      "text/plain": [
       "VBox()"
      ]
     },
     "metadata": {},
     "output_type": "display_data"
    },
    {
     "data": {
      "application/vnd.jupyter.widget-view+json": {
       "model_id": "",
       "version_major": 2,
       "version_minor": 0
      },
      "text/plain": [
       "FloatProgress(value=0.0, bar_style='info', description='Progress:', layout=Layout(height='25px', width='50%'),…"
      ]
     },
     "metadata": {},
     "output_type": "display_data"
    },
    {
     "name": "stdout",
     "output_type": "stream",
     "text": [
      "+---------+---------+-----------+\n",
      "|   tconst|titleType|      genre|\n",
      "+---------+---------+-----------+\n",
      "|tt0000001|    short|Documentary|\n",
      "|tt0000001|    short|      Short|\n",
      "|tt0000002|    short|  Animation|\n",
      "|tt0000002|    short|      Short|\n",
      "|tt0000003|    short|  Animation|\n",
      "|tt0000003|    short|     Comedy|\n",
      "|tt0000003|    short|    Romance|\n",
      "|tt0000004|    short|  Animation|\n",
      "|tt0000004|    short|      Short|\n",
      "|tt0000005|    short|     Comedy|\n",
      "+---------+---------+-----------+\n",
      "only showing top 10 rows"
     ]
    }
   ],
   "source": [
    "splitgenre.show(10)\n",
    "splitgenre.createOrReplaceTempView('SplitGenre')"
   ]
  },
  {
   "cell_type": "code",
   "execution_count": 16,
   "id": "eee1cc98",
   "metadata": {
    "execution": {
     "iopub.execute_input": "2023-11-02T20:49:14.927335Z",
     "iopub.status.busy": "2023-11-02T20:49:14.926940Z",
     "iopub.status.idle": "2023-11-02T20:49:15.704703Z",
     "shell.execute_reply": "2023-11-02T20:49:15.703912Z",
     "shell.execute_reply.started": "2023-11-02T20:49:14.927298Z"
    },
    "tags": []
   },
   "outputs": [
    {
     "data": {
      "application/vnd.jupyter.widget-view+json": {
       "model_id": "5a183558676145d7be65b81ace54ef13",
       "version_major": 2,
       "version_minor": 0
      },
      "text/plain": [
       "VBox()"
      ]
     },
     "metadata": {},
     "output_type": "display_data"
    },
    {
     "data": {
      "application/vnd.jupyter.widget-view+json": {
       "model_id": "",
       "version_major": 2,
       "version_minor": 0
      },
      "text/plain": [
       "FloatProgress(value=0.0, bar_style='info', description='Progress:', layout=Layout(height='25px', width='50%'),…"
      ]
     },
     "metadata": {},
     "output_type": "display_data"
    },
    {
     "name": "stdout",
     "output_type": "stream",
     "text": [
      "+---------+---------+-----------+\n",
      "|   tconst|titleType|      genre|\n",
      "+---------+---------+-----------+\n",
      "|tt0000001|    short|Documentary|\n",
      "|tt0000001|    short|      Short|\n",
      "|tt0000002|    short|  Animation|\n",
      "|tt0000002|    short|      Short|\n",
      "|tt0000003|    short|  Animation|\n",
      "|tt0000003|    short|     Comedy|\n",
      "|tt0000003|    short|    Romance|\n",
      "|tt0000004|    short|  Animation|\n",
      "|tt0000004|    short|      Short|\n",
      "|tt0000005|    short|     Comedy|\n",
      "+---------+---------+-----------+\n",
      "only showing top 10 rows"
     ]
    }
   ],
   "source": []
  },
  {
   "cell_type": "markdown",
   "id": "9a80280d",
   "metadata": {},
   "source": [
    "## Total Unique Genres"
   ]
  },
  {
   "cell_type": "markdown",
   "id": "b0db9e0c",
   "metadata": {},
   "source": [
    "**What is the total number of unique genres available in the movie title type?**"
   ]
  },
  {
   "cell_type": "code",
   "execution_count": 17,
   "id": "c6044252",
   "metadata": {
    "execution": {
     "iopub.execute_input": "2023-11-02T20:49:15.705977Z",
     "iopub.status.busy": "2023-11-02T20:49:15.705748Z",
     "iopub.status.idle": "2023-11-02T20:49:23.070577Z",
     "shell.execute_reply": "2023-11-02T20:49:23.069788Z",
     "shell.execute_reply.started": "2023-11-02T20:49:15.705944Z"
    },
    "tags": []
   },
   "outputs": [
    {
     "data": {
      "application/vnd.jupyter.widget-view+json": {
       "model_id": "cbc63d74411642fe893638de4de05e0e",
       "version_major": 2,
       "version_minor": 0
      },
      "text/plain": [
       "VBox()"
      ]
     },
     "metadata": {},
     "output_type": "display_data"
    },
    {
     "data": {
      "application/vnd.jupyter.widget-view+json": {
       "model_id": "",
       "version_major": 2,
       "version_minor": 0
      },
      "text/plain": [
       "FloatProgress(value=0.0, bar_style='info', description='Progress:', layout=Layout(height='25px', width='50%'),…"
      ]
     },
     "metadata": {},
     "output_type": "display_data"
    },
    {
     "name": "stdout",
     "output_type": "stream",
     "text": [
      "29"
     ]
    }
   ],
   "source": []
  },
  {
   "cell_type": "code",
   "execution_count": 22,
   "id": "6abd37bd-04c7-490e-8138-2db471d23be0",
   "metadata": {
    "execution": {
     "iopub.execute_input": "2023-12-13T20:22:49.741324Z",
     "iopub.status.busy": "2023-12-13T20:22:49.741093Z",
     "iopub.status.idle": "2023-12-13T20:22:59.025952Z",
     "shell.execute_reply": "2023-12-13T20:22:59.025188Z",
     "shell.execute_reply.started": "2023-12-13T20:22:49.741300Z"
    },
    "tags": []
   },
   "outputs": [
    {
     "data": {
      "application/vnd.jupyter.widget-view+json": {
       "model_id": "43c884741bf8421b81b5cf8375ff4f9a",
       "version_major": 2,
       "version_minor": 0
      },
      "text/plain": [
       "VBox()"
      ]
     },
     "metadata": {},
     "output_type": "display_data"
    },
    {
     "data": {
      "application/vnd.jupyter.widget-view+json": {
       "model_id": "",
       "version_major": 2,
       "version_minor": 0
      },
      "text/plain": [
       "FloatProgress(value=0.0, bar_style='info', description='Progress:', layout=Layout(height='25px', width='50%'),…"
      ]
     },
     "metadata": {},
     "output_type": "display_data"
    },
    {
     "name": "stdout",
     "output_type": "stream",
     "text": [
      "+--------+\n",
      "|numgenre|\n",
      "+--------+\n",
      "|      29|\n",
      "+--------+"
     ]
    }
   ],
   "source": [
    "spark.sql('''\n",
    "SELECT COUNT (DISTINCT genre) AS numgenre\n",
    "FROM SplitGenre\n",
    "WHERE titleType == 'movie'\n",
    "''').show()\n"
   ]
  },
  {
   "cell_type": "markdown",
   "id": "5819adcc",
   "metadata": {},
   "source": [
    "**What are the unique genres available?**"
   ]
  },
  {
   "cell_type": "code",
   "execution_count": 18,
   "id": "2ecdf3ad",
   "metadata": {
    "execution": {
     "iopub.execute_input": "2023-11-02T20:49:23.072047Z",
     "iopub.status.busy": "2023-11-02T20:49:23.071764Z",
     "iopub.status.idle": "2023-11-02T20:49:30.368360Z",
     "shell.execute_reply": "2023-11-02T20:49:30.367552Z",
     "shell.execute_reply.started": "2023-11-02T20:49:23.072014Z"
    },
    "tags": []
   },
   "outputs": [
    {
     "data": {
      "application/vnd.jupyter.widget-view+json": {
       "model_id": "badbb476edd14d03ba5f6bbabedc7e0d",
       "version_major": 2,
       "version_minor": 0
      },
      "text/plain": [
       "VBox()"
      ]
     },
     "metadata": {},
     "output_type": "display_data"
    },
    {
     "data": {
      "application/vnd.jupyter.widget-view+json": {
       "model_id": "",
       "version_major": 2,
       "version_minor": 0
      },
      "text/plain": [
       "FloatProgress(value=0.0, bar_style='info', description='Progress:', layout=Layout(height='25px', width='50%'),…"
      ]
     },
     "metadata": {},
     "output_type": "display_data"
    },
    {
     "name": "stdout",
     "output_type": "stream",
     "text": [
      "+-----------+\n",
      "|genre      |\n",
      "+-----------+\n",
      "|Mystery    |\n",
      "|Musical    |\n",
      "|Sport      |\n",
      "|Action     |\n",
      "|Talk-Show  |\n",
      "|Romance    |\n",
      "|Thriller   |\n",
      "|\\N         |\n",
      "|Reality-TV |\n",
      "|Family     |\n",
      "|Fantasy    |\n",
      "|History    |\n",
      "|Animation  |\n",
      "|Film-Noir  |\n",
      "|Short      |\n",
      "|Sci-Fi     |\n",
      "|News       |\n",
      "|Drama      |\n",
      "|Documentary|\n",
      "|Western    |\n",
      "|Comedy     |\n",
      "|Crime      |\n",
      "|War        |\n",
      "|Game-Show  |\n",
      "|Adult      |\n",
      "|Music      |\n",
      "|Biography  |\n",
      "|Adventure  |\n",
      "|Horror     |\n",
      "+-----------+"
     ]
    }
   ],
   "source": []
  },
  {
   "cell_type": "code",
   "execution_count": 27,
   "id": "75ce4c3f-6ff8-44c0-a4a6-7478d48926dd",
   "metadata": {
    "execution": {
     "iopub.execute_input": "2023-12-13T20:26:10.147680Z",
     "iopub.status.busy": "2023-12-13T20:26:10.147433Z",
     "iopub.status.idle": "2023-12-13T20:26:19.426854Z",
     "shell.execute_reply": "2023-12-13T20:26:19.426179Z",
     "shell.execute_reply.started": "2023-12-13T20:26:10.147655Z"
    },
    "tags": []
   },
   "outputs": [
    {
     "data": {
      "application/vnd.jupyter.widget-view+json": {
       "model_id": "dcebec6f1a604f03b41ccc42198c87b6",
       "version_major": 2,
       "version_minor": 0
      },
      "text/plain": [
       "VBox()"
      ]
     },
     "metadata": {},
     "output_type": "display_data"
    },
    {
     "data": {
      "application/vnd.jupyter.widget-view+json": {
       "model_id": "",
       "version_major": 2,
       "version_minor": 0
      },
      "text/plain": [
       "FloatProgress(value=0.0, bar_style='info', description='Progress:', layout=Layout(height='25px', width='50%'),…"
      ]
     },
     "metadata": {},
     "output_type": "display_data"
    },
    {
     "name": "stdout",
     "output_type": "stream",
     "text": [
      "+-----------+\n",
      "|      genre|\n",
      "+-----------+\n",
      "|    Mystery|\n",
      "|    Musical|\n",
      "|      Sport|\n",
      "|     Action|\n",
      "|  Talk-Show|\n",
      "|    Romance|\n",
      "|   Thriller|\n",
      "|         \\N|\n",
      "| Reality-TV|\n",
      "|     Family|\n",
      "|    Fantasy|\n",
      "|    History|\n",
      "|  Animation|\n",
      "|  Film-Noir|\n",
      "|      Short|\n",
      "|     Sci-Fi|\n",
      "|       News|\n",
      "|      Drama|\n",
      "|Documentary|\n",
      "|    Western|\n",
      "|     Comedy|\n",
      "|      Crime|\n",
      "|        War|\n",
      "|  Game-Show|\n",
      "|      Adult|\n",
      "|      Music|\n",
      "|  Biography|\n",
      "|  Adventure|\n",
      "|     Horror|\n",
      "+-----------+"
     ]
    }
   ],
   "source": [
    "spark.sql('''SELECT DISTINCT genre\n",
    "FROM SplitGenre''').show(50)\n"
   ]
  },
  {
   "cell_type": "markdown",
   "id": "4c5f3022",
   "metadata": {},
   "source": [
    "**Oops! Something is off!**"
   ]
  },
  {
   "cell_type": "code",
   "execution_count": 19,
   "id": "e699b5ae",
   "metadata": {
    "execution": {
     "iopub.execute_input": "2023-11-02T20:49:30.369447Z",
     "iopub.status.busy": "2023-11-02T20:49:30.369268Z",
     "iopub.status.idle": "2023-11-02T20:49:37.659407Z",
     "shell.execute_reply": "2023-11-02T20:49:37.658720Z",
     "shell.execute_reply.started": "2023-11-02T20:49:30.369425Z"
    },
    "tags": []
   },
   "outputs": [
    {
     "data": {
      "application/vnd.jupyter.widget-view+json": {
       "model_id": "0ac937ca9d8a44e9a6438a483f911f2b",
       "version_major": 2,
       "version_minor": 0
      },
      "text/plain": [
       "VBox()"
      ]
     },
     "metadata": {},
     "output_type": "display_data"
    },
    {
     "data": {
      "application/vnd.jupyter.widget-view+json": {
       "model_id": "",
       "version_major": 2,
       "version_minor": 0
      },
      "text/plain": [
       "FloatProgress(value=0.0, bar_style='info', description='Progress:', layout=Layout(height='25px', width='50%'),…"
      ]
     },
     "metadata": {},
     "output_type": "display_data"
    },
    {
     "name": "stdout",
     "output_type": "stream",
     "text": [
      "+-----------+\n",
      "|genre      |\n",
      "+-----------+\n",
      "|Mystery    |\n",
      "|Musical    |\n",
      "|Sport      |\n",
      "|Action     |\n",
      "|Talk-Show  |\n",
      "|Romance    |\n",
      "|Thriller   |\n",
      "|Reality-TV |\n",
      "|Family     |\n",
      "|Fantasy    |\n",
      "|History    |\n",
      "|Animation  |\n",
      "|Film-Noir  |\n",
      "|Short      |\n",
      "|Sci-Fi     |\n",
      "|News       |\n",
      "|Drama      |\n",
      "|Documentary|\n",
      "|Western    |\n",
      "|Comedy     |\n",
      "|Crime      |\n",
      "|War        |\n",
      "|Game-Show  |\n",
      "|Adult      |\n",
      "|Music      |\n",
      "|Biography  |\n",
      "|Adventure  |\n",
      "|Horror     |\n",
      "+-----------+"
     ]
    }
   ],
   "source": []
  },
  {
   "cell_type": "code",
   "execution_count": 28,
   "id": "7428e7f5-8315-4156-93d5-0d36d3f9ec36",
   "metadata": {
    "execution": {
     "iopub.execute_input": "2023-12-13T20:26:32.998644Z",
     "iopub.status.busy": "2023-12-13T20:26:32.998407Z",
     "iopub.status.idle": "2023-12-13T20:26:42.280097Z",
     "shell.execute_reply": "2023-12-13T20:26:42.279446Z",
     "shell.execute_reply.started": "2023-12-13T20:26:32.998606Z"
    },
    "tags": []
   },
   "outputs": [
    {
     "data": {
      "application/vnd.jupyter.widget-view+json": {
       "model_id": "ae2e737600704f61ab67b802b69b5e39",
       "version_major": 2,
       "version_minor": 0
      },
      "text/plain": [
       "VBox()"
      ]
     },
     "metadata": {},
     "output_type": "display_data"
    },
    {
     "data": {
      "application/vnd.jupyter.widget-view+json": {
       "model_id": "",
       "version_major": 2,
       "version_minor": 0
      },
      "text/plain": [
       "FloatProgress(value=0.0, bar_style='info', description='Progress:', layout=Layout(height='25px', width='50%'),…"
      ]
     },
     "metadata": {},
     "output_type": "display_data"
    },
    {
     "name": "stdout",
     "output_type": "stream",
     "text": [
      "+-----------+\n",
      "|      genre|\n",
      "+-----------+\n",
      "|    Mystery|\n",
      "|    Musical|\n",
      "|      Sport|\n",
      "|     Action|\n",
      "|  Talk-Show|\n",
      "|    Romance|\n",
      "|   Thriller|\n",
      "| Reality-TV|\n",
      "|     Family|\n",
      "|    Fantasy|\n",
      "|    History|\n",
      "|  Animation|\n",
      "|  Film-Noir|\n",
      "|      Short|\n",
      "|     Sci-Fi|\n",
      "|       News|\n",
      "|      Drama|\n",
      "|Documentary|\n",
      "|    Western|\n",
      "|     Comedy|\n",
      "|      Crime|\n",
      "|        War|\n",
      "|  Game-Show|\n",
      "|      Adult|\n",
      "|      Music|\n",
      "|  Biography|\n",
      "|  Adventure|\n",
      "|     Horror|\n",
      "+-----------+"
     ]
    }
   ],
   "source": [
    "splitgenre.select(splitgenre.genre).filter(splitgenre.genre != '\\\\N').distinct().show(50)\n"
   ]
  },
  {
   "cell_type": "code",
   "execution_count": 29,
   "id": "bcaee58f-39a1-4f24-9b75-6002c421db3c",
   "metadata": {
    "execution": {
     "iopub.execute_input": "2023-12-13T20:28:05.074001Z",
     "iopub.status.busy": "2023-12-13T20:28:05.073764Z",
     "iopub.status.idle": "2023-12-13T20:28:05.344060Z",
     "shell.execute_reply": "2023-12-13T20:28:05.343442Z",
     "shell.execute_reply.started": "2023-12-13T20:28:05.073976Z"
    }
   },
   "outputs": [
    {
     "data": {
      "application/vnd.jupyter.widget-view+json": {
       "model_id": "1cc903539f4e4edabeb32acca1186604",
       "version_major": 2,
       "version_minor": 0
      },
      "text/plain": [
       "VBox()"
      ]
     },
     "metadata": {},
     "output_type": "display_data"
    },
    {
     "data": {
      "application/vnd.jupyter.widget-view+json": {
       "model_id": "",
       "version_major": 2,
       "version_minor": 0
      },
      "text/plain": [
       "FloatProgress(value=0.0, bar_style='info', description='Progress:', layout=Layout(height='25px', width='50%'),…"
      ]
     },
     "metadata": {},
     "output_type": "display_data"
    }
   ],
   "source": [
    "splitgenre=splitgenre.filter(splitgenre.genre != '\\\\N')\n",
    "splitgenre.createOrReplaceTempView('SplitGenre')"
   ]
  },
  {
   "cell_type": "markdown",
   "id": "b7d29ebd",
   "metadata": {},
   "source": [
    "## Top Genres by Movies\n",
    "\n",
    "Now let's find the highest rated genres in this dataset by rolling up genres."
   ]
  },
  {
   "cell_type": "markdown",
   "id": "de4c28e3",
   "metadata": {},
   "source": [
    "### Average Rating / Genre"
   ]
  },
  {
   "cell_type": "markdown",
   "id": "49f1153c",
   "metadata": {},
   "source": [
    "So now, let's unroll our distinct count a bit and display the per average rating value of per genre.\n",
    "\n",
    "The expected output should be:\n",
    "\n",
    "| genre | averageRating |\n",
    "|-------------|------------|\n",
    "| a     | 8.5         |\n",
    "| b     | 6.3         |\n",
    "| c     | 7.2         |\n",
    "\n",
    "Or something to that effect."
   ]
  },
  {
   "cell_type": "markdown",
   "id": "15423dc6",
   "metadata": {},
   "source": [
    "First, let's join our two dataframes (movie ratings and genres) by tconst"
   ]
  },
  {
   "cell_type": "code",
   "execution_count": 34,
   "id": "de53ff4a-99d9-4668-9696-4a1763faacae",
   "metadata": {
    "execution": {
     "iopub.execute_input": "2023-12-13T20:31:55.216492Z",
     "iopub.status.busy": "2023-12-13T20:31:55.216175Z",
     "iopub.status.idle": "2023-12-13T20:32:04.507138Z",
     "shell.execute_reply": "2023-12-13T20:32:04.506521Z",
     "shell.execute_reply.started": "2023-12-13T20:31:55.216456Z"
    },
    "tags": []
   },
   "outputs": [
    {
     "data": {
      "application/vnd.jupyter.widget-view+json": {
       "model_id": "958a07e1e68c4dbdb84a3679a1508d9c",
       "version_major": 2,
       "version_minor": 0
      },
      "text/plain": [
       "VBox()"
      ]
     },
     "metadata": {},
     "output_type": "display_data"
    },
    {
     "data": {
      "application/vnd.jupyter.widget-view+json": {
       "model_id": "",
       "version_major": 2,
       "version_minor": 0
      },
      "text/plain": [
       "FloatProgress(value=0.0, bar_style='info', description='Progress:', layout=Layout(height='25px', width='50%'),…"
      ]
     },
     "metadata": {},
     "output_type": "display_data"
    },
    {
     "name": "stdout",
     "output_type": "stream",
     "text": [
      "+---------+-----------+---------+\n",
      "|   tconst|      genre|titleType|\n",
      "+---------+-----------+---------+\n",
      "|tt0000009|    Romance|    movie|\n",
      "|tt0000147|Documentary|    movie|\n",
      "|tt0000147|       News|    movie|\n",
      "|tt0000147|      Sport|    movie|\n",
      "|tt0000335|  Biography|    movie|\n",
      "|tt0000335|      Drama|    movie|\n",
      "|tt0000574|  Biography|    movie|\n",
      "|tt0000574|      Crime|    movie|\n",
      "|tt0000574|      Drama|    movie|\n",
      "|tt0000615|      Drama|    movie|\n",
      "|tt0000630|      Drama|    movie|\n",
      "|tt0000675|      Drama|    movie|\n",
      "|tt0000676|      Drama|    movie|\n",
      "|tt0000679|  Adventure|    movie|\n",
      "|tt0000679|    Fantasy|    movie|\n",
      "|tt0000739|      Drama|    movie|\n",
      "|tt0000793|      Drama|    movie|\n",
      "|tt0000886|      Drama|    movie|\n",
      "|tt0000941|      Drama|    movie|\n",
      "|tt0001028|     Comedy|    movie|\n",
      "+---------+-----------+---------+\n",
      "only showing top 20 rows"
     ]
    }
   ],
   "source": [
    "movieg=splitgenre.select('tconst','genre', 'titleType').filter(splitgenre.titleType == 'movie')\n",
    "movieg.show()\n"
   ]
  },
  {
   "cell_type": "code",
   "execution_count": 35,
   "id": "9c58083c-2f65-457f-a026-1e08fb5feca8",
   "metadata": {
    "execution": {
     "iopub.execute_input": "2023-12-13T20:32:13.959531Z",
     "iopub.status.busy": "2023-12-13T20:32:13.959304Z",
     "iopub.status.idle": "2023-12-13T20:32:14.211501Z",
     "shell.execute_reply": "2023-12-13T20:32:14.210844Z",
     "shell.execute_reply.started": "2023-12-13T20:32:13.959508Z"
    },
    "tags": []
   },
   "outputs": [
    {
     "data": {
      "application/vnd.jupyter.widget-view+json": {
       "model_id": "db0907f908cd47a6864fdd1a8cf988e3",
       "version_major": 2,
       "version_minor": 0
      },
      "text/plain": [
       "VBox()"
      ]
     },
     "metadata": {},
     "output_type": "display_data"
    },
    {
     "data": {
      "application/vnd.jupyter.widget-view+json": {
       "model_id": "",
       "version_major": 2,
       "version_minor": 0
      },
      "text/plain": [
       "FloatProgress(value=0.0, bar_style='info', description='Progress:', layout=Layout(height='25px', width='50%'),…"
      ]
     },
     "metadata": {},
     "output_type": "display_data"
    }
   ],
   "source": [
    "movieg.createOrReplaceTempView('MovieG')"
   ]
  },
  {
   "cell_type": "code",
   "execution_count": 37,
   "id": "62a77b62-ab43-42f7-96dd-e3c9b31227cf",
   "metadata": {
    "execution": {
     "iopub.execute_input": "2023-12-13T20:33:06.047975Z",
     "iopub.status.busy": "2023-12-13T20:33:06.047752Z",
     "iopub.status.idle": "2023-12-13T20:33:06.297627Z",
     "shell.execute_reply": "2023-12-13T20:33:06.296996Z",
     "shell.execute_reply.started": "2023-12-13T20:33:06.047951Z"
    },
    "tags": []
   },
   "outputs": [
    {
     "data": {
      "application/vnd.jupyter.widget-view+json": {
       "model_id": "a8a4d22e87c049aea3499ff640de21b3",
       "version_major": 2,
       "version_minor": 0
      },
      "text/plain": [
       "VBox()"
      ]
     },
     "metadata": {},
     "output_type": "display_data"
    },
    {
     "data": {
      "application/vnd.jupyter.widget-view+json": {
       "model_id": "",
       "version_major": 2,
       "version_minor": 0
      },
      "text/plain": [
       "FloatProgress(value=0.0, bar_style='info', description='Progress:', layout=Layout(height='25px', width='50%'),…"
      ]
     },
     "metadata": {},
     "output_type": "display_data"
    }
   ],
   "source": [
    "name = name.withColumn(\"birthYear\", (col(\"birthYear\").cast(\"int\")))\n",
    "name = name.withColumn(\"deathYear\", (col(\"deathYear\").cast(\"int\")))\n",
    "title= title.withColumn(\"startYear\", (col(\"startYear\").cast(\"int\")))\n",
    "title= title.withColumn(\"endYear\", (col(\"endYear\").cast(\"int\")))\n",
    "title = title.withColumn(\"runtimeMinutes\", (col(\"runtimeMinutes\").cast(\"int\")))\n",
    "principals= principals.withColumn(\"ordering\", (col(\"ordering\").cast(\"int\")))\n",
    "ratings = ratings.withColumn(\"averageRating\", (col(\"averageRating\").cast(\"float\")))\n",
    "ratings = ratings.withColumn(\"numVotes\", (col(\"numVotes\").cast(\"int\")))\n",
    "\n",
    "\n",
    "\n"
   ]
  },
  {
   "cell_type": "code",
   "execution_count": 38,
   "id": "b7a1787e-f6d3-43c6-901e-8ec8402ac52c",
   "metadata": {
    "execution": {
     "iopub.execute_input": "2023-12-13T20:33:08.372202Z",
     "iopub.status.busy": "2023-12-13T20:33:08.371985Z",
     "iopub.status.idle": "2023-12-13T20:33:08.621674Z",
     "shell.execute_reply": "2023-12-13T20:33:08.621058Z",
     "shell.execute_reply.started": "2023-12-13T20:33:08.372176Z"
    }
   },
   "outputs": [
    {
     "data": {
      "application/vnd.jupyter.widget-view+json": {
       "model_id": "bb1220685e3a4fcbaa611ec9fda72765",
       "version_major": 2,
       "version_minor": 0
      },
      "text/plain": [
       "VBox()"
      ]
     },
     "metadata": {},
     "output_type": "display_data"
    },
    {
     "data": {
      "application/vnd.jupyter.widget-view+json": {
       "model_id": "",
       "version_major": 2,
       "version_minor": 0
      },
      "text/plain": [
       "FloatProgress(value=0.0, bar_style='info', description='Progress:', layout=Layout(height='25px', width='50%'),…"
      ]
     },
     "metadata": {},
     "output_type": "display_data"
    }
   ],
   "source": [
    "name.createOrReplaceTempView('Name')\n",
    "title.createOrReplaceTempView('Title')\n",
    "principals.createOrReplaceTempView('Principals')\n",
    "ratings.createOrReplaceTempView('Ratings')"
   ]
  },
  {
   "cell_type": "code",
   "execution_count": 20,
   "id": "71b5d21b",
   "metadata": {
    "execution": {
     "iopub.execute_input": "2023-11-02T20:49:37.660660Z",
     "iopub.status.busy": "2023-11-02T20:49:37.660419Z",
     "iopub.status.idle": "2023-11-02T20:49:46.947954Z",
     "shell.execute_reply": "2023-11-02T20:49:46.947217Z",
     "shell.execute_reply.started": "2023-11-02T20:49:37.660628Z"
    },
    "tags": []
   },
   "outputs": [
    {
     "data": {
      "application/vnd.jupyter.widget-view+json": {
       "model_id": "c2f6da34e99349b0b72c8c9c9ea861f5",
       "version_major": 2,
       "version_minor": 0
      },
      "text/plain": [
       "VBox()"
      ]
     },
     "metadata": {},
     "output_type": "display_data"
    },
    {
     "data": {
      "application/vnd.jupyter.widget-view+json": {
       "model_id": "",
       "version_major": 2,
       "version_minor": 0
      },
      "text/plain": [
       "FloatProgress(value=0.0, bar_style='info', description='Progress:', layout=Layout(height='25px', width='50%'),…"
      ]
     },
     "metadata": {},
     "output_type": "display_data"
    },
    {
     "name": "stdout",
     "output_type": "stream",
     "text": [
      "+---------+-------------+\n",
      "|    genre|averageRating|\n",
      "+---------+-------------+\n",
      "|    Drama|          4.2|\n",
      "|    Drama|          4.2|\n",
      "|Biography|          4.1|\n",
      "|    Drama|          4.1|\n",
      "|  History|          4.1|\n",
      "|    Drama|          5.7|\n",
      "|    Drama|          4.6|\n",
      "|  History|          4.6|\n",
      "|Biography|          6.3|\n",
      "|    Drama|          6.3|\n",
      "+---------+-------------+\n",
      "only showing top 10 rows"
     ]
    }
   ],
   "source": []
  },
  {
   "cell_type": "code",
   "execution_count": 39,
   "id": "2f279f61-21db-43c1-b322-7600b05a4af4",
   "metadata": {
    "execution": {
     "iopub.execute_input": "2023-12-13T20:33:56.761029Z",
     "iopub.status.busy": "2023-12-13T20:33:56.760806Z",
     "iopub.status.idle": "2023-12-13T20:34:10.052725Z",
     "shell.execute_reply": "2023-12-13T20:34:10.051945Z",
     "shell.execute_reply.started": "2023-12-13T20:33:56.761006Z"
    }
   },
   "outputs": [
    {
     "data": {
      "application/vnd.jupyter.widget-view+json": {
       "model_id": "4a1c956854114f56aa267a27ae5d301e",
       "version_major": 2,
       "version_minor": 0
      },
      "text/plain": [
       "VBox()"
      ]
     },
     "metadata": {},
     "output_type": "display_data"
    },
    {
     "data": {
      "application/vnd.jupyter.widget-view+json": {
       "model_id": "",
       "version_major": 2,
       "version_minor": 0
      },
      "text/plain": [
       "FloatProgress(value=0.0, bar_style='info', description='Progress:', layout=Layout(height='25px', width='50%'),…"
      ]
     },
     "metadata": {},
     "output_type": "display_data"
    },
    {
     "name": "stdout",
     "output_type": "stream",
     "text": [
      "+-----------+-------------+\n",
      "|      genre|averageRating|\n",
      "+-----------+-------------+\n",
      "|    Romance|          5.4|\n",
      "|Documentary|          5.2|\n",
      "|       News|          5.2|\n",
      "|      Sport|          5.2|\n",
      "|  Biography|          6.2|\n",
      "|      Drama|          6.2|\n",
      "|  Biography|          6.1|\n",
      "|      Crime|          6.1|\n",
      "|      Drama|          6.1|\n",
      "|      Drama|          4.8|\n",
      "|      Drama|          2.7|\n",
      "|      Drama|          4.2|\n",
      "|      Drama|          3.6|\n",
      "|  Adventure|          4.8|\n",
      "|    Fantasy|          4.8|\n",
      "|      Drama|          6.2|\n",
      "|      Drama|          4.2|\n",
      "|      Drama|          5.2|\n",
      "|      Drama|          4.2|\n",
      "|     Comedy|          4.0|\n",
      "+-----------+-------------+\n",
      "only showing top 20 rows"
     ]
    }
   ],
   "source": [
    "spark.sql('''\n",
    "SELECT MovieG.genre, Ratings.averageRating\n",
    "FROM Ratings  INNER JOIN  MovieG ON Ratings.tconst == MovieG.tconst''').show()"
   ]
  },
  {
   "cell_type": "markdown",
   "id": "98094ca8",
   "metadata": {},
   "source": [
    "Now, let's aggregate along the averageRating column to get a resultant dataframe that displays average rating per genre."
   ]
  },
  {
   "cell_type": "code",
   "execution_count": 21,
   "id": "317c522c",
   "metadata": {
    "execution": {
     "iopub.execute_input": "2023-11-02T20:49:46.950965Z",
     "iopub.status.busy": "2023-11-02T20:49:46.950771Z",
     "iopub.status.idle": "2023-11-02T20:49:56.239705Z",
     "shell.execute_reply": "2023-11-02T20:49:56.238983Z",
     "shell.execute_reply.started": "2023-11-02T20:49:46.950923Z"
    },
    "tags": []
   },
   "outputs": [
    {
     "data": {
      "application/vnd.jupyter.widget-view+json": {
       "model_id": "9dddb6357c75433e9b8390d2033ebc99",
       "version_major": 2,
       "version_minor": 0
      },
      "text/plain": [
       "VBox()"
      ]
     },
     "metadata": {},
     "output_type": "display_data"
    },
    {
     "data": {
      "application/vnd.jupyter.widget-view+json": {
       "model_id": "",
       "version_major": 2,
       "version_minor": 0
      },
      "text/plain": [
       "FloatProgress(value=0.0, bar_style='info', description='Progress:', layout=Layout(height='25px', width='50%'),…"
      ]
     },
     "metadata": {},
     "output_type": "display_data"
    },
    {
     "name": "stdout",
     "output_type": "stream",
     "text": [
      "+-----------+-----------------+\n",
      "|genre      |avg_rating       |\n",
      "+-----------+-----------------+\n",
      "|Mystery    |5.940437537126316|\n",
      "|Musical    |6.203246053185319|\n",
      "|Action     |5.718734067904495|\n",
      "|Sport      |6.600145190943391|\n",
      "|Romance    |6.125714179294426|\n",
      "|Thriller   |5.625967567519544|\n",
      "|Family     |6.250560452699635|\n",
      "|Fantasy    |5.924820762891499|\n",
      "|History    |6.822718117193864|\n",
      "|Animation  |6.326203749467441|\n",
      "|Film-Noir  |6.636246780503378|\n",
      "|Sci-Fi     |5.325150006900168|\n",
      "|News       |7.200916040944689|\n",
      "|Drama      |6.288080211097538|\n",
      "|Documentary|7.245469805371099|\n",
      "|Western    |5.948970991005059|\n",
      "|Comedy     |5.941363107822231|\n",
      "|Crime      |6.026013333109149|\n",
      "|War        |6.483807036278403|\n",
      "|Adult      |5.721742579082059|\n",
      "+-----------+-----------------+\n",
      "only showing top 20 rows"
     ]
    }
   ],
   "source": []
  },
  {
   "cell_type": "code",
   "execution_count": 40,
   "id": "8be09987-6968-4cc9-a52d-f69cf1d5c554",
   "metadata": {
    "execution": {
     "iopub.execute_input": "2023-12-13T20:34:50.653618Z",
     "iopub.status.busy": "2023-12-13T20:34:50.653361Z",
     "iopub.status.idle": "2023-12-13T20:35:01.947262Z",
     "shell.execute_reply": "2023-12-13T20:35:01.946610Z",
     "shell.execute_reply.started": "2023-12-13T20:34:50.653590Z"
    }
   },
   "outputs": [
    {
     "data": {
      "application/vnd.jupyter.widget-view+json": {
       "model_id": "1c7f6dee9bc8490483378c9ee98b5dab",
       "version_major": 2,
       "version_minor": 0
      },
      "text/plain": [
       "VBox()"
      ]
     },
     "metadata": {},
     "output_type": "display_data"
    },
    {
     "data": {
      "application/vnd.jupyter.widget-view+json": {
       "model_id": "",
       "version_major": 2,
       "version_minor": 0
      },
      "text/plain": [
       "FloatProgress(value=0.0, bar_style='info', description='Progress:', layout=Layout(height='25px', width='50%'),…"
      ]
     },
     "metadata": {},
     "output_type": "display_data"
    },
    {
     "name": "stdout",
     "output_type": "stream",
     "text": [
      "+-----------+-----------------+\n",
      "|      genre|       avg_rating|\n",
      "+-----------+-----------------+\n",
      "|    Mystery|5.940437537126316|\n",
      "|    Musical|6.203246053185319|\n",
      "|      Sport|6.600145190943391|\n",
      "|     Action|5.718734067904495|\n",
      "|  Talk-Show|5.800000190734863|\n",
      "|    Romance|6.125714179294426|\n",
      "|   Thriller|5.625967567519544|\n",
      "| Reality-TV|6.379310377712907|\n",
      "|     Family|6.250560452699635|\n",
      "|    Fantasy|5.924820762891499|\n",
      "|    History|6.822718117193864|\n",
      "|  Animation|6.326203749467441|\n",
      "|  Film-Noir|6.636246780503378|\n",
      "|      Short|7.259999942779541|\n",
      "|     Sci-Fi|5.325150006900168|\n",
      "|       News|7.200916040944689|\n",
      "|      Drama|6.288080211097538|\n",
      "|Documentary|7.245469805371099|\n",
      "|    Western|5.948970991005059|\n",
      "|     Comedy|5.941363107822231|\n",
      "+-----------+-----------------+\n",
      "only showing top 20 rows"
     ]
    }
   ],
   "source": [
    "genre_rating=spark.sql('''\n",
    "SELECT MovieG.genre, AVG(Ratings.averageRating) AS avg_rating\n",
    "FROM Ratings  INNER JOIN  MovieG ON Ratings.tconst == MovieG.tconst\n",
    "GROUP BY MovieG.genre''')\n",
    "\n",
    "genre_rating.show()\n"
   ]
  },
  {
   "cell_type": "markdown",
   "id": "b1fd4e61",
   "metadata": {},
   "source": [
    "### Horizontal Bar Chart of Top Genres\n",
    "\n",
    "With this data available, let us now build a barchart of all genres \n",
    "\n",
    "**HINT**: don't forget about the matplotlib magic!\n",
    "\n",
    "```\n",
    "%matplot plt\n",
    "```"
   ]
  },
  {
   "cell_type": "code",
   "execution_count": 22,
   "id": "2865ccdb",
   "metadata": {
    "execution": {
     "iopub.execute_input": "2023-11-02T20:49:56.241876Z",
     "iopub.status.busy": "2023-11-02T20:49:56.241620Z",
     "iopub.status.idle": "2023-11-02T20:50:05.525877Z",
     "shell.execute_reply": "2023-11-02T20:50:05.525104Z",
     "shell.execute_reply.started": "2023-11-02T20:49:56.241842Z"
    },
    "tags": []
   },
   "outputs": [
    {
     "data": {
      "application/vnd.jupyter.widget-view+json": {
       "model_id": "ebf9975d0559465a8be4114698d10c00",
       "version_major": 2,
       "version_minor": 0
      },
      "text/plain": [
       "VBox()"
      ]
     },
     "metadata": {},
     "output_type": "display_data"
    },
    {
     "data": {
      "application/vnd.jupyter.widget-view+json": {
       "model_id": "",
       "version_major": 2,
       "version_minor": 0
      },
      "text/plain": [
       "FloatProgress(value=0.0, bar_style='info', description='Progress:', layout=Layout(height='25px', width='50%'),…"
      ]
     },
     "metadata": {},
     "output_type": "display_data"
    },
    {
     "name": "stdout",
     "output_type": "stream",
     "text": [
      "+-----------+-----------------+\n",
      "|genre      |avg_rating       |\n",
      "+-----------+-----------------+\n",
      "|Short      |7.259999942779541|\n",
      "|Documentary|7.245469805371099|\n",
      "|News       |7.200916040944689|\n",
      "|Biography  |6.983637643044585|\n",
      "|Game-Show  |6.974999904632568|\n",
      "|History    |6.822718117193864|\n",
      "|Music      |6.752020207214588|\n",
      "|Film-Noir  |6.636246780503378|\n",
      "|Sport      |6.600145190943391|\n",
      "|War        |6.483807036278403|\n",
      "|Reality-TV |6.379310377712907|\n",
      "|Animation  |6.326203749467441|\n",
      "|Drama      |6.288080211097538|\n",
      "|Family     |6.250560452699635|\n",
      "|Musical    |6.203246053185319|\n",
      "|Romance    |6.125714179294426|\n",
      "|Crime      |6.026013333109149|\n",
      "|Western    |5.948970991005059|\n",
      "|Comedy     |5.941363107822231|\n",
      "|Mystery    |5.940437537126316|\n",
      "+-----------+-----------------+\n",
      "only showing top 20 rows"
     ]
    }
   ],
   "source": []
  },
  {
   "cell_type": "code",
   "execution_count": 42,
   "id": "8749caed-7abf-4d7c-b63d-5f8e37e43ee2",
   "metadata": {
    "execution": {
     "iopub.execute_input": "2023-12-13T20:36:33.718038Z",
     "iopub.status.busy": "2023-12-13T20:36:33.717796Z",
     "iopub.status.idle": "2023-12-13T20:36:43.002803Z",
     "shell.execute_reply": "2023-12-13T20:36:43.002046Z",
     "shell.execute_reply.started": "2023-12-13T20:36:33.718013Z"
    },
    "tags": []
   },
   "outputs": [
    {
     "data": {
      "application/vnd.jupyter.widget-view+json": {
       "model_id": "6b3b03c4bd6b4c61b590956f9fb1e91b",
       "version_major": 2,
       "version_minor": 0
      },
      "text/plain": [
       "VBox()"
      ]
     },
     "metadata": {},
     "output_type": "display_data"
    },
    {
     "data": {
      "application/vnd.jupyter.widget-view+json": {
       "model_id": "",
       "version_major": 2,
       "version_minor": 0
      },
      "text/plain": [
       "FloatProgress(value=0.0, bar_style='info', description='Progress:', layout=Layout(height='25px', width='50%'),…"
      ]
     },
     "metadata": {},
     "output_type": "display_data"
    },
    {
     "name": "stdout",
     "output_type": "stream",
     "text": [
      "+-----------+-----------------+\n",
      "|      genre|       avg_rating|\n",
      "+-----------+-----------------+\n",
      "|      Short|7.259999942779541|\n",
      "|Documentary|7.245469805371099|\n",
      "|       News|7.200916040944689|\n",
      "|  Biography|6.983637643044585|\n",
      "|  Game-Show|6.974999904632568|\n",
      "|    History|6.822718117193864|\n",
      "|      Music|6.752020207214588|\n",
      "|  Film-Noir|6.636246780503378|\n",
      "|      Sport|6.600145190943391|\n",
      "|        War|6.483807036278403|\n",
      "| Reality-TV|6.379310377712907|\n",
      "|  Animation|6.326203749467441|\n",
      "|      Drama|6.288080211097538|\n",
      "|     Family|6.250560452699635|\n",
      "|    Musical|6.203246053185319|\n",
      "|    Romance|6.125714179294426|\n",
      "|      Crime|6.026013333109149|\n",
      "|    Western|5.948970991005059|\n",
      "|     Comedy|5.941363107822231|\n",
      "|    Mystery|5.940437537126316|\n",
      "+-----------+-----------------+\n",
      "only showing top 20 rows"
     ]
    }
   ],
   "source": [
    "or_genre_rating=spark.sql('''\n",
    "SELECT MovieG.genre, AVG(Ratings.averageRating) AS avg_rating\n",
    "FROM Ratings  INNER JOIN  MovieG ON Ratings.tconst == MovieG.tconst\n",
    "GROUP BY MovieG.genre\n",
    "ORDER BY avg_rating Desc''')\n",
    "\n",
    "or_genre_rating.show()"
   ]
  },
  {
   "cell_type": "code",
   "execution_count": 157,
   "id": "13770b91-677f-4bdc-a5b4-4da523edaca5",
   "metadata": {
    "execution": {
     "iopub.execute_input": "2023-12-13T23:43:12.900069Z",
     "iopub.status.busy": "2023-12-13T23:43:12.899837Z",
     "iopub.status.idle": "2023-12-13T23:43:13.157069Z",
     "shell.execute_reply": "2023-12-13T23:43:13.156419Z",
     "shell.execute_reply.started": "2023-12-13T23:43:12.900043Z"
    },
    "tags": []
   },
   "outputs": [
    {
     "data": {
      "application/vnd.jupyter.widget-view+json": {
       "model_id": "98b39f5c0cc141b3b010e398a7c7b07e",
       "version_major": 2,
       "version_minor": 0
      },
      "text/plain": [
       "VBox()"
      ]
     },
     "metadata": {},
     "output_type": "display_data"
    },
    {
     "data": {
      "application/vnd.jupyter.widget-view+json": {
       "model_id": "",
       "version_major": 2,
       "version_minor": 0
      },
      "text/plain": [
       "FloatProgress(value=0.0, bar_style='info', description='Progress:', layout=Layout(height='25px', width='50%'),…"
      ]
     },
     "metadata": {},
     "output_type": "display_data"
    }
   ],
   "source": [
    "re_genre_rating=spark.sql('''\n",
    "SELECT MovieG.genre, AVG(Ratings.averageRating) AS avg_rating\n",
    "FROM Ratings  INNER JOIN  MovieG ON Ratings.tconst == MovieG.tconst\n",
    "GROUP BY MovieG.genre\n",
    "ORDER BY avg_rating ''')\n",
    "\n"
   ]
  },
  {
   "cell_type": "code",
   "execution_count": 23,
   "id": "4a868d3d",
   "metadata": {
    "execution": {
     "iopub.execute_input": "2023-11-02T20:50:05.527385Z",
     "iopub.status.busy": "2023-11-02T20:50:05.527112Z",
     "iopub.status.idle": "2023-11-02T20:50:14.902014Z",
     "shell.execute_reply": "2023-11-02T20:50:14.875066Z",
     "shell.execute_reply.started": "2023-11-02T20:50:05.527339Z"
    },
    "tags": []
   },
   "outputs": [
    {
     "data": {
      "application/vnd.jupyter.widget-view+json": {
       "model_id": "a3f01c91628249d0a8f7fc8f76d7cda1",
       "version_major": 2,
       "version_minor": 0
      },
      "text/plain": [
       "VBox()"
      ]
     },
     "metadata": {},
     "output_type": "display_data"
    },
    {
     "data": {
      "application/vnd.jupyter.widget-view+json": {
       "model_id": "",
       "version_major": 2,
       "version_minor": 0
      },
      "text/plain": [
       "FloatProgress(value=0.0, bar_style='info', description='Progress:', layout=Layout(height='25px', width='50%'),…"
      ]
     },
     "metadata": {},
     "output_type": "display_data"
    },
    {
     "data": {
      "image/png": "[encoded data removed]",
      "text/plain": [
       "<IPython.core.display.Image object>"
      ]
     },
     "metadata": {},
     "output_type": "display_data"
    }
   ],
   "source": []
  },
  {
   "cell_type": "code",
   "execution_count": 54,
   "id": "b253357d-dcdc-4dc2-9690-ba81485b1d8a",
   "metadata": {
    "execution": {
     "iopub.execute_input": "2023-12-13T20:53:32.366963Z",
     "iopub.status.busy": "2023-12-13T20:53:32.366681Z",
     "iopub.status.idle": "2023-12-13T20:53:32.422581Z",
     "shell.execute_reply": "2023-12-13T20:53:32.420578Z",
     "shell.execute_reply.started": "2023-12-13T20:53:32.366932Z"
    }
   },
   "outputs": [
    {
     "data": {
      "application/vnd.jupyter.widget-view+json": {
       "model_id": "68ba8a6ed15b42b9b1b9a489fb2dbed4",
       "version_major": 2,
       "version_minor": 0
      },
      "text/plain": [
       "VBox()"
      ]
     },
     "metadata": {},
     "output_type": "display_data"
    },
    {
     "data": {
      "application/vnd.jupyter.widget-view+json": {
       "model_id": "",
       "version_major": 2,
       "version_minor": 0
      },
      "text/plain": [
       "FloatProgress(value=0.0, bar_style='info', description='Progress:', layout=Layout(height='25px', width='50%'),…"
      ]
     },
     "metadata": {},
     "output_type": "display_data"
    }
   ],
   "source": [
    "import pandas as pd\n",
    "import matplotlib.pyplot as plt"
   ]
  },
  {
   "cell_type": "code",
   "execution_count": 158,
   "id": "c6791c6f-bc71-4bcb-b696-43ab94a4b2c9",
   "metadata": {
    "execution": {
     "iopub.execute_input": "2023-12-13T23:43:21.972282Z",
     "iopub.status.busy": "2023-12-13T23:43:21.972060Z",
     "iopub.status.idle": "2023-12-13T23:43:43.301988Z",
     "shell.execute_reply": "2023-12-13T23:43:43.301330Z",
     "shell.execute_reply.started": "2023-12-13T23:43:21.972257Z"
    },
    "tags": []
   },
   "outputs": [
    {
     "data": {
      "application/vnd.jupyter.widget-view+json": {
       "model_id": "6f397da5ae7a4298a6e4e324ecb760a6",
       "version_major": 2,
       "version_minor": 0
      },
      "text/plain": [
       "VBox()"
      ]
     },
     "metadata": {},
     "output_type": "display_data"
    },
    {
     "data": {
      "application/vnd.jupyter.widget-view+json": {
       "model_id": "",
       "version_major": 2,
       "version_minor": 0
      },
      "text/plain": [
       "FloatProgress(value=0.0, bar_style='info', description='Progress:', layout=Layout(height='25px', width='50%'),…"
      ]
     },
     "metadata": {},
     "output_type": "display_data"
    },
    {
     "data": {
      "image/png": "[encoded data removed]",
      "text/plain": [
       "<IPython.core.display.Image object>"
      ]
     },
     "metadata": {},
     "output_type": "display_data"
    }
   ],
   "source": [
    "re_genre_rating.toPandas().plot.barh(y='avg_rating', x='genre',figsize=(10,10), color = 'purple')\n",
    "plt.xlabel('Average Rating')\n",
    "plt.ylabel('Genre')  \n",
    "plt.title('Top Genre in Movie Category')\n",
    "plt.xlim(5,7.5)\n",
    "\n",
    "%matplot plt"
   ]
  },
  {
   "cell_type": "markdown",
   "id": "3671c612",
   "metadata": {},
   "source": [
    "## PART 3 - Analyzing Job Categories"
   ]
  },
  {
   "cell_type": "markdown",
   "id": "2912a0ba",
   "metadata": {},
   "source": [
    "## Total Unique Job Categories"
   ]
  },
  {
   "cell_type": "markdown",
   "id": "099531c0",
   "metadata": {},
   "source": [
    "**What is the total number of unique job categories?**"
   ]
  },
  {
   "cell_type": "code",
   "execution_count": 24,
   "id": "bf5ea336",
   "metadata": {
    "execution": {
     "iopub.execute_input": "2023-11-02T20:50:14.903310Z",
     "iopub.status.busy": "2023-11-02T20:50:14.903111Z",
     "iopub.status.idle": "2023-11-02T20:50:15.713590Z",
     "shell.execute_reply": "2023-11-02T20:50:15.712675Z",
     "shell.execute_reply.started": "2023-11-02T20:50:14.903281Z"
    },
    "tags": []
   },
   "outputs": [
    {
     "data": {
      "application/vnd.jupyter.widget-view+json": {
       "model_id": "05baf8271fec4407a717556d5b67da13",
       "version_major": 2,
       "version_minor": 0
      },
      "text/plain": [
       "VBox()"
      ]
     },
     "metadata": {},
     "output_type": "display_data"
    },
    {
     "data": {
      "application/vnd.jupyter.widget-view+json": {
       "model_id": "",
       "version_major": 2,
       "version_minor": 0
      },
      "text/plain": [
       "FloatProgress(value=0.0, bar_style='info', description='Progress:', layout=Layout(height='25px', width='50%'),…"
      ]
     },
     "metadata": {},
     "output_type": "display_data"
    },
    {
     "name": "stdout",
     "output_type": "stream",
     "text": [
      "+---------+---------------+\n",
      "|   tconst|       category|\n",
      "+---------+---------------+\n",
      "|tt0000001|           self|\n",
      "|tt0000001|       director|\n",
      "|tt0000001|cinematographer|\n",
      "|tt0000002|       director|\n",
      "|tt0000002|       composer|\n",
      "+---------+---------------+\n",
      "only showing top 5 rows"
     ]
    }
   ],
   "source": []
  },
  {
   "cell_type": "code",
   "execution_count": null,
   "id": "f2c89ffe-ff97-4e62-b19f-f4773ae551fa",
   "metadata": {},
   "outputs": [],
   "source": []
  },
  {
   "cell_type": "code",
   "execution_count": 62,
   "id": "d965afea-1513-4bda-a9c3-7d7bac117966",
   "metadata": {
    "execution": {
     "iopub.execute_input": "2023-12-13T21:04:17.445999Z",
     "iopub.status.busy": "2023-12-13T21:04:17.445778Z",
     "iopub.status.idle": "2023-12-13T21:04:26.728295Z",
     "shell.execute_reply": "2023-12-13T21:04:26.727567Z",
     "shell.execute_reply.started": "2023-12-13T21:04:17.445976Z"
    },
    "tags": []
   },
   "outputs": [
    {
     "data": {
      "application/vnd.jupyter.widget-view+json": {
       "model_id": "fe7af2051e9f493e89cf6df3c24edca3",
       "version_major": 2,
       "version_minor": 0
      },
      "text/plain": [
       "VBox()"
      ]
     },
     "metadata": {},
     "output_type": "display_data"
    },
    {
     "data": {
      "application/vnd.jupyter.widget-view+json": {
       "model_id": "",
       "version_major": 2,
       "version_minor": 0
      },
      "text/plain": [
       "FloatProgress(value=0.0, bar_style='info', description='Progress:', layout=Layout(height='25px', width='50%'),…"
      ]
     },
     "metadata": {},
     "output_type": "display_data"
    },
    {
     "name": "stdout",
     "output_type": "stream",
     "text": [
      "+---------+---------------+\n",
      "|   tconst|   job_category|\n",
      "+---------+---------------+\n",
      "|tt0000001|           self|\n",
      "|tt0000001|       director|\n",
      "|tt0000001|cinematographer|\n",
      "|tt0000002|       director|\n",
      "|tt0000002|       composer|\n",
      "|tt0000003|       director|\n",
      "|tt0000003|       producer|\n",
      "|tt0000003|       composer|\n",
      "|tt0000003|         editor|\n",
      "|tt0000004|       director|\n",
      "+---------+---------------+\n",
      "only showing top 10 rows"
     ]
    }
   ],
   "source": [
    "jobcat=spark.sql('''\n",
    "SELECT tconst,  EXPLODE(SPLIT(category, ',')) AS job_category\n",
    "FROM Principals''')\n",
    "jobcat.show(10)\n"
   ]
  },
  {
   "cell_type": "code",
   "execution_count": 63,
   "id": "84695844-d2a2-47cd-8fd3-f8916f6af67b",
   "metadata": {
    "execution": {
     "iopub.execute_input": "2023-12-13T21:04:33.246411Z",
     "iopub.status.busy": "2023-12-13T21:04:33.246183Z",
     "iopub.status.idle": "2023-12-13T21:04:33.296193Z",
     "shell.execute_reply": "2023-12-13T21:04:33.295592Z",
     "shell.execute_reply.started": "2023-12-13T21:04:33.246385Z"
    }
   },
   "outputs": [
    {
     "data": {
      "application/vnd.jupyter.widget-view+json": {
       "model_id": "9b1212bf0726411fb73be225c42b7cfd",
       "version_major": 2,
       "version_minor": 0
      },
      "text/plain": [
       "VBox()"
      ]
     },
     "metadata": {},
     "output_type": "display_data"
    },
    {
     "data": {
      "application/vnd.jupyter.widget-view+json": {
       "model_id": "",
       "version_major": 2,
       "version_minor": 0
      },
      "text/plain": [
       "FloatProgress(value=0.0, bar_style='info', description='Progress:', layout=Layout(height='25px', width='50%'),…"
      ]
     },
     "metadata": {},
     "output_type": "display_data"
    }
   ],
   "source": [
    "jobcat.createOrReplaceTempView('JobCat')"
   ]
  },
  {
   "cell_type": "code",
   "execution_count": 25,
   "id": "44203333",
   "metadata": {
    "execution": {
     "iopub.execute_input": "2023-11-02T20:50:15.717878Z",
     "iopub.status.busy": "2023-11-02T20:50:15.717631Z",
     "iopub.status.idle": "2023-11-02T20:50:41.066415Z",
     "shell.execute_reply": "2023-11-02T20:50:41.065676Z",
     "shell.execute_reply.started": "2023-11-02T20:50:15.717845Z"
    },
    "tags": []
   },
   "outputs": [
    {
     "data": {
      "application/vnd.jupyter.widget-view+json": {
       "model_id": "a3a7914f180440ce93fbb95a9cb1bcd0",
       "version_major": 2,
       "version_minor": 0
      },
      "text/plain": [
       "VBox()"
      ]
     },
     "metadata": {},
     "output_type": "display_data"
    },
    {
     "data": {
      "application/vnd.jupyter.widget-view+json": {
       "model_id": "",
       "version_major": 2,
       "version_minor": 0
      },
      "text/plain": [
       "FloatProgress(value=0.0, bar_style='info', description='Progress:', layout=Layout(height='25px', width='50%'),…"
      ]
     },
     "metadata": {},
     "output_type": "display_data"
    },
    {
     "name": "stdout",
     "output_type": "stream",
     "text": [
      "12"
     ]
    }
   ],
   "source": []
  },
  {
   "cell_type": "code",
   "execution_count": 64,
   "id": "840be5b4-c818-4d0e-93f3-ad2f244e81a1",
   "metadata": {
    "execution": {
     "iopub.execute_input": "2023-12-13T21:04:51.611861Z",
     "iopub.status.busy": "2023-12-13T21:04:51.611640Z",
     "iopub.status.idle": "2023-12-13T21:05:22.953981Z",
     "shell.execute_reply": "2023-12-13T21:05:22.953207Z",
     "shell.execute_reply.started": "2023-12-13T21:04:51.611838Z"
    }
   },
   "outputs": [
    {
     "data": {
      "application/vnd.jupyter.widget-view+json": {
       "model_id": "cf9f378b472b43158022fcf720db1c70",
       "version_major": 2,
       "version_minor": 0
      },
      "text/plain": [
       "VBox()"
      ]
     },
     "metadata": {},
     "output_type": "display_data"
    },
    {
     "data": {
      "application/vnd.jupyter.widget-view+json": {
       "model_id": "",
       "version_major": 2,
       "version_minor": 0
      },
      "text/plain": [
       "FloatProgress(value=0.0, bar_style='info', description='Progress:', layout=Layout(height='25px', width='50%'),…"
      ]
     },
     "metadata": {},
     "output_type": "display_data"
    },
    {
     "name": "stdout",
     "output_type": "stream",
     "text": [
      "+----------------------------+\n",
      "|count(DISTINCT job_category)|\n",
      "+----------------------------+\n",
      "|                          12|\n",
      "+----------------------------+"
     ]
    }
   ],
   "source": [
    "spark.sql('''\n",
    "SELECT COUNT(DISTINCT job_category)\n",
    "FROM JobCat\n",
    "WHERE job_category IS NOT NULL''').show()\n"
   ]
  },
  {
   "cell_type": "markdown",
   "id": "c3b2f7b4",
   "metadata": {},
   "source": [
    "**What are the unique job categories available?**"
   ]
  },
  {
   "cell_type": "code",
   "execution_count": 26,
   "id": "e03438b0",
   "metadata": {
    "execution": {
     "iopub.execute_input": "2023-11-02T20:50:41.067906Z",
     "iopub.status.busy": "2023-11-02T20:50:41.067643Z",
     "iopub.status.idle": "2023-11-02T20:51:06.400132Z",
     "shell.execute_reply": "2023-11-02T20:51:06.399395Z",
     "shell.execute_reply.started": "2023-11-02T20:50:41.067871Z"
    },
    "tags": []
   },
   "outputs": [
    {
     "data": {
      "application/vnd.jupyter.widget-view+json": {
       "model_id": "dffbfe4967f2465bae954f616d7869b2",
       "version_major": 2,
       "version_minor": 0
      },
      "text/plain": [
       "VBox()"
      ]
     },
     "metadata": {},
     "output_type": "display_data"
    },
    {
     "data": {
      "application/vnd.jupyter.widget-view+json": {
       "model_id": "",
       "version_major": 2,
       "version_minor": 0
      },
      "text/plain": [
       "FloatProgress(value=0.0, bar_style='info', description='Progress:', layout=Layout(height='25px', width='50%'),…"
      ]
     },
     "metadata": {},
     "output_type": "display_data"
    },
    {
     "name": "stdout",
     "output_type": "stream",
     "text": [
      "+-------------------+\n",
      "|category           |\n",
      "+-------------------+\n",
      "|actress            |\n",
      "|producer           |\n",
      "|production_designer|\n",
      "|writer             |\n",
      "|actor              |\n",
      "|cinematographer    |\n",
      "|archive_sound      |\n",
      "|archive_footage    |\n",
      "|self               |\n",
      "|editor             |\n",
      "|composer           |\n",
      "|director           |\n",
      "+-------------------+"
     ]
    }
   ],
   "source": []
  },
  {
   "cell_type": "code",
   "execution_count": 65,
   "id": "4ed61843-45a5-4560-9b9c-437664ca71cd",
   "metadata": {
    "execution": {
     "iopub.execute_input": "2023-12-13T21:05:47.348966Z",
     "iopub.status.busy": "2023-12-13T21:05:47.348743Z",
     "iopub.status.idle": "2023-12-13T21:06:16.712050Z",
     "shell.execute_reply": "2023-12-13T21:06:16.711348Z",
     "shell.execute_reply.started": "2023-12-13T21:05:47.348944Z"
    }
   },
   "outputs": [
    {
     "data": {
      "application/vnd.jupyter.widget-view+json": {
       "model_id": "6a81e2ee339e4c5489fdc37a741e8a4a",
       "version_major": 2,
       "version_minor": 0
      },
      "text/plain": [
       "VBox()"
      ]
     },
     "metadata": {},
     "output_type": "display_data"
    },
    {
     "data": {
      "application/vnd.jupyter.widget-view+json": {
       "model_id": "",
       "version_major": 2,
       "version_minor": 0
      },
      "text/plain": [
       "FloatProgress(value=0.0, bar_style='info', description='Progress:', layout=Layout(height='25px', width='50%'),…"
      ]
     },
     "metadata": {},
     "output_type": "display_data"
    },
    {
     "name": "stdout",
     "output_type": "stream",
     "text": [
      "+-------------------+\n",
      "|       job_category|\n",
      "+-------------------+\n",
      "|            actress|\n",
      "|           producer|\n",
      "|production_designer|\n",
      "|             writer|\n",
      "|              actor|\n",
      "|    cinematographer|\n",
      "|      archive_sound|\n",
      "|    archive_footage|\n",
      "|               self|\n",
      "|             editor|\n",
      "|           composer|\n",
      "|           director|\n",
      "+-------------------+"
     ]
    }
   ],
   "source": [
    "spark.sql('''\n",
    "SELECT DISTINCT job_category\n",
    "FROM JobCat\n",
    "WHERE job_category IS NOT NULL''').show()\n",
    "\n"
   ]
  },
  {
   "cell_type": "markdown",
   "id": "47312540",
   "metadata": {},
   "source": [
    "## Top Job Categories"
   ]
  },
  {
   "cell_type": "markdown",
   "id": "61df21f0",
   "metadata": {},
   "source": [
    "Now let's find the top job categories in this dataset by rolling up categories."
   ]
  },
  {
   "cell_type": "markdown",
   "id": "2d56869a",
   "metadata": {},
   "source": [
    "### Counts of Titles / Job Category"
   ]
  },
  {
   "cell_type": "markdown",
   "id": "ae87af2f",
   "metadata": {},
   "source": [
    "The expected output should be:\n",
    "\n",
    "| category | count |\n",
    "|-------------|------------|\n",
    "| a     | 15         |\n",
    "| b     | 2          |\n",
    "| c     | 45          |\n",
    "\n",
    "Or something to that effect."
   ]
  },
  {
   "cell_type": "code",
   "execution_count": 27,
   "id": "f3d65964",
   "metadata": {
    "execution": {
     "iopub.execute_input": "2023-11-02T20:51:06.401523Z",
     "iopub.status.busy": "2023-11-02T20:51:06.401262Z",
     "iopub.status.idle": "2023-11-02T20:51:31.746235Z",
     "shell.execute_reply": "2023-11-02T20:51:31.745609Z",
     "shell.execute_reply.started": "2023-11-02T20:51:06.401490Z"
    },
    "tags": []
   },
   "outputs": [
    {
     "data": {
      "application/vnd.jupyter.widget-view+json": {
       "model_id": "2cead30a2941416f8438fa595d2ca526",
       "version_major": 2,
       "version_minor": 0
      },
      "text/plain": [
       "VBox()"
      ]
     },
     "metadata": {},
     "output_type": "display_data"
    },
    {
     "data": {
      "application/vnd.jupyter.widget-view+json": {
       "model_id": "",
       "version_major": 2,
       "version_minor": 0
      },
      "text/plain": [
       "FloatProgress(value=0.0, bar_style='info', description='Progress:', layout=Layout(height='25px', width='50%'),…"
      ]
     },
     "metadata": {},
     "output_type": "display_data"
    },
    {
     "name": "stdout",
     "output_type": "stream",
     "text": [
      "+-------------------+-------+\n",
      "|category           |count  |\n",
      "+-------------------+-------+\n",
      "|actress            |6325097|\n",
      "|producer           |2197866|\n",
      "|production_designer|285924 |\n",
      "|writer             |4811596|\n",
      "|actor              |8493701|\n",
      "|cinematographer    |1300404|\n",
      "|archive_sound      |2143   |\n",
      "|archive_footage    |209035 |\n",
      "|self               |6153089|\n",
      "|editor             |1197669|\n",
      "|composer           |1313187|\n",
      "|director           |4179106|\n",
      "+-------------------+-------+"
     ]
    }
   ],
   "source": []
  },
  {
   "cell_type": "code",
   "execution_count": null,
   "id": "932f998e-18ae-495b-9038-23ab5d11ba5d",
   "metadata": {
    "execution": {
     "iopub.execute_input": "2023-12-13T21:07:16.718306Z",
     "iopub.status.busy": "2023-12-13T21:07:16.718078Z",
     "iopub.status.idle": "2023-12-13T21:07:58.580165Z"
    }
   },
   "outputs": [
    {
     "data": {
      "application/vnd.jupyter.widget-view+json": {
       "model_id": "37ed050dadb44b14ab15ab69d69b683f",
       "version_major": 2,
       "version_minor": 0
      },
      "text/plain": [
       "VBox()"
      ]
     },
     "metadata": {},
     "output_type": "display_data"
    },
    {
     "data": {
      "application/vnd.jupyter.widget-view+json": {
       "model_id": "",
       "version_major": 2,
       "version_minor": 0
      },
      "text/plain": [
       "FloatProgress(value=0.0, bar_style='info', description='Progress:', layout=Layout(height='25px', width='50%'),…"
      ]
     },
     "metadata": {},
     "output_type": "display_data"
    },
    {
     "name": "stdout",
     "output_type": "stream",
     "text": [
      "+-------------------+-------+\n",
      "|       job_category|  count|\n",
      "+-------------------+-------+\n",
      "|            actress|6325097|\n",
      "|           producer|2197866|\n",
      "|production_designer| 285924|\n",
      "|             writer|4811596|\n",
      "|              actor|8493701|\n",
      "|    cinematographer|1300404|\n",
      "|      archive_sound|   2143|\n",
      "|    archive_footage| 209035|\n",
      "|               self|6153089|\n",
      "|             editor|1197669|\n",
      "|           composer|1313187|\n",
      "|           director|4179106|\n",
      "+-------------------+-------+"
     ]
    }
   ],
   "source": [
    "spark.sql('''\n",
    "SELECT job_category, COUNT( job_category) AS count\n",
    "FROM JobCat\n",
    "WHERE job_category IS NOT NULL\n",
    "GROUP BY job_category''').show()\n"
   ]
  },
  {
   "cell_type": "markdown",
   "id": "f8671889",
   "metadata": {},
   "source": [
    "### Bar Chart of Top Job Categories\n",
    "\n",
    "With this data available, let us now build a barchart of the top 5 categories. \n",
    "\n",
    "**HINT**: don't forget about the matplotlib magic!\n",
    "\n",
    "```\n",
    "%matplot plt\n",
    "```"
   ]
  },
  {
   "cell_type": "code",
   "execution_count": 28,
   "id": "3c73edf1",
   "metadata": {
    "execution": {
     "iopub.execute_input": "2023-11-02T20:51:31.747342Z",
     "iopub.status.busy": "2023-11-02T20:51:31.747173Z",
     "iopub.status.idle": "2023-11-02T20:51:57.081634Z",
     "shell.execute_reply": "2023-11-02T20:51:57.081001Z",
     "shell.execute_reply.started": "2023-11-02T20:51:31.747321Z"
    },
    "tags": []
   },
   "outputs": [
    {
     "data": {
      "application/vnd.jupyter.widget-view+json": {
       "model_id": "b00fb69dee37479dba6a43936db83fd5",
       "version_major": 2,
       "version_minor": 0
      },
      "text/plain": [
       "VBox()"
      ]
     },
     "metadata": {},
     "output_type": "display_data"
    },
    {
     "data": {
      "application/vnd.jupyter.widget-view+json": {
       "model_id": "",
       "version_major": 2,
       "version_minor": 0
      },
      "text/plain": [
       "FloatProgress(value=0.0, bar_style='info', description='Progress:', layout=Layout(height='25px', width='50%'),…"
      ]
     },
     "metadata": {},
     "output_type": "display_data"
    },
    {
     "name": "stdout",
     "output_type": "stream",
     "text": [
      "+-------------------+-------+\n",
      "|category           |count  |\n",
      "+-------------------+-------+\n",
      "|actor              |8493701|\n",
      "|actress            |6325097|\n",
      "|self               |6153089|\n",
      "|writer             |4811596|\n",
      "|director           |4179106|\n",
      "|producer           |2197866|\n",
      "|composer           |1313187|\n",
      "|cinematographer    |1300404|\n",
      "|editor             |1197669|\n",
      "|production_designer|285924 |\n",
      "|archive_footage    |209035 |\n",
      "|archive_sound      |2143   |\n",
      "+-------------------+-------+"
     ]
    }
   ],
   "source": []
  },
  {
   "cell_type": "code",
   "execution_count": 68,
   "id": "9706bf67-f8ab-4d24-85c7-a195fa4d8d93",
   "metadata": {
    "execution": {
     "iopub.execute_input": "2023-12-13T21:09:06.031787Z",
     "iopub.status.busy": "2023-12-13T21:09:06.031553Z",
     "iopub.status.idle": "2023-12-13T21:09:47.396246Z",
     "shell.execute_reply": "2023-12-13T21:09:47.395514Z",
     "shell.execute_reply.started": "2023-12-13T21:09:06.031763Z"
    },
    "tags": []
   },
   "outputs": [
    {
     "data": {
      "application/vnd.jupyter.widget-view+json": {
       "model_id": "0c9f98667c214b8da7170f07e8ec10df",
       "version_major": 2,
       "version_minor": 0
      },
      "text/plain": [
       "VBox()"
      ]
     },
     "metadata": {},
     "output_type": "display_data"
    },
    {
     "data": {
      "application/vnd.jupyter.widget-view+json": {
       "model_id": "",
       "version_major": 2,
       "version_minor": 0
      },
      "text/plain": [
       "FloatProgress(value=0.0, bar_style='info', description='Progress:', layout=Layout(height='25px', width='50%'),…"
      ]
     },
     "metadata": {},
     "output_type": "display_data"
    },
    {
     "name": "stdout",
     "output_type": "stream",
     "text": [
      "+-------------------+-------+\n",
      "|       job_category|  count|\n",
      "+-------------------+-------+\n",
      "|              actor|8493701|\n",
      "|            actress|6325097|\n",
      "|               self|6153089|\n",
      "|             writer|4811596|\n",
      "|           director|4179106|\n",
      "|           producer|2197866|\n",
      "|           composer|1313187|\n",
      "|    cinematographer|1300404|\n",
      "|             editor|1197669|\n",
      "|production_designer| 285924|\n",
      "|    archive_footage| 209035|\n",
      "|      archive_sound|   2143|\n",
      "+-------------------+-------+"
     ]
    }
   ],
   "source": [
    "top_job=spark.sql('''\n",
    "SELECT job_category, COUNT( job_category) AS count\n",
    "FROM JobCat\n",
    "WHERE job_category IS NOT NULL\n",
    "GROUP BY job_category\n",
    "ORDER BY count DESC''')\n",
    "top_job.show()"
   ]
  },
  {
   "cell_type": "code",
   "execution_count": 29,
   "id": "eb4608e8-96d1-45d2-9d30-f53b5cd12688",
   "metadata": {
    "execution": {
     "iopub.execute_input": "2023-11-02T20:51:57.082950Z",
     "iopub.status.busy": "2023-11-02T20:51:57.082548Z",
     "iopub.status.idle": "2023-11-02T20:52:22.413357Z",
     "shell.execute_reply": "2023-11-02T20:52:22.412667Z",
     "shell.execute_reply.started": "2023-11-02T20:51:57.082925Z"
    },
    "tags": []
   },
   "outputs": [
    {
     "data": {
      "application/vnd.jupyter.widget-view+json": {
       "model_id": "e881cb7f675d4201a0ec4fc22b9e9971",
       "version_major": 2,
       "version_minor": 0
      },
      "text/plain": [
       "VBox()"
      ]
     },
     "metadata": {},
     "output_type": "display_data"
    },
    {
     "data": {
      "application/vnd.jupyter.widget-view+json": {
       "model_id": "",
       "version_major": 2,
       "version_minor": 0
      },
      "text/plain": [
       "FloatProgress(value=0.0, bar_style='info', description='Progress:', layout=Layout(height='25px', width='50%'),…"
      ]
     },
     "metadata": {},
     "output_type": "display_data"
    },
    {
     "data": {
      "image/png": "[encoded data removed]",
      "text/plain": [
       "<IPython.core.display.Image object>"
      ]
     },
     "metadata": {},
     "output_type": "display_data"
    }
   ],
   "source": []
  },
  {
   "cell_type": "code",
   "execution_count": 96,
   "id": "53c4607d-b42c-415d-8c69-d6dcab61472c",
   "metadata": {
    "execution": {
     "iopub.execute_input": "2023-12-13T22:05:26.828287Z",
     "iopub.status.busy": "2023-12-13T22:05:26.828059Z",
     "iopub.status.idle": "2023-12-13T22:05:27.591953Z",
     "shell.execute_reply": "2023-12-13T22:05:27.591306Z",
     "shell.execute_reply.started": "2023-12-13T22:05:26.828263Z"
    },
    "tags": []
   },
   "outputs": [
    {
     "data": {
      "application/vnd.jupyter.widget-view+json": {
       "model_id": "1a20156b09ae4e8fbb1efc90e31e4acb",
       "version_major": 2,
       "version_minor": 0
      },
      "text/plain": [
       "VBox()"
      ]
     },
     "metadata": {},
     "output_type": "display_data"
    },
    {
     "data": {
      "application/vnd.jupyter.widget-view+json": {
       "model_id": "",
       "version_major": 2,
       "version_minor": 0
      },
      "text/plain": [
       "FloatProgress(value=0.0, bar_style='info', description='Progress:', layout=Layout(height='25px', width='50%'),…"
      ]
     },
     "metadata": {},
     "output_type": "display_data"
    },
    {
     "data": {
      "image/png": "[encoded data removed]",
      "text/plain": [
       "<IPython.core.display.Image object>"
      ]
     },
     "metadata": {},
     "output_type": "display_data"
    }
   ],
   "source": [
    "top_jobdb=top_job.toPandas().head(5).plot.bar(x= 'job_category',y='count',figsize=(10,10), color= 'orange')\n",
    "plt.xlabel('Job Categories')\n",
    "plt.ylabel('Count')  \n",
    "plt.title('Top Job Categories')\n",
    "plt.ylim(3000000,9000000)\n",
    "plt.xticks(rotation=25)\n",
    "%matplot plt\n"
   ]
  },
  {
   "cell_type": "markdown",
   "id": "a4436c54",
   "metadata": {},
   "source": [
    "# PART 4 - Answer to the following questions:"
   ]
  },
  {
   "cell_type": "markdown",
   "id": "4c531a7b-8289-4784-825b-fabad415090b",
   "metadata": {},
   "source": [
    "You will need to join tables to answer the following questions.\n",
    "Your code should meet all the requirements given in the question."
   ]
  },
  {
   "cell_type": "markdown",
   "id": "17273925",
   "metadata": {},
   "source": [
    "## 1) What are the movies in which both Johnny Depp and Helena Bonham Carter have acted together?"
   ]
  },
  {
   "cell_type": "code",
   "execution_count": 30,
   "id": "dfced2cd",
   "metadata": {
    "execution": {
     "iopub.execute_input": "2023-11-02T20:52:22.414791Z",
     "iopub.status.busy": "2023-11-02T20:52:22.414518Z",
     "iopub.status.idle": "2023-11-02T20:53:07.795329Z",
     "shell.execute_reply": "2023-11-02T20:53:07.794537Z",
     "shell.execute_reply.started": "2023-11-02T20:52:22.414757Z"
    }
   },
   "outputs": [
    {
     "data": {
      "application/vnd.jupyter.widget-view+json": {
       "model_id": "66f3b7367b07418580acdaad9dfd79d4",
       "version_major": 2,
       "version_minor": 0
      },
      "text/plain": [
       "VBox()"
      ]
     },
     "metadata": {},
     "output_type": "display_data"
    },
    {
     "data": {
      "application/vnd.jupyter.widget-view+json": {
       "model_id": "",
       "version_major": 2,
       "version_minor": 0
      },
      "text/plain": [
       "FloatProgress(value=0.0, bar_style='info', description='Progress:', layout=Layout(height='25px', width='50%'),…"
      ]
     },
     "metadata": {},
     "output_type": "display_data"
    },
    {
     "name": "stdout",
     "output_type": "stream",
     "text": [
      "+----------------------------------------------+\n",
      "|primaryTitle                                  |\n",
      "+----------------------------------------------+\n",
      "|Dark Shadows                                  |\n",
      "|Sweeney Todd: The Demon Barber of Fleet Street|\n",
      "|Corpse Bride                                  |\n",
      "|Charlie and the Chocolate Factory             |\n",
      "|Alice in Wonderland                           |\n",
      "|Alice Through the Looking Glass               |\n",
      "+----------------------------------------------+"
     ]
    }
   ],
   "source": []
  },
  {
   "cell_type": "code",
   "execution_count": null,
   "id": "a7739d1b-9f90-47d6-8554-1d5d51da96da",
   "metadata": {},
   "outputs": [],
   "source": [
    "name."
   ]
  },
  {
   "cell_type": "code",
   "execution_count": 80,
   "id": "1c8159a9-4e64-46da-a6a9-0f4e731fcb46",
   "metadata": {
    "execution": {
     "iopub.execute_input": "2023-12-13T21:31:52.285252Z",
     "iopub.status.busy": "2023-12-13T21:31:52.285024Z",
     "iopub.status.idle": "2023-12-13T21:31:52.537400Z",
     "shell.execute_reply": "2023-12-13T21:31:52.536759Z",
     "shell.execute_reply.started": "2023-12-13T21:31:52.285228Z"
    },
    "tags": []
   },
   "outputs": [
    {
     "data": {
      "application/vnd.jupyter.widget-view+json": {
       "model_id": "e856007679a74a6e9b1465d50db526d4",
       "version_major": 2,
       "version_minor": 0
      },
      "text/plain": [
       "VBox()"
      ]
     },
     "metadata": {},
     "output_type": "display_data"
    },
    {
     "data": {
      "application/vnd.jupyter.widget-view+json": {
       "model_id": "",
       "version_major": 2,
       "version_minor": 0
      },
      "text/plain": [
       "FloatProgress(value=0.0, bar_style='info', description='Progress:', layout=Layout(height='25px', width='50%'),…"
      ]
     },
     "metadata": {},
     "output_type": "display_data"
    }
   ],
   "source": [
    "jhtconst=spark.sql('''SELECT Principals.tconst\n",
    "FROM Name INNER JOIN Principals ON Name.nconst == Principals.nconst\n",
    "WHERE Name.primaryName == 'Johnny Depp' AND Principals.tconst IN (SELECT Principals.tconst\n",
    "FROM Name INNER JOIN Principals ON Name.nconst == Principals.nconst\n",
    "WHERE Name.primaryName == 'Helena Bonham Carter')\n",
    "''')"
   ]
  },
  {
   "cell_type": "code",
   "execution_count": 83,
   "id": "c8930fee-7552-406f-9c13-a48d42b59ecd",
   "metadata": {
    "execution": {
     "iopub.execute_input": "2023-12-13T21:38:12.612893Z",
     "iopub.status.busy": "2023-12-13T21:38:12.612674Z",
     "iopub.status.idle": "2023-12-13T21:39:42.224363Z",
     "shell.execute_reply": "2023-12-13T21:39:42.223558Z",
     "shell.execute_reply.started": "2023-12-13T21:38:12.612870Z"
    },
    "tags": []
   },
   "outputs": [
    {
     "data": {
      "application/vnd.jupyter.widget-view+json": {
       "model_id": "4bc9e6fabb804368bd4aa6fa06246b5b",
       "version_major": 2,
       "version_minor": 0
      },
      "text/plain": [
       "VBox()"
      ]
     },
     "metadata": {},
     "output_type": "display_data"
    },
    {
     "data": {
      "application/vnd.jupyter.widget-view+json": {
       "model_id": "",
       "version_major": 2,
       "version_minor": 0
      },
      "text/plain": [
       "FloatProgress(value=0.0, bar_style='info', description='Progress:', layout=Layout(height='25px', width='50%'),…"
      ]
     },
     "metadata": {},
     "output_type": "display_data"
    },
    {
     "name": "stdout",
     "output_type": "stream",
     "text": [
      "+----------------------------------------------+\n",
      "|primaryTitle                                  |\n",
      "+----------------------------------------------+\n",
      "|Dark Shadows                                  |\n",
      "|Sweeney Todd: The Demon Barber of Fleet Street|\n",
      "|Alice Through the Looking Glass               |\n",
      "|Alice in Wonderland                           |\n",
      "|Charlie and the Chocolate Factory             |\n",
      "|Corpse Bride                                  |\n",
      "+----------------------------------------------+"
     ]
    }
   ],
   "source": [
    "jhtconst.join(title, title.tconst == jhtconst.tconst, 'inner').select(title.primaryTitle).filter(title.titleType=='movie').show(truncate=False)"
   ]
  },
  {
   "cell_type": "code",
   "execution_count": null,
   "id": "b998aa9a-64e9-4539-a33e-3e1c1ffe1842",
   "metadata": {},
   "outputs": [],
   "source": []
  },
  {
   "cell_type": "markdown",
   "id": "a43ca52f",
   "metadata": {},
   "source": [
    "## 2) What are the movies in which Brad Pitt has acted since 2010?"
   ]
  },
  {
   "cell_type": "code",
   "execution_count": 31,
   "id": "380d9cbf",
   "metadata": {
    "execution": {
     "iopub.execute_input": "2023-11-02T20:53:07.796413Z",
     "iopub.status.busy": "2023-11-02T20:53:07.796247Z",
     "iopub.status.idle": "2023-11-02T20:53:49.188714Z",
     "shell.execute_reply": "2023-11-02T20:53:49.187943Z",
     "shell.execute_reply.started": "2023-11-02T20:53:07.796393Z"
    }
   },
   "outputs": [
    {
     "data": {
      "application/vnd.jupyter.widget-view+json": {
       "model_id": "7968995fea164e2b8c75e9383e9e1f11",
       "version_major": 2,
       "version_minor": 0
      },
      "text/plain": [
       "VBox()"
      ]
     },
     "metadata": {},
     "output_type": "display_data"
    },
    {
     "data": {
      "application/vnd.jupyter.widget-view+json": {
       "model_id": "",
       "version_major": 2,
       "version_minor": 0
      },
      "text/plain": [
       "FloatProgress(value=0.0, bar_style='info', description='Progress:', layout=Layout(height='25px', width='50%'),…"
      ]
     },
     "metadata": {},
     "output_type": "display_data"
    },
    {
     "name": "stdout",
     "output_type": "stream",
     "text": [
      "+---------------------------------+---------+\n",
      "|primaryTitle                     |startYear|\n",
      "+---------------------------------+---------+\n",
      "|Babylon                          |2021     |\n",
      "|Once Upon a Time ... in Hollywood|2019     |\n",
      "|Ad Astra                         |2019     |\n",
      "|War Machine                      |2017     |\n",
      "|Allied                           |2016     |\n",
      "|The Big Short                    |2015     |\n",
      "|By the Sea                       |2015     |\n",
      "|Fury                             |2014     |\n",
      "|World War Z                      |2013     |\n",
      "|12 Years a Slave                 |2013     |\n",
      "|Killing Them Softly              |2012     |\n",
      "|The Tree of Life                 |2011     |\n",
      "|Moneyball                        |2011     |\n",
      "+---------------------------------+---------+"
     ]
    }
   ],
   "source": []
  },
  {
   "cell_type": "code",
   "execution_count": null,
   "id": "a974b07e-b274-4bf2-aa5f-28ce137cf24e",
   "metadata": {},
   "outputs": [],
   "source": []
  },
  {
   "cell_type": "code",
   "execution_count": 87,
   "id": "40bdce71-06a9-41f0-aac5-9bf2517a6823",
   "metadata": {
    "execution": {
     "iopub.execute_input": "2023-12-13T21:52:04.652688Z",
     "iopub.status.busy": "2023-12-13T21:52:04.652329Z",
     "iopub.status.idle": "2023-12-13T21:53:00.051053Z",
     "shell.execute_reply": "2023-12-13T21:53:00.050416Z",
     "shell.execute_reply.started": "2023-12-13T21:52:04.652658Z"
    },
    "tags": []
   },
   "outputs": [
    {
     "data": {
      "application/vnd.jupyter.widget-view+json": {
       "model_id": "e5d793ade3764995ab914ba455161513",
       "version_major": 2,
       "version_minor": 0
      },
      "text/plain": [
       "VBox()"
      ]
     },
     "metadata": {},
     "output_type": "display_data"
    },
    {
     "data": {
      "application/vnd.jupyter.widget-view+json": {
       "model_id": "",
       "version_major": 2,
       "version_minor": 0
      },
      "text/plain": [
       "FloatProgress(value=0.0, bar_style='info', description='Progress:', layout=Layout(height='25px', width='50%'),…"
      ]
     },
     "metadata": {},
     "output_type": "display_data"
    },
    {
     "name": "stdout",
     "output_type": "stream",
     "text": [
      "+---------------------------------+---------+\n",
      "|primaryTitle                     |startYear|\n",
      "+---------------------------------+---------+\n",
      "|By the Sea                       |2015     |\n",
      "|Babylon                          |2021     |\n",
      "|The Tree of Life                 |2011     |\n",
      "|12 Years a Slave                 |2013     |\n",
      "|The Big Short                    |2015     |\n",
      "|Fury                             |2014     |\n",
      "|Moneyball                        |2011     |\n",
      "|Killing Them Softly              |2012     |\n",
      "|Allied                           |2016     |\n",
      "|War Machine                      |2017     |\n",
      "|Ad Astra                         |2019     |\n",
      "|World War Z                      |2013     |\n",
      "|Once Upon a Time ... in Hollywood|2019     |\n",
      "+---------------------------------+---------+"
     ]
    }
   ],
   "source": [
    "spark.sql('''SELECT primaryTitle, startYear\n",
    "FROM Title\n",
    "WHERE tconst IN (SELECT Principals.tconst\n",
    "FROM Name INNER JOIN Principals ON Name.nconst == Principals.nconst\n",
    "WHERE Name.primaryName == 'Brad Pitt' AND Principals.category == 'actor') AND titleType == 'movie' AND startYear > 2010''').show(truncate=False)\n"
   ]
  },
  {
   "cell_type": "code",
   "execution_count": null,
   "id": "d265a6f8-e656-4b2a-81ec-0450bab83b9c",
   "metadata": {},
   "outputs": [],
   "source": [
    "\n"
   ]
  },
  {
   "cell_type": "markdown",
   "id": "084db6f3",
   "metadata": {},
   "source": [
    "## 3) How many movies has Zendaya acted in each year?"
   ]
  },
  {
   "cell_type": "code",
   "execution_count": 32,
   "id": "0f7d1874",
   "metadata": {
    "execution": {
     "iopub.execute_input": "2023-11-02T20:53:49.190051Z",
     "iopub.status.busy": "2023-11-02T20:53:49.189805Z",
     "iopub.status.idle": "2023-11-02T20:54:30.580874Z",
     "shell.execute_reply": "2023-11-02T20:54:30.580073Z",
     "shell.execute_reply.started": "2023-11-02T20:53:49.190018Z"
    }
   },
   "outputs": [
    {
     "data": {
      "application/vnd.jupyter.widget-view+json": {
       "model_id": "aace5cf80da14572bd34957cbd67935b",
       "version_major": 2,
       "version_minor": 0
      },
      "text/plain": [
       "VBox()"
      ]
     },
     "metadata": {},
     "output_type": "display_data"
    },
    {
     "data": {
      "application/vnd.jupyter.widget-view+json": {
       "model_id": "",
       "version_major": 2,
       "version_minor": 0
      },
      "text/plain": [
       "FloatProgress(value=0.0, bar_style='info', description='Progress:', layout=Layout(height='25px', width='50%'),…"
      ]
     },
     "metadata": {},
     "output_type": "display_data"
    },
    {
     "name": "stdout",
     "output_type": "stream",
     "text": [
      "+---------+-----+\n",
      "|startYear|count|\n",
      "+---------+-----+\n",
      "|2020     |1    |\n",
      "|2018     |2    |\n",
      "|2017     |1    |\n",
      "+---------+-----+"
     ]
    }
   ],
   "source": []
  },
  {
   "cell_type": "code",
   "execution_count": null,
   "id": "6af2df8a-449c-4d80-a9e8-a0fe1be51778",
   "metadata": {},
   "outputs": [],
   "source": []
  },
  {
   "cell_type": "code",
   "execution_count": 92,
   "id": "c2823268-bbd7-4f76-8f9a-85753ddad80c",
   "metadata": {
    "execution": {
     "iopub.execute_input": "2023-12-13T22:00:05.669460Z",
     "iopub.status.busy": "2023-12-13T22:00:05.669232Z",
     "iopub.status.idle": "2023-12-13T22:01:07.088350Z",
     "shell.execute_reply": "2023-12-13T22:01:07.087612Z",
     "shell.execute_reply.started": "2023-12-13T22:00:05.669435Z"
    },
    "tags": []
   },
   "outputs": [
    {
     "data": {
      "application/vnd.jupyter.widget-view+json": {
       "model_id": "2dc24139e43b40abb900993bc4ea0c4b",
       "version_major": 2,
       "version_minor": 0
      },
      "text/plain": [
       "VBox()"
      ]
     },
     "metadata": {},
     "output_type": "display_data"
    },
    {
     "data": {
      "application/vnd.jupyter.widget-view+json": {
       "model_id": "",
       "version_major": 2,
       "version_minor": 0
      },
      "text/plain": [
       "FloatProgress(value=0.0, bar_style='info', description='Progress:', layout=Layout(height='25px', width='50%'),…"
      ]
     },
     "metadata": {},
     "output_type": "display_data"
    },
    {
     "name": "stdout",
     "output_type": "stream",
     "text": [
      "+---------+-----+\n",
      "|startYear|count|\n",
      "+---------+-----+\n",
      "|     2018|    2|\n",
      "|     2017|    1|\n",
      "|     2020|    1|\n",
      "+---------+-----+"
     ]
    }
   ],
   "source": [
    "spark.sql('''SELECT startYear, COUNT(tconst) AS count\n",
    "FROM Title\n",
    "WHERE tconst IN (SELECT Principals.tconst\n",
    "FROM Name INNER JOIN Principals ON Name.nconst == Principals.nconst\n",
    "WHERE Name.primaryName == 'Zendaya') AND titleType == 'movie' AND startYear >2010 AND startYear<2023\n",
    "GROUP BY startYear''').show()\n"
   ]
  },
  {
   "cell_type": "code",
   "execution_count": null,
   "id": "549439a2-2fd6-4206-a142-3111f4dac2fb",
   "metadata": {},
   "outputs": [],
   "source": [
    "\n"
   ]
  },
  {
   "cell_type": "markdown",
   "id": "c7ba3bde",
   "metadata": {},
   "source": [
    "## 4) Which movies, released in 2019, have an average rating exceeding 9.7?"
   ]
  },
  {
   "cell_type": "code",
   "execution_count": 33,
   "id": "294883c2",
   "metadata": {
    "execution": {
     "iopub.execute_input": "2023-11-02T20:54:30.582335Z",
     "iopub.status.busy": "2023-11-02T20:54:30.582077Z",
     "iopub.status.idle": "2023-11-02T20:54:37.878869Z",
     "shell.execute_reply": "2023-11-02T20:54:37.878131Z",
     "shell.execute_reply.started": "2023-11-02T20:54:30.582300Z"
    }
   },
   "outputs": [
    {
     "data": {
      "application/vnd.jupyter.widget-view+json": {
       "model_id": "891856c0642441dd8ffff84997715f20",
       "version_major": 2,
       "version_minor": 0
      },
      "text/plain": [
       "VBox()"
      ]
     },
     "metadata": {},
     "output_type": "display_data"
    },
    {
     "data": {
      "application/vnd.jupyter.widget-view+json": {
       "model_id": "",
       "version_major": 2,
       "version_minor": 0
      },
      "text/plain": [
       "FloatProgress(value=0.0, bar_style='info', description='Progress:', layout=Layout(height='25px', width='50%'),…"
      ]
     },
     "metadata": {},
     "output_type": "display_data"
    },
    {
     "name": "stdout",
     "output_type": "stream",
     "text": [
      "+-------------------------------------------------+-------------+\n",
      "|PrimaryTitle                                     |averageRating|\n",
      "+-------------------------------------------------+-------------+\n",
      "|Bu Can Var Oldugu Sürece                         |10.0         |\n",
      "|L'Enfant Terrible                                |10.0         |\n",
      "|A Grunt's Life                                   |10.0         |\n",
      "|Kirket                                           |10.0         |\n",
      "|Our Scripted Life                                |10.0         |\n",
      "|The Twilight Zone: A 60th Anniversary Celebration|10.0         |\n",
      "|The Butcher Baronet                              |10.0         |\n",
      "|A Medicine for the Mind                          |10.0         |\n",
      "|Love in Kilnerry                                 |10.0         |\n",
      "|Superhombre                                      |9.9          |\n",
      "|Puritan: All of Life to The Glory of God         |9.9          |\n",
      "|The Cardinal                                     |9.9          |\n",
      "|Square One                                       |9.8          |\n",
      "|Kamen Rider Zi-O: Over Quartzer                  |9.8          |\n",
      "|Time and motion                                  |9.8          |\n",
      "|We Shall Not Die Now                             |9.8          |\n",
      "|From Shock to Awe                                |9.8          |\n",
      "|Randhawa                                         |9.8          |\n",
      "|Gini Helida Kathe                                |9.8          |\n",
      "+-------------------------------------------------+-------------+"
     ]
    }
   ],
   "source": []
  },
  {
   "cell_type": "code",
   "execution_count": null,
   "id": "41eec28f-5210-4f04-8e10-32e05bb81901",
   "metadata": {},
   "outputs": [],
   "source": []
  },
  {
   "cell_type": "code",
   "execution_count": 99,
   "id": "e7e95a1d-3244-48ab-a440-c0d020b6a322",
   "metadata": {
    "execution": {
     "iopub.execute_input": "2023-12-13T22:09:02.490452Z",
     "iopub.status.busy": "2023-12-13T22:09:02.490138Z",
     "iopub.status.idle": "2023-12-13T22:09:13.815429Z",
     "shell.execute_reply": "2023-12-13T22:09:13.814715Z",
     "shell.execute_reply.started": "2023-12-13T22:09:02.490414Z"
    },
    "tags": []
   },
   "outputs": [
    {
     "data": {
      "application/vnd.jupyter.widget-view+json": {
       "model_id": "df1ea2350b844891b7a21007e7a731fa",
       "version_major": 2,
       "version_minor": 0
      },
      "text/plain": [
       "VBox()"
      ]
     },
     "metadata": {},
     "output_type": "display_data"
    },
    {
     "data": {
      "application/vnd.jupyter.widget-view+json": {
       "model_id": "",
       "version_major": 2,
       "version_minor": 0
      },
      "text/plain": [
       "FloatProgress(value=0.0, bar_style='info', description='Progress:', layout=Layout(height='25px', width='50%'),…"
      ]
     },
     "metadata": {},
     "output_type": "display_data"
    },
    {
     "name": "stdout",
     "output_type": "stream",
     "text": [
      "+-------------------------------------------------+-------------+\n",
      "|primaryTitle                                     |averageRating|\n",
      "+-------------------------------------------------+-------------+\n",
      "|Love in Kilnerry                                 |10.0         |\n",
      "|A Grunt's Life                                   |10.0         |\n",
      "|The Butcher Baronet                              |10.0         |\n",
      "|The Twilight Zone: A 60th Anniversary Celebration|10.0         |\n",
      "|A Medicine for the Mind                          |10.0         |\n",
      "|Kirket                                           |10.0         |\n",
      "|L'Enfant Terrible                                |10.0         |\n",
      "|Our Scripted Life                                |10.0         |\n",
      "|Bu Can Var Oldugu Sürece                         |10.0         |\n",
      "|The Cardinal                                     |9.9          |\n",
      "|Puritan: All of Life to The Glory of God         |9.9          |\n",
      "|Superhombre                                      |9.9          |\n",
      "|From Shock to Awe                                |9.8          |\n",
      "|We Shall Not Die Now                             |9.8          |\n",
      "|Randhawa                                         |9.8          |\n",
      "|Kamen Rider Zi-O: Over Quartzer                  |9.8          |\n",
      "|Gini Helida Kathe                                |9.8          |\n",
      "|Time and motion                                  |9.8          |\n",
      "|Square One                                       |9.8          |\n",
      "+-------------------------------------------------+-------------+"
     ]
    }
   ],
   "source": [
    "spark.sql('''SELECT Title.primaryTitle, Ratings.averageRating\n",
    "FROM Title INNER JOIN Ratings ON Title.tconst == Ratings.tconst\n",
    "Where Title.startYear == 2019 AND Title.titleType == 'movie' AND Ratings.averageRating >9.7\n",
    "ORDER BY Ratings.averageRating Desc\n",
    "''').show(truncate=False)\n"
   ]
  },
  {
   "cell_type": "code",
   "execution_count": null,
   "id": "a78a5f0b-a65b-424a-9ad0-1ea10b6ff463",
   "metadata": {},
   "outputs": [],
   "source": []
  },
  {
   "cell_type": "markdown",
   "id": "a884583a-e943-48c3-afdc-54ff6f51ff97",
   "metadata": {},
   "source": [
    "## 5) Among the titles in which Clint Eastwood and Harrison Ford have acted, who has the higher average rating?\n",
    "\n",
    "First, calculate the average rating of each actor and then show the actor with higher average rating."
   ]
  },
  {
   "cell_type": "code",
   "execution_count": 34,
   "id": "df2500aa-0304-4170-9ae2-c15d28473c1b",
   "metadata": {
    "execution": {
     "iopub.execute_input": "2023-11-02T20:54:37.879991Z",
     "iopub.status.busy": "2023-11-02T20:54:37.879817Z",
     "iopub.status.idle": "2023-11-02T20:55:51.391296Z",
     "shell.execute_reply": "2023-11-02T20:55:51.390640Z",
     "shell.execute_reply.started": "2023-11-02T20:54:37.879970Z"
    },
    "tags": []
   },
   "outputs": [
    {
     "data": {
      "application/vnd.jupyter.widget-view+json": {
       "model_id": "5711b69b95e547b98968947fff225280",
       "version_major": 2,
       "version_minor": 0
      },
      "text/plain": [
       "VBox()"
      ]
     },
     "metadata": {},
     "output_type": "display_data"
    },
    {
     "data": {
      "application/vnd.jupyter.widget-view+json": {
       "model_id": "",
       "version_major": 2,
       "version_minor": 0
      },
      "text/plain": [
       "FloatProgress(value=0.0, bar_style='info', description='Progress:', layout=Layout(height='25px', width='50%'),…"
      ]
     },
     "metadata": {},
     "output_type": "display_data"
    },
    {
     "name": "stdout",
     "output_type": "stream",
     "text": [
      "The average rating of Harrison Ford is 6.75\n",
      "The average rating of Clint Eastwood is 7.71\n",
      "Clint Eastwood has a higher average rating"
     ]
    }
   ],
   "source": []
  },
  {
   "cell_type": "code",
   "execution_count": 174,
   "id": "199c063e-00b0-4361-975a-19313ca916ae",
   "metadata": {
    "execution": {
     "iopub.execute_input": "2023-12-14T00:02:29.716284Z",
     "iopub.status.busy": "2023-12-14T00:02:29.716058Z",
     "iopub.status.idle": "2023-12-14T00:02:29.974557Z",
     "shell.execute_reply": "2023-12-14T00:02:29.973908Z",
     "shell.execute_reply.started": "2023-12-14T00:02:29.716260Z"
    },
    "tags": []
   },
   "outputs": [
    {
     "data": {
      "application/vnd.jupyter.widget-view+json": {
       "model_id": "3e9fe1c0cb214b37994946e2d3ff58ff",
       "version_major": 2,
       "version_minor": 0
      },
      "text/plain": [
       "VBox()"
      ]
     },
     "metadata": {},
     "output_type": "display_data"
    },
    {
     "data": {
      "application/vnd.jupyter.widget-view+json": {
       "model_id": "",
       "version_major": 2,
       "version_minor": 0
      },
      "text/plain": [
       "FloatProgress(value=0.0, bar_style='info', description='Progress:', layout=Layout(height='25px', width='50%'),…"
      ]
     },
     "metadata": {},
     "output_type": "display_data"
    }
   ],
   "source": [
    "harrison=name.join(principals, principals.nconst==name.nconst).filter(name.primaryName== 'Harrison Ford').select(principals.tconst)\n",
    "harrisonavg=ratings.join(harrison, harrison.tconst == ratings.tconst).select(round(avg(ratings.averageRating),2))\n"
   ]
  },
  {
   "cell_type": "code",
   "execution_count": 173,
   "id": "d15e9152-861c-418f-b6e4-8ea890039237",
   "metadata": {
    "execution": {
     "iopub.execute_input": "2023-12-14T00:02:26.808082Z",
     "iopub.status.busy": "2023-12-14T00:02:26.807859Z",
     "iopub.status.idle": "2023-12-14T00:02:27.058187Z",
     "shell.execute_reply": "2023-12-14T00:02:27.057549Z",
     "shell.execute_reply.started": "2023-12-14T00:02:26.808059Z"
    },
    "tags": []
   },
   "outputs": [
    {
     "data": {
      "application/vnd.jupyter.widget-view+json": {
       "model_id": "5f62511f647d4ec19335516bd72533d0",
       "version_major": 2,
       "version_minor": 0
      },
      "text/plain": [
       "VBox()"
      ]
     },
     "metadata": {},
     "output_type": "display_data"
    },
    {
     "data": {
      "application/vnd.jupyter.widget-view+json": {
       "model_id": "",
       "version_major": 2,
       "version_minor": 0
      },
      "text/plain": [
       "FloatProgress(value=0.0, bar_style='info', description='Progress:', layout=Layout(height='25px', width='50%'),…"
      ]
     },
     "metadata": {},
     "output_type": "display_data"
    }
   ],
   "source": [
    "clint=name.join(principals, principals.nconst==name.nconst).filter(name.primaryName== 'Clint Eastwood').select(principals.tconst)\n",
    "clintavg=ratings.join(clint, clint.tconst == ratings.tconst).select(round(avg(ratings.averageRating),2))\n"
   ]
  },
  {
   "cell_type": "code",
   "execution_count": 177,
   "id": "c1bd682b-43da-4439-9684-ff22dccf8bb4",
   "metadata": {
    "execution": {
     "iopub.execute_input": "2023-12-14T00:08:25.641152Z",
     "iopub.status.busy": "2023-12-14T00:08:25.640928Z",
     "iopub.status.idle": "2023-12-14T00:10:05.215876Z",
     "shell.execute_reply": "2023-12-14T00:10:05.215234Z",
     "shell.execute_reply.started": "2023-12-14T00:08:25.641129Z"
    },
    "tags": []
   },
   "outputs": [
    {
     "data": {
      "application/vnd.jupyter.widget-view+json": {
       "model_id": "5bca0f50e5e04d21b4f7bab2b38ac2e0",
       "version_major": 2,
       "version_minor": 0
      },
      "text/plain": [
       "VBox()"
      ]
     },
     "metadata": {},
     "output_type": "display_data"
    },
    {
     "data": {
      "application/vnd.jupyter.widget-view+json": {
       "model_id": "",
       "version_major": 2,
       "version_minor": 0
      },
      "text/plain": [
       "FloatProgress(value=0.0, bar_style='info', description='Progress:', layout=Layout(height='25px', width='50%'),…"
      ]
     },
     "metadata": {},
     "output_type": "display_data"
    },
    {
     "name": "stdout",
     "output_type": "stream",
     "text": [
      "The avg rating of Clint Eastwood is: 7.32\n",
      "The avg rating of Harrison Ford is: 6.76"
     ]
    }
   ],
   "source": [
    "print('The avg rating of Clint Eastwood is:', clintavg.head()[0])\n",
    "print('The avg rating of Harrison Ford is:',harrisonavg.head()[0])"
   ]
  },
  {
   "cell_type": "code",
   "execution_count": 175,
   "id": "e96b3ede-d49c-4501-abb7-70ad9ecc74ae",
   "metadata": {
    "execution": {
     "iopub.execute_input": "2023-12-14T00:03:28.487768Z",
     "iopub.status.busy": "2023-12-14T00:03:28.487546Z",
     "iopub.status.idle": "2023-12-14T00:05:06.046148Z",
     "shell.execute_reply": "2023-12-14T00:05:06.045507Z",
     "shell.execute_reply.started": "2023-12-14T00:03:28.487743Z"
    },
    "tags": []
   },
   "outputs": [
    {
     "data": {
      "application/vnd.jupyter.widget-view+json": {
       "model_id": "9303f6f1ce1f46049d31c9ffdf17c99f",
       "version_major": 2,
       "version_minor": 0
      },
      "text/plain": [
       "VBox()"
      ]
     },
     "metadata": {},
     "output_type": "display_data"
    },
    {
     "data": {
      "application/vnd.jupyter.widget-view+json": {
       "model_id": "",
       "version_major": 2,
       "version_minor": 0
      },
      "text/plain": [
       "FloatProgress(value=0.0, bar_style='info', description='Progress:', layout=Layout(height='25px', width='50%'),…"
      ]
     },
     "metadata": {},
     "output_type": "display_data"
    },
    {
     "name": "stdout",
     "output_type": "stream",
     "text": [
      "Clint Eastwood has a higher average rating"
     ]
    }
   ],
   "source": [
    "\n",
    "if clintavg.head()[0] > harrisonavg.head()[0]:\n",
    "\tprint('Clint Eastwood has a higher average rating')\n",
    "else:\n",
    "\tprint('Harrison Ford has a higher average rating')"
   ]
  },
  {
   "cell_type": "markdown",
   "id": "c3fd460a-40ed-459c-b277-26f0e6800bc7",
   "metadata": {},
   "source": [
    "## 6) What is the movie(s) with the highest average rating among those in which Chris Evans has acted?\n",
    "\n",
    "Write your code in a way that it finds and displays all movies with the highest rating, even if there's more than one. "
   ]
  },
  {
   "cell_type": "code",
   "execution_count": 35,
   "id": "5202e408-58aa-45d9-88ac-4cca6d7a9d81",
   "metadata": {
    "execution": {
     "iopub.execute_input": "2023-11-02T20:55:51.392407Z",
     "iopub.status.busy": "2023-11-02T20:55:51.392238Z",
     "iopub.status.idle": "2023-11-02T20:57:16.940185Z",
     "shell.execute_reply": "2023-11-02T20:57:16.939401Z",
     "shell.execute_reply.started": "2023-11-02T20:55:51.392387Z"
    },
    "tags": []
   },
   "outputs": [
    {
     "data": {
      "application/vnd.jupyter.widget-view+json": {
       "model_id": "19f602fd41324f05a467ac876e21d388",
       "version_major": 2,
       "version_minor": 0
      },
      "text/plain": [
       "VBox()"
      ]
     },
     "metadata": {},
     "output_type": "display_data"
    },
    {
     "data": {
      "application/vnd.jupyter.widget-view+json": {
       "model_id": "",
       "version_major": 2,
       "version_minor": 0
      },
      "text/plain": [
       "FloatProgress(value=0.0, bar_style='info', description='Progress:', layout=Layout(height='25px', width='50%'),…"
      ]
     },
     "metadata": {},
     "output_type": "display_data"
    },
    {
     "name": "stdout",
     "output_type": "stream",
     "text": [
      "+----------------------+-------------+\n",
      "|primaryTitle          |averageRating|\n",
      "+----------------------+-------------+\n",
      "|Avengers: Infinity War|8.5          |\n",
      "|Avengers: Endgame     |8.5          |\n",
      "+----------------------+-------------+"
     ]
    }
   ],
   "source": []
  },
  {
   "cell_type": "code",
   "execution_count": 122,
   "id": "8a9e2533-7510-46d6-aa17-390d49150b24",
   "metadata": {
    "execution": {
     "iopub.execute_input": "2023-12-13T22:42:26.333660Z",
     "iopub.status.busy": "2023-12-13T22:42:26.333439Z",
     "iopub.status.idle": "2023-12-13T22:43:27.765908Z",
     "shell.execute_reply": "2023-12-13T22:43:27.765212Z",
     "shell.execute_reply.started": "2023-12-13T22:42:26.333637Z"
    },
    "tags": []
   },
   "outputs": [
    {
     "data": {
      "application/vnd.jupyter.widget-view+json": {
       "model_id": "c8cef138d1c54ae59a1a083b63e58416",
       "version_major": 2,
       "version_minor": 0
      },
      "text/plain": [
       "VBox()"
      ]
     },
     "metadata": {},
     "output_type": "display_data"
    },
    {
     "data": {
      "application/vnd.jupyter.widget-view+json": {
       "model_id": "",
       "version_major": 2,
       "version_minor": 0
      },
      "text/plain": [
       "FloatProgress(value=0.0, bar_style='info', description='Progress:', layout=Layout(height='25px', width='50%'),…"
      ]
     },
     "metadata": {},
     "output_type": "display_data"
    },
    {
     "name": "stdout",
     "output_type": "stream",
     "text": [
      "+--------------------+-------------+\n",
      "|        primaryTitle|averageRating|\n",
      "+--------------------+-------------+\n",
      "|     La rubia Mireya|          9.1|\n",
      "|        La ragazzola|          9.1|\n",
      "|    Clouds at Sunset|          9.1|\n",
      "|           Confusion|          9.1|\n",
      "|Roppa no shinkon ...|          9.1|\n",
      "|          Városlakók|          9.1|\n",
      "|        Nufarul rosu|          9.1|\n",
      "|    A Pound of Flesh|          9.1|\n",
      "|Benny Hill: A Tri...|          9.1|\n",
      "|     Tinik sa dibdib|          9.1|\n",
      "|           Yesterday|          9.1|\n",
      "|  Gjeneral gramafoni|          9.1|\n",
      "|Një shoqe nga fshati|          9.1|\n",
      "|    Love in the City|          9.1|\n",
      "|Mercedes Sosa: co...|          9.1|\n",
      "|             Igorota|          9.1|\n",
      "|         Remembrance|          9.1|\n",
      "|Letting Go: A Hos...|          9.1|\n",
      "|The Prince's Trus...|          9.1|\n",
      "|      Highway Amazon|          9.1|\n",
      "+--------------------+-------------+\n",
      "only showing top 20 rows"
     ]
    }
   ],
   "source": [
    "\n",
    "\n",
    "spark.sql('''SELECT Title.primaryTitle,  Ratings.averageRating \n",
    "FROM Ratings INNER JOIN Title ON Ratings.tconst==Title.tconst\n",
    "\n",
    "WHERE Title.titleType == 'movie' AND Ratings.averageRating ==\n",
    "(SELECT MAX(averageRating)\n",
    "FROM Ratings  \n",
    "WHERE tconst IN\n",
    "(SELECT Principals.tconst\n",
    "FROM Name INNER JOIN Principals ON Name.nconst == Principals.nconst\n",
    "WHERE Name.primaryName == 'Chris Evans') )\n",
    "''').show()\n"
   ]
  },
  {
   "cell_type": "code",
   "execution_count": 197,
   "id": "dbf5d1f7-8d27-461c-84c9-a46a69a2e2a4",
   "metadata": {
    "execution": {
     "iopub.execute_input": "2023-12-14T00:51:50.676420Z",
     "iopub.status.busy": "2023-12-14T00:51:50.676176Z",
     "iopub.status.idle": "2023-12-14T00:52:44.103348Z",
     "shell.execute_reply": "2023-12-14T00:52:44.102560Z",
     "shell.execute_reply.started": "2023-12-14T00:51:50.676394Z"
    },
    "tags": []
   },
   "outputs": [
    {
     "data": {
      "application/vnd.jupyter.widget-view+json": {
       "model_id": "7ac8a3316a694e5f9fee53083bc09cd9",
       "version_major": 2,
       "version_minor": 0
      },
      "text/plain": [
       "VBox()"
      ]
     },
     "metadata": {},
     "output_type": "display_data"
    },
    {
     "data": {
      "application/vnd.jupyter.widget-view+json": {
       "model_id": "",
       "version_major": 2,
       "version_minor": 0
      },
      "text/plain": [
       "FloatProgress(value=0.0, bar_style='info', description='Progress:', layout=Layout(height='25px', width='50%'),…"
      ]
     },
     "metadata": {},
     "output_type": "display_data"
    },
    {
     "name": "stdout",
     "output_type": "stream",
     "text": [
      "+---------+\n",
      "|   tconst|\n",
      "+---------+\n",
      "|tt2779964|\n",
      "|tt2693956|\n",
      "+---------+\n",
      "only showing top 2 rows"
     ]
    }
   ],
   "source": [
    "chrise=name.filter(name.primaryName == 'Chris Evans').join(principals, name.nconst==principals.nconst, 'inner').select(principals.tconst)\n",
    "chrise.show(2)"
   ]
  },
  {
   "cell_type": "code",
   "execution_count": 198,
   "id": "d5a7bd4a-c131-4140-bf1b-ffc04cf259cf",
   "metadata": {
    "execution": {
     "iopub.execute_input": "2023-12-14T00:54:51.078002Z",
     "iopub.status.busy": "2023-12-14T00:54:51.077775Z",
     "iopub.status.idle": "2023-12-14T00:55:56.518599Z",
     "shell.execute_reply": "2023-12-14T00:55:56.517883Z",
     "shell.execute_reply.started": "2023-12-14T00:54:51.077975Z"
    },
    "tags": []
   },
   "outputs": [
    {
     "data": {
      "application/vnd.jupyter.widget-view+json": {
       "model_id": "f81c1f5c7aa240148d298d24e8466486",
       "version_major": 2,
       "version_minor": 0
      },
      "text/plain": [
       "VBox()"
      ]
     },
     "metadata": {},
     "output_type": "display_data"
    },
    {
     "data": {
      "application/vnd.jupyter.widget-view+json": {
       "model_id": "",
       "version_major": 2,
       "version_minor": 0
      },
      "text/plain": [
       "FloatProgress(value=0.0, bar_style='info', description='Progress:', layout=Layout(height='25px', width='50%'),…"
      ]
     },
     "metadata": {},
     "output_type": "display_data"
    },
    {
     "name": "stdout",
     "output_type": "stream",
     "text": [
      "+---------+--------------------+\n",
      "|   tconst|        primaryTitle|\n",
      "+---------+--------------------+\n",
      "|tt0458339|Captain America: ...|\n",
      "|tt0443465|        Before We Go|\n",
      "+---------+--------------------+\n",
      "only showing top 2 rows"
     ]
    }
   ],
   "source": [
    "christitles=chrise.join(title, chrise.tconst == title.tconst, 'inner').filter(title.titleType=='movie'). select(chrise.tconst, title.primaryTitle)\n",
    "christitles.show(2)"
   ]
  },
  {
   "cell_type": "code",
   "execution_count": 202,
   "id": "44fe9e26-0bce-42d8-8735-354bb10f3324",
   "metadata": {
    "execution": {
     "iopub.execute_input": "2023-12-14T00:57:29.858516Z",
     "iopub.status.busy": "2023-12-14T00:57:29.858278Z",
     "iopub.status.idle": "2023-12-14T00:58:35.318772Z",
     "shell.execute_reply": "2023-12-14T00:58:35.318146Z",
     "shell.execute_reply.started": "2023-12-14T00:57:29.858492Z"
    },
    "tags": []
   },
   "outputs": [
    {
     "data": {
      "application/vnd.jupyter.widget-view+json": {
       "model_id": "2791bbb50b47435e8c9b19c0926482d5",
       "version_major": 2,
       "version_minor": 0
      },
      "text/plain": [
       "VBox()"
      ]
     },
     "metadata": {},
     "output_type": "display_data"
    },
    {
     "data": {
      "application/vnd.jupyter.widget-view+json": {
       "model_id": "",
       "version_major": 2,
       "version_minor": 0
      },
      "text/plain": [
       "FloatProgress(value=0.0, bar_style='info', description='Progress:', layout=Layout(height='25px', width='50%'),…"
      ]
     },
     "metadata": {},
     "output_type": "display_data"
    },
    {
     "name": "stdout",
     "output_type": "stream",
     "text": [
      "+---------+--------------------+-------------+\n",
      "|   tconst|        primaryTitle|averageRating|\n",
      "+---------+--------------------+-------------+\n",
      "|tt0458339|Captain America: ...|          6.9|\n",
      "|tt0443465|        Before We Go|          6.8|\n",
      "+---------+--------------------+-------------+\n",
      "only showing top 2 rows"
     ]
    }
   ],
   "source": [
    "ctitlerating= christitles.join(ratings, christitles.tconst==ratings.tconst, 'inner').select(christitles.tconst, christitles.primaryTitle, ratings.averageRating)\n",
    "ctitlerating.show(2)"
   ]
  },
  {
   "cell_type": "code",
   "execution_count": 204,
   "id": "e6087b06-7883-487e-a1ac-6373fb2c1223",
   "metadata": {
    "execution": {
     "iopub.execute_input": "2023-12-14T01:04:11.441680Z",
     "iopub.status.busy": "2023-12-14T01:04:11.441436Z",
     "iopub.status.idle": "2023-12-14T01:05:16.909170Z",
     "shell.execute_reply": "2023-12-14T01:05:16.908399Z",
     "shell.execute_reply.started": "2023-12-14T01:04:11.441654Z"
    },
    "tags": []
   },
   "outputs": [
    {
     "data": {
      "application/vnd.jupyter.widget-view+json": {
       "model_id": "b8fcd9081daf472fb1fefb7f89ac9017",
       "version_major": 2,
       "version_minor": 0
      },
      "text/plain": [
       "VBox()"
      ]
     },
     "metadata": {},
     "output_type": "display_data"
    },
    {
     "data": {
      "application/vnd.jupyter.widget-view+json": {
       "model_id": "",
       "version_major": 2,
       "version_minor": 0
      },
      "text/plain": [
       "FloatProgress(value=0.0, bar_style='info', description='Progress:', layout=Layout(height='25px', width='50%'),…"
      ]
     },
     "metadata": {},
     "output_type": "display_data"
    },
    {
     "name": "stdout",
     "output_type": "stream",
     "text": [
      "+---------+\n",
      "|max_chris|\n",
      "+---------+\n",
      "|      8.5|\n",
      "+---------+"
     ]
    }
   ],
   "source": [
    "mchris=ctitlerating.select(max('averageRating').alias('max_chris'))\n",
    "mchris.show(2)"
   ]
  },
  {
   "cell_type": "code",
   "execution_count": 206,
   "id": "40a7398c-903b-452f-8ed9-2dc05d7369bb",
   "metadata": {
    "execution": {
     "iopub.execute_input": "2023-12-14T01:09:31.587137Z",
     "iopub.status.busy": "2023-12-14T01:09:31.586904Z",
     "iopub.status.idle": "2023-12-14T01:10:49.091713Z",
     "shell.execute_reply": "2023-12-14T01:10:49.090969Z",
     "shell.execute_reply.started": "2023-12-14T01:09:31.587111Z"
    },
    "tags": []
   },
   "outputs": [
    {
     "data": {
      "application/vnd.jupyter.widget-view+json": {
       "model_id": "33217a7929524c849360521057841f3f",
       "version_major": 2,
       "version_minor": 0
      },
      "text/plain": [
       "VBox()"
      ]
     },
     "metadata": {},
     "output_type": "display_data"
    },
    {
     "data": {
      "application/vnd.jupyter.widget-view+json": {
       "model_id": "",
       "version_major": 2,
       "version_minor": 0
      },
      "text/plain": [
       "FloatProgress(value=0.0, bar_style='info', description='Progress:', layout=Layout(height='25px', width='50%'),…"
      ]
     },
     "metadata": {},
     "output_type": "display_data"
    },
    {
     "name": "stdout",
     "output_type": "stream",
     "text": [
      "+--------------------+-------------+\n",
      "|        primaryTitle|averageRating|\n",
      "+--------------------+-------------+\n",
      "|Avengers: Infinit...|          8.5|\n",
      "|   Avengers: Endgame|          8.5|\n",
      "+--------------------+-------------+"
     ]
    }
   ],
   "source": [
    "ctitlerating.join(mchris, ctitlerating.averageRating==mchris.max_chris, 'inner').select( title.primaryTitle, ctitlerating.averageRating).show()"
   ]
  },
  {
   "cell_type": "code",
   "execution_count": null,
   "id": "d020be26-b35f-42c0-ac2e-8b141cf1eb35",
   "metadata": {},
   "outputs": [],
   "source": []
  },
  {
   "cell_type": "markdown",
   "id": "c7086f55-9fa0-40ae-8116-e14ea042d402",
   "metadata": {},
   "source": [
    "## 7) What is the percentage of adult titles in which actors and actresses have acted?"
   ]
  },
  {
   "cell_type": "code",
   "execution_count": 36,
   "id": "d4f96666-b6e2-473d-a566-be5001d7031a",
   "metadata": {
    "execution": {
     "iopub.execute_input": "2023-11-02T20:57:16.941365Z",
     "iopub.status.busy": "2023-11-02T20:57:16.941203Z",
     "iopub.status.idle": "2023-11-02T21:00:39.017599Z",
     "shell.execute_reply": "2023-11-02T21:00:39.016860Z",
     "shell.execute_reply.started": "2023-11-02T20:57:16.941346Z"
    },
    "tags": []
   },
   "outputs": [
    {
     "data": {
      "application/vnd.jupyter.widget-view+json": {
       "model_id": "6a1401ac6ff846119c83ed1bf8c46711",
       "version_major": 2,
       "version_minor": 0
      },
      "text/plain": [
       "VBox()"
      ]
     },
     "metadata": {},
     "output_type": "display_data"
    },
    {
     "data": {
      "application/vnd.jupyter.widget-view+json": {
       "model_id": "",
       "version_major": 2,
       "version_minor": 0
      },
      "text/plain": [
       "FloatProgress(value=0.0, bar_style='info', description='Progress:', layout=Layout(height='25px', width='50%'),…"
      ]
     },
     "metadata": {},
     "output_type": "display_data"
    },
    {
     "name": "stdout",
     "output_type": "stream",
     "text": [
      "The percentage of adult titles actors have acted is: 2.14%\n",
      "The percentage of adult titles actresses have acted is: 3.27%"
     ]
    }
   ],
   "source": []
  },
  {
   "cell_type": "code",
   "execution_count": null,
   "id": "930a2ab9-f42a-4c7a-8a25-b52b31ea2a7c",
   "metadata": {},
   "outputs": [],
   "source": []
  },
  {
   "cell_type": "code",
   "execution_count": 128,
   "id": "9dd2783e-6702-4511-b4bf-c96ab65801d2",
   "metadata": {
    "execution": {
     "iopub.execute_input": "2023-12-13T22:56:47.795682Z",
     "iopub.status.busy": "2023-12-13T22:56:47.795450Z",
     "iopub.status.idle": "2023-12-13T22:56:48.044981Z",
     "shell.execute_reply": "2023-12-13T22:56:48.044350Z",
     "shell.execute_reply.started": "2023-12-13T22:56:47.795657Z"
    },
    "tags": []
   },
   "outputs": [
    {
     "data": {
      "application/vnd.jupyter.widget-view+json": {
       "model_id": "5bccbcc311f4457e9ac85e5dbb6d8588",
       "version_major": 2,
       "version_minor": 0
      },
      "text/plain": [
       "VBox()"
      ]
     },
     "metadata": {},
     "output_type": "display_data"
    },
    {
     "data": {
      "application/vnd.jupyter.widget-view+json": {
       "model_id": "",
       "version_major": 2,
       "version_minor": 0
      },
      "text/plain": [
       "FloatProgress(value=0.0, bar_style='info', description='Progress:', layout=Layout(height='25px', width='50%'),…"
      ]
     },
     "metadata": {},
     "output_type": "display_data"
    }
   ],
   "source": [
    "merged=title.join(principals, title.tconst == principals.tconst, 'inner').select(title.tconst, title.isAdult, principals.category)\n",
    "actors=merged.filter(merged.category == 'actor')\n",
    "actress=merged.filter(merged.category == 'actress')\n",
    "a_actors=merged.filter((merged.isAdult == '1') & (merged.category == 'actor'))\n",
    "a_actresses=merged.filter((merged.isAdult == '1') & (merged.category == 'actress'))\n"
   ]
  },
  {
   "cell_type": "code",
   "execution_count": 138,
   "id": "db1af635-c797-41db-b76b-4860d1c50b88",
   "metadata": {
    "execution": {
     "iopub.execute_input": "2023-12-13T23:13:42.356887Z",
     "iopub.status.busy": "2023-12-13T23:13:42.356629Z",
     "iopub.status.idle": "2023-12-13T23:14:53.842135Z",
     "shell.execute_reply": "2023-12-13T23:14:53.839949Z",
     "shell.execute_reply.started": "2023-12-13T23:13:42.356852Z"
    },
    "tags": []
   },
   "outputs": [
    {
     "data": {
      "application/vnd.jupyter.widget-view+json": {
       "model_id": "34c33807dfd642f4b5706579e931b28d",
       "version_major": 2,
       "version_minor": 0
      },
      "text/plain": [
       "VBox()"
      ]
     },
     "metadata": {},
     "output_type": "display_data"
    },
    {
     "data": {
      "application/vnd.jupyter.widget-view+json": {
       "model_id": "",
       "version_major": 2,
       "version_minor": 0
      },
      "text/plain": [
       "FloatProgress(value=0.0, bar_style='info', description='Progress:', layout=Layout(height='25px', width='50%'),…"
      ]
     },
     "metadata": {},
     "output_type": "display_data"
    }
   ],
   "source": [
    "actorper=(a_actors.count()/actors.count())*100"
   ]
  },
  {
   "cell_type": "code",
   "execution_count": 137,
   "id": "8101c305-f2cc-4afa-ba39-c07690108f49",
   "metadata": {
    "execution": {
     "iopub.execute_input": "2023-12-13T23:12:20.872300Z",
     "iopub.status.busy": "2023-12-13T23:12:20.872069Z",
     "iopub.status.idle": "2023-12-13T23:13:42.355078Z",
     "shell.execute_reply": "2023-12-13T23:13:42.354296Z",
     "shell.execute_reply.started": "2023-12-13T23:12:20.872274Z"
    },
    "tags": []
   },
   "outputs": [
    {
     "data": {
      "application/vnd.jupyter.widget-view+json": {
       "model_id": "28594c1810744f71a0baf186dd94df00",
       "version_major": 2,
       "version_minor": 0
      },
      "text/plain": [
       "VBox()"
      ]
     },
     "metadata": {},
     "output_type": "display_data"
    },
    {
     "data": {
      "application/vnd.jupyter.widget-view+json": {
       "model_id": "",
       "version_major": 2,
       "version_minor": 0
      },
      "text/plain": [
       "FloatProgress(value=0.0, bar_style='info', description='Progress:', layout=Layout(height='25px', width='50%'),…"
      ]
     },
     "metadata": {},
     "output_type": "display_data"
    }
   ],
   "source": [
    "actressper=(a_actresses.count()/actress.count())*100\n"
   ]
  },
  {
   "cell_type": "code",
   "execution_count": 140,
   "id": "b3b721fe-7afc-4063-9fa6-209db8da43e1",
   "metadata": {
    "execution": {
     "iopub.execute_input": "2023-12-13T23:15:16.994225Z",
     "iopub.status.busy": "2023-12-13T23:15:16.994002Z",
     "iopub.status.idle": "2023-12-13T23:15:17.047939Z",
     "shell.execute_reply": "2023-12-13T23:15:17.047314Z",
     "shell.execute_reply.started": "2023-12-13T23:15:16.994200Z"
    },
    "tags": []
   },
   "outputs": [
    {
     "data": {
      "application/vnd.jupyter.widget-view+json": {
       "model_id": "1b5243a61f1e4f4a8214c373606c07e9",
       "version_major": 2,
       "version_minor": 0
      },
      "text/plain": [
       "VBox()"
      ]
     },
     "metadata": {},
     "output_type": "display_data"
    },
    {
     "data": {
      "application/vnd.jupyter.widget-view+json": {
       "model_id": "",
       "version_major": 2,
       "version_minor": 0
      },
      "text/plain": [
       "FloatProgress(value=0.0, bar_style='info', description='Progress:', layout=Layout(height='25px', width='50%'),…"
      ]
     },
     "metadata": {},
     "output_type": "display_data"
    },
    {
     "name": "stdout",
     "output_type": "stream",
     "text": [
      "The percentage of adult titles actors have acted is: 3.0041019023690723 %\n",
      "The percentage of adult titles actresses have acted is: 7.183509611477678 %"
     ]
    }
   ],
   "source": [
    "print('The percentage of adult titles actors have acted is:', actorper, '%')\n",
    "print('The percentage of adult titles actresses have acted is:', actressper, '%')\n"
   ]
  },
  {
   "cell_type": "markdown",
   "id": "08ea8545-0511-472e-b225-c3af64237cd5",
   "metadata": {},
   "source": [
    "## 8) What are the top 10 movie genres with the shortest average runtime?\n",
    "\n",
    "You do not need to join tables in this question."
   ]
  },
  {
   "cell_type": "code",
   "execution_count": 37,
   "id": "067686da-7232-426a-a922-6ca7bca99ab1",
   "metadata": {
    "execution": {
     "iopub.execute_input": "2023-11-02T21:00:39.018738Z",
     "iopub.status.busy": "2023-11-02T21:00:39.018545Z",
     "iopub.status.idle": "2023-11-02T21:00:46.294844Z",
     "shell.execute_reply": "2023-11-02T21:00:46.294054Z",
     "shell.execute_reply.started": "2023-11-02T21:00:39.018716Z"
    },
    "tags": []
   },
   "outputs": [
    {
     "data": {
      "application/vnd.jupyter.widget-view+json": {
       "model_id": "18c5b132d1854f4886c3997d09b1b469",
       "version_major": 2,
       "version_minor": 0
      },
      "text/plain": [
       "VBox()"
      ]
     },
     "metadata": {},
     "output_type": "display_data"
    },
    {
     "data": {
      "application/vnd.jupyter.widget-view+json": {
       "model_id": "",
       "version_major": 2,
       "version_minor": 0
      },
      "text/plain": [
       "FloatProgress(value=0.0, bar_style='info', description='Progress:', layout=Layout(height='25px', width='50%'),…"
      ]
     },
     "metadata": {},
     "output_type": "display_data"
    },
    {
     "name": "stdout",
     "output_type": "stream",
     "text": [
      "+-----------+-------------------+\n",
      "|      genre|avg(runtimeMinutes)|\n",
      "+-----------+-------------------+\n",
      "|      Short|              18.67|\n",
      "|       News|              66.85|\n",
      "|Documentary|              72.68|\n",
      "| Reality-TV|              76.28|\n",
      "|      Adult|              77.18|\n",
      "|    Western|              79.36|\n",
      "|  Talk-Show|              79.43|\n",
      "|  Animation|              80.75|\n",
      "|  Biography|              81.05|\n",
      "|  Film-Noir|              83.76|\n",
      "+-----------+-------------------+\n",
      "only showing top 10 rows"
     ]
    }
   ],
   "source": []
  },
  {
   "cell_type": "code",
   "execution_count": null,
   "id": "38b14a8c-fc21-4baa-b2d1-20d706d0eba3",
   "metadata": {},
   "outputs": [],
   "source": []
  },
  {
   "cell_type": "code",
   "execution_count": null,
   "id": "54824ebc-e92a-43f6-ad36-136db52665c5",
   "metadata": {},
   "outputs": [],
   "source": []
  },
  {
   "cell_type": "code",
   "execution_count": 147,
   "id": "c8744c10-533f-44b0-942d-e55d65ca5e9b",
   "metadata": {
    "execution": {
     "iopub.execute_input": "2023-12-13T23:19:14.645193Z",
     "iopub.status.busy": "2023-12-13T23:19:14.644962Z",
     "iopub.status.idle": "2023-12-13T23:19:33.982619Z",
     "shell.execute_reply": "2023-12-13T23:19:33.981877Z",
     "shell.execute_reply.started": "2023-12-13T23:19:14.645166Z"
    },
    "tags": []
   },
   "outputs": [
    {
     "data": {
      "application/vnd.jupyter.widget-view+json": {
       "model_id": "ade27e9ff74949e5ad8855761e045d98",
       "version_major": 2,
       "version_minor": 0
      },
      "text/plain": [
       "VBox()"
      ]
     },
     "metadata": {},
     "output_type": "display_data"
    },
    {
     "data": {
      "application/vnd.jupyter.widget-view+json": {
       "model_id": "",
       "version_major": 2,
       "version_minor": 0
      },
      "text/plain": [
       "FloatProgress(value=0.0, bar_style='info', description='Progress:', layout=Layout(height='25px', width='50%'),…"
      ]
     },
     "metadata": {},
     "output_type": "display_data"
    },
    {
     "name": "stdout",
     "output_type": "stream",
     "text": [
      "+-----------+---------------+\n",
      "|      genre|average_runtime|\n",
      "+-----------+---------------+\n",
      "|      Short|          18.67|\n",
      "|       News|          66.85|\n",
      "|Documentary|          72.68|\n",
      "| Reality-TV|          76.28|\n",
      "|      Adult|          77.18|\n",
      "|    Western|          79.36|\n",
      "|  Talk-Show|          79.43|\n",
      "|  Animation|          80.75|\n",
      "|  Biography|          81.05|\n",
      "|  Film-Noir|          83.76|\n",
      "+-----------+---------------+\n",
      "only showing top 10 rows"
     ]
    }
   ],
   "source": [
    "spark.sql('''\n",
    "SELECT MovieG.genre, ROUND(AVG(Title.runtimeMinutes),2) AS average_runtime\n",
    "FROM MovieG INNER JOIN Title ON MovieG.tconst=Title.tconst\n",
    "GROUP BY genre\n",
    "Order By average_runtime''').show(10)\n"
   ]
  },
  {
   "cell_type": "markdown",
   "id": "867fc752-8ad8-41dd-a21d-bbae10f7295b",
   "metadata": {},
   "source": [
    "## 9) What are the most common character names for actors and actresses in Romance movies?"
   ]
  },
  {
   "cell_type": "code",
   "execution_count": 38,
   "id": "c757d669-506b-413e-94e0-ee8908fe4327",
   "metadata": {
    "execution": {
     "iopub.execute_input": "2023-11-02T21:00:46.296083Z",
     "iopub.status.busy": "2023-11-02T21:00:46.295904Z",
     "iopub.status.idle": "2023-11-02T21:01:21.650020Z",
     "shell.execute_reply": "2023-11-02T21:01:21.649251Z",
     "shell.execute_reply.started": "2023-11-02T21:00:46.296061Z"
    },
    "tags": []
   },
   "outputs": [
    {
     "data": {
      "application/vnd.jupyter.widget-view+json": {
       "model_id": "e14d4bf028144180b88d87f409aeee7f",
       "version_major": 2,
       "version_minor": 0
      },
      "text/plain": [
       "VBox()"
      ]
     },
     "metadata": {},
     "output_type": "display_data"
    },
    {
     "data": {
      "application/vnd.jupyter.widget-view+json": {
       "model_id": "",
       "version_major": 2,
       "version_minor": 0
      },
      "text/plain": [
       "FloatProgress(value=0.0, bar_style='info', description='Progress:', layout=Layout(height='25px', width='50%'),…"
      ]
     },
     "metadata": {},
     "output_type": "display_data"
    },
    {
     "name": "stdout",
     "output_type": "stream",
     "text": [
      "+--------+-----+----------+\n",
      "|category|count|characters|\n",
      "+--------+-----+----------+\n",
      "| actress|  228|  [\"Anna\"]|\n",
      "|   actor|  182| [\"David\"]|\n",
      "+--------+-----+----------+"
     ]
    }
   ],
   "source": []
  },
  {
   "cell_type": "code",
   "execution_count": null,
   "id": "f121d923-e4d3-4931-bbe3-b00e7c9b0135",
   "metadata": {},
   "outputs": [],
   "source": []
  },
  {
   "cell_type": "code",
   "execution_count": 155,
   "id": "83eff728-0f44-48bf-b252-816432931bf5",
   "metadata": {
    "execution": {
     "iopub.execute_input": "2023-12-13T23:37:45.809866Z",
     "iopub.status.busy": "2023-12-13T23:37:45.809541Z",
     "iopub.status.idle": "2023-12-13T23:38:39.215220Z",
     "shell.execute_reply": "2023-12-13T23:38:39.214560Z",
     "shell.execute_reply.started": "2023-12-13T23:37:45.809828Z"
    },
    "tags": []
   },
   "outputs": [
    {
     "data": {
      "application/vnd.jupyter.widget-view+json": {
       "model_id": "872ff535ef894b93807f0e0fd777bba0",
       "version_major": 2,
       "version_minor": 0
      },
      "text/plain": [
       "VBox()"
      ]
     },
     "metadata": {},
     "output_type": "display_data"
    },
    {
     "data": {
      "application/vnd.jupyter.widget-view+json": {
       "model_id": "",
       "version_major": 2,
       "version_minor": 0
      },
      "text/plain": [
       "FloatProgress(value=0.0, bar_style='info', description='Progress:', layout=Layout(height='25px', width='50%'),…"
      ]
     },
     "metadata": {},
     "output_type": "display_data"
    },
    {
     "name": "stdout",
     "output_type": "stream",
     "text": [
      "+--------+-----+----------+\n",
      "|category|count|characters|\n",
      "+--------+-----+----------+\n",
      "|   actor|23227|        \\N|\n",
      "| actress|15177|        \\N|\n",
      "+--------+-----+----------+"
     ]
    }
   ],
   "source": [
    "spark.sql('''\n",
    "SELECT Principals.category, Count(Principals.characters) AS count, Principals.characters\n",
    "FROM Principals \n",
    "INNER JOIN MovieG ON Principals.tconst==MovieG.tconst\n",
    "WHERE MovieG.genre== 'Romance' \n",
    "AND Principals.characters != '\\\\N'\n",
    "AND (Principals.category == 'actress' OR Principals.category == 'actor')\n",
    "GROUP BY Principals.characters, Principals.category \n",
    "ORDER BY count Desc\n",
    "Limit 2''').show()\n"
   ]
  },
  {
   "cell_type": "code",
   "execution_count": 231,
   "id": "454f68d9-4fb5-4930-95c2-994f24769d59",
   "metadata": {
    "execution": {
     "iopub.execute_input": "2023-12-14T01:37:49.774382Z",
     "iopub.status.busy": "2023-12-14T01:37:49.774159Z",
     "iopub.status.idle": "2023-12-14T01:37:50.025221Z",
     "shell.execute_reply": "2023-12-14T01:37:50.024590Z",
     "shell.execute_reply.started": "2023-12-14T01:37:49.774358Z"
    },
    "tags": []
   },
   "outputs": [
    {
     "data": {
      "application/vnd.jupyter.widget-view+json": {
       "model_id": "0c2db7b453be44d4af98079bc80a6e34",
       "version_major": 2,
       "version_minor": 0
      },
      "text/plain": [
       "VBox()"
      ]
     },
     "metadata": {},
     "output_type": "display_data"
    },
    {
     "data": {
      "application/vnd.jupyter.widget-view+json": {
       "model_id": "",
       "version_major": 2,
       "version_minor": 0
      },
      "text/plain": [
       "FloatProgress(value=0.0, bar_style='info', description='Progress:', layout=Layout(height='25px', width='50%'),…"
      ]
     },
     "metadata": {},
     "output_type": "display_data"
    }
   ],
   "source": [
    "prinfilt=principals.filter(((principals.category == 'actress') |(principals.category == 'actor')) &(principals.characters != '\\\\N')).select(principals.category, principals.characters, principals.tconst)"
   ]
  },
  {
   "cell_type": "code",
   "execution_count": 232,
   "id": "54428c05-9dc9-4d98-9762-aa9e50b6691f",
   "metadata": {
    "execution": {
     "iopub.execute_input": "2023-12-14T01:39:36.279494Z",
     "iopub.status.busy": "2023-12-14T01:39:36.279258Z",
     "iopub.status.idle": "2023-12-14T01:39:36.528706Z",
     "shell.execute_reply": "2023-12-14T01:39:36.528038Z",
     "shell.execute_reply.started": "2023-12-14T01:39:36.279469Z"
    },
    "tags": []
   },
   "outputs": [
    {
     "data": {
      "application/vnd.jupyter.widget-view+json": {
       "model_id": "0a2be8ea3ca247aa949e01b549c6ae4f",
       "version_major": 2,
       "version_minor": 0
      },
      "text/plain": [
       "VBox()"
      ]
     },
     "metadata": {},
     "output_type": "display_data"
    },
    {
     "data": {
      "application/vnd.jupyter.widget-view+json": {
       "model_id": "",
       "version_major": 2,
       "version_minor": 0
      },
      "text/plain": [
       "FloatProgress(value=0.0, bar_style='info', description='Progress:', layout=Layout(height='25px', width='50%'),…"
      ]
     },
     "metadata": {},
     "output_type": "display_data"
    }
   ],
   "source": [
    "nextstep=prinfilt.join(movieg, prinfilt.tconst==movieg.tconst, 'inner'). filter(movieg.genre == 'Romance').select(prinfilt.category, prinfilt.characters, prinfilt.tconst)"
   ]
  },
  {
   "cell_type": "code",
   "execution_count": 233,
   "id": "66e12ed5-d9bc-47df-bc47-5e50bb473aa5",
   "metadata": {
    "execution": {
     "iopub.execute_input": "2023-12-14T01:39:47.806759Z",
     "iopub.status.busy": "2023-12-14T01:39:47.806515Z",
     "iopub.status.idle": "2023-12-14T01:39:48.062550Z",
     "shell.execute_reply": "2023-12-14T01:39:48.061919Z",
     "shell.execute_reply.started": "2023-12-14T01:39:47.806723Z"
    },
    "tags": []
   },
   "outputs": [
    {
     "data": {
      "application/vnd.jupyter.widget-view+json": {
       "model_id": "36a3025f5e674932a10a3d936f6d17b7",
       "version_major": 2,
       "version_minor": 0
      },
      "text/plain": [
       "VBox()"
      ]
     },
     "metadata": {},
     "output_type": "display_data"
    },
    {
     "data": {
      "application/vnd.jupyter.widget-view+json": {
       "model_id": "",
       "version_major": 2,
       "version_minor": 0
      },
      "text/plain": [
       "FloatProgress(value=0.0, bar_style='info', description='Progress:', layout=Layout(height='25px', width='50%'),…"
      ]
     },
     "metadata": {},
     "output_type": "display_data"
    }
   ],
   "source": [
    "nextstep.createOrReplaceTempView('Nextstep')"
   ]
  },
  {
   "cell_type": "code",
   "execution_count": 235,
   "id": "801322b4-f60c-465e-914d-3f233d32f1b2",
   "metadata": {
    "execution": {
     "iopub.execute_input": "2023-12-14T01:41:51.865669Z",
     "iopub.status.busy": "2023-12-14T01:41:51.865436Z",
     "iopub.status.idle": "2023-12-14T01:42:43.261733Z",
     "shell.execute_reply": "2023-12-14T01:42:43.261076Z",
     "shell.execute_reply.started": "2023-12-14T01:41:51.865643Z"
    },
    "tags": []
   },
   "outputs": [
    {
     "data": {
      "application/vnd.jupyter.widget-view+json": {
       "model_id": "d3a824c516b34dcfb79756d426cdd6cd",
       "version_major": 2,
       "version_minor": 0
      },
      "text/plain": [
       "VBox()"
      ]
     },
     "metadata": {},
     "output_type": "display_data"
    },
    {
     "data": {
      "application/vnd.jupyter.widget-view+json": {
       "model_id": "",
       "version_major": 2,
       "version_minor": 0
      },
      "text/plain": [
       "FloatProgress(value=0.0, bar_style='info', description='Progress:', layout=Layout(height='25px', width='50%'),…"
      ]
     },
     "metadata": {},
     "output_type": "display_data"
    },
    {
     "name": "stdout",
     "output_type": "stream",
     "text": [
      "+--------+----------+-----+\n",
      "|category|characters|count|\n",
      "+--------+----------+-----+\n",
      "| actress|  [\"Anna\"]|  228|\n",
      "|   actor| [\"David\"]|  182|\n",
      "+--------+----------+-----+\n",
      "only showing top 2 rows"
     ]
    }
   ],
   "source": [
    "spark.sql('''\n",
    "SELECT category, characters, COUNT(characters) AS count\n",
    "FROM Nextstep\n",
    "WHERE \n",
    "GROUP BY category, characters\n",
    "ORDER BY count DESC ''').show(2)"
   ]
  },
  {
   "cell_type": "code",
   "execution_count": null,
   "id": "238574c9-6df3-48fc-ba68-237236284e7c",
   "metadata": {},
   "outputs": [],
   "source": []
  }
 ],
 "metadata": {
  "kernelspec": {
   "display_name": "PySpark",
   "language": "python",
   "name": "pysparkkernel"
  },
  "language_info": {
   "codemirror_mode": {
    "name": "python",
    "version": 3
   },
   "file_extension": ".py",
   "mimetype": "text/x-python",
   "name": "pyspark",
   "pygments_lexer": "python3"
  }
 },
 "nbformat": 4,
 "nbformat_minor": 5
}
